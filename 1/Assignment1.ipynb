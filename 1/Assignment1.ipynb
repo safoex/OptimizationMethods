{
 "cells": [
  {
   "cell_type": "markdown",
   "metadata": {},
   "source": [
    "# Problem 1\n",
    "\n",
    "**Capacitated facility location**\n",
    "\n",
    "You need to solve a *capacitated facility location* problem. There are a number of clients that can be served by a number of potential facilities. As in the case of a common (uncapacitated) facility location problem, you need to decide which facilities to open (paying the opening cost for each) and which clients to serve at each facility (paying the assignment cost). Each client must be assigned to one opened facility. In addition, you have a cap on how many clients each facility can serve. As usual, you want to minimize the costs.\n",
    "\n",
    "Implement the following algorithms and investigate them. Use the below code to generate the data, and to visualize the results. You are supposed to play with different configurations and problem sizes. Please make your report \n",
    "detailed (otherwise lower amount of points than indicated may be assigned).\n",
    "\n",
    "* (2 points). Implement a **greedy algorithm** for the problem.\n",
    "* (3 points). Implement **some local optimization algorithm**. Try to design powerful moves that are at the same time easy to search through. **Important:** your move should connect the whole domain, i.e. for any pair of feasible solutions, there should exist a sequence of moves from the family you design that transform one solution to the other.\n",
    "* (3 points). Implement the **simulated annealing algorithm** based on the best of your local optimization algorithms. Play with the schedule and see how it affects the results. Compare with the local optimization algorithm that you base upon. Note, that if implemented correctly, simulated annealing should improve over the local optimization algorithm.\n",
    "\n",
    "Below is the Gurobi solution that uses a mixed-integer solver (we will come to that in week 3). You can use it as a reference for small instances (for which it will give you a global optimum), and also reuse the visualization code.\n",
    "\n",
    "Before writing your code, study the cells below to learn variables, convention for the solution format etc."
   ]
  },
  {
   "cell_type": "code",
   "execution_count": 2,
   "metadata": {
    "collapsed": true
   },
   "outputs": [],
   "source": [
    "import numpy as np\n",
    "import scipy as sp\n",
    "from numpy import random\n",
    "from numpy import matlib\n",
    "import matplotlib.pyplot as plt\n",
    "#from gurobipy import GRB\n",
    "#import gurobipy as grb\n",
    "\n",
    "%matplotlib inline\n",
    "\n",
    "class Problem:\n",
    "    def __init__(self, C=20, F=15):\n",
    "        self.C = C\n",
    "        self.F = F\n",
    "        \n",
    "        self.clients = np.random.rand(2, C)    # client positions\n",
    "        self.facilities = np.random.rand(2, F) # facility positions\n",
    "\n",
    "        # maximum number of clients per facility\n",
    "        self.capacities = np.ones((F,), dtype=np.int32)*4;\n",
    "\n",
    "        # assignment cost is defined as the squared distance between a client and a facility\n",
    "        dx = \\\n",
    "            np.matlib.repmat(self.clients[0,:],F,1) - \\\n",
    "            np.matlib.repmat(self.facilities[0,:],C,1).transpose();\n",
    "        dy = \\\n",
    "            np.matlib.repmat(self.clients[1,:],F,1) - \\\n",
    "            np.matlib.repmat(self.facilities[1,:],C,1).transpose();\n",
    "\n",
    "        self.assignment_costs = 3*(dx*dx + dy*dy);\n",
    "\n",
    "        self.opening_costs = np.ones((F,));\n",
    "    \n",
    "    def assign_random_capacities(self):\n",
    "        \"\"\"\n",
    "        Assign more or less random capacities to facilities.\n",
    "        \n",
    "        This is one of the possible ways to change the problem configuration.\n",
    "        In other words, use this function when testing your solution!\n",
    "        \"\"\"\n",
    "        while True:\n",
    "            self.capacities = \\\n",
    "                np.random.randint(2*self.C // self.F, size=self.F) + 1\n",
    "            if sum(self.capacities) > self.C * 1.3:\n",
    "                break\n",
    "    \n",
    "    def assign_random_opening_costs(self):\n",
    "        \"\"\"\n",
    "        Assign more or less random opening costs to facilities.\n",
    "        \n",
    "        Same as above -- use this for your report.\n",
    "        \"\"\"\n",
    "        # could be float, but let it be simple\n",
    "        self.opening_costs = \\\n",
    "            np.random.randint((self.C+self.F-1) // self.F, size=self.F) + 1\n",
    "    \n",
    "    def plot(self, y, assignments, fig=plt):\n",
    "        \"\"\"\n",
    "        Plot the given solution (y, assignments)\n",
    "        \n",
    "        Arguments:\n",
    "        y, assignments -- see Problem.objective().\n",
    "        fig            -- an instance of matplotlib.axes._axes.Axes to draw on.\n",
    "                          Also, can be matplotlib.pyplot, in this case use the default Axes.\n",
    "                          This is useful to compare your results (see \"Results comparison\" section).\n",
    "        \"\"\"\n",
    "        \n",
    "        y = y.astype(np.int32)\n",
    "        assignments = assignments.astype(np.int32)\n",
    "        \n",
    "        for cli,fac in enumerate(assignments):\n",
    "            fig.plot([self.clients[0,cli], self.facilities[0,fac]], \\\n",
    "                     [self.clients[1,cli], self.facilities[1,fac]], c=(.7,.7,.7))\n",
    "            \n",
    "        fig.scatter(self.clients[0,:], self.clients[1,:], s=15.0, c=assignments, \\\n",
    "                    vmin=0, vmax=self.F-1)\n",
    "        \n",
    "        fig.scatter(self.facilities[0,:], self.facilities[1,:], s=54.0, \\\n",
    "                    c=range(self.F), linewidth = [1*el for el in y])\n",
    "        \n",
    "    def objective(self, y, assignments):\n",
    "        \"\"\"\n",
    "        Return objective function value given a solution.\n",
    "        If the solution is infeasible, return infinity.\n",
    "        \n",
    "        Arguments:\n",
    "        y           -- a binary 1D array of size F. y[i] is 1 iff i-th facility is open.\n",
    "        assignments -- an integer 1D array of size C. assignments[i] is index of facility\n",
    "                       that i-th client is assigned to.\n",
    "        \"\"\"\n",
    "        assert len(y) == self.F\n",
    "        assert len(assignments) == self.C\n",
    "        \n",
    "        y = y.astype(np.int32)\n",
    "        assignments = assignments.astype(np.int32)\n",
    "        \n",
    "        retval = sum(is_opened*opening_cost \\\n",
    "                     for is_opened, opening_cost in zip(y, self.opening_costs))\n",
    "        \n",
    "        assignment_counts = np.zeros_like(y)\n",
    "        \n",
    "        for cli,fac in enumerate(assignments):\n",
    "            if not y[fac]:\n",
    "                return np.inf\n",
    "            else:\n",
    "                retval += self.assignment_costs[fac,cli]\n",
    "                assignment_counts[fac] += 1\n",
    "                \n",
    "        if any(assignment_counts > self.capacities):\n",
    "            return np.inf\n",
    "            \n",
    "        return retval\n",
    "        \n",
    "    def solve_gurobi(self, verbose=False):\n",
    "        \"\"\"\n",
    "        Solve the problem using mixed integer program solver.\n",
    "        Return `y, assignments` (see Problem.objective() docstring for format).\n",
    "        \n",
    "        Arguments:\n",
    "        verbose -- controls Gurobi output.\n",
    "        \"\"\"\n",
    "        m = grb.Model(\"facility\")\n",
    "\n",
    "        y = []\n",
    "        for i_f in range(self.F):\n",
    "            y.append(m.addVar(vtype=GRB.BINARY))\n",
    "\n",
    "        x = []    \n",
    "        for i_f in range(self.F):\n",
    "            x.append([])\n",
    "            for i_c in range(self.C):\n",
    "                x[i_f].append(m.addVar(vtype=GRB.BINARY))\n",
    "\n",
    "        # the objective is to minimize the total fixed and variable costs\n",
    "        m.modelSense = GRB.MINIMIZE\n",
    "\n",
    "        # update model to integrate new variables\n",
    "        m.update()\n",
    "\n",
    "        # set optimization objective - minimize sum of fixed costs\n",
    "        obj_summands = []\n",
    "        for i_f in range(self.F):\n",
    "            obj_summands.append(self.opening_costs[i_f]*y[i_f])\n",
    "\n",
    "        for i_f in range(self.F):\n",
    "            for i_c in range(self.C):\n",
    "                obj_summands.append(self.assignment_costs[i_f][i_c]*x[i_f][i_c])\n",
    "\n",
    "        m.setObjective(grb.quicksum(obj_summands))\n",
    "\n",
    "        # set constraints\n",
    "        for i_c in range(self.C):\n",
    "            client_constr_summands = [x[i_f][i_c] for i_f in range(self.F)]\n",
    "            m.addConstr(sum(client_constr_summands), GRB.EQUAL, 1.0)\n",
    "\n",
    "        for i_f in range(self.F):        \n",
    "            facility_constr_summands = [x[i_f][i_c] for i_c in range(self.C)]\n",
    "            m.addConstr(sum(facility_constr_summands), \\\n",
    "                        GRB.LESS_EQUAL, self.capacities[i_f]*y[i_f])       \n",
    "\n",
    "        for i_f in range(self.F):        \n",
    "            for i_c in range(self.C):\n",
    "                m.addConstr(x[i_f][i_c], GRB.LESS_EQUAL, y[i_f])\n",
    "\n",
    "        # optimize\n",
    "        m.setParam(GRB.Param.OutputFlag, verbose)\n",
    "        m.optimize()\n",
    "        \n",
    "        facilities_opened = [y[i_f].X for i_f in range(self.F)]\n",
    "        clients_assignment = \\\n",
    "            [i_f for i_c in range(self.C) for i_f in range(self.F) if x[i_f][i_c].X != 0]\n",
    "        \n",
    "        return facilities_opened, clients_assignment"
   ]
  },
  {
   "cell_type": "markdown",
   "metadata": {},
   "source": [
    "The following example shows `Problem` class usage."
   ]
  },
  {
   "cell_type": "code",
   "execution_count": 5,
   "metadata": {
    "scrolled": false
   },
   "outputs": [
    {
     "data": {
      "text/plain": [
       "Text(0.5,1,'Totally random solution, objective = 41.6253')"
      ]
     },
     "execution_count": 5,
     "metadata": {},
     "output_type": "execute_result"
    },
    {
     "data": {
      "image/png": "[encoded data removed]",
      "text/plain": [
       "<matplotlib.figure.Figure at 0x7f8caa0dae10>"
      ]
     },
     "metadata": {},
     "output_type": "display_data"
    }
   ],
   "source": [
    "# to make results reproducible, be sure to put this line before creating a Problem()\n",
    "np.random.seed(666)\n",
    "\n",
    "problem = Problem()\n",
    "problem.assign_random_capacities()\n",
    "problem.assign_random_opening_costs()\n",
    "\n",
    "# completely random solution\n",
    "open_idx = list(range(problem.F))\n",
    "random.shuffle(open_idx)\n",
    "open_idx = open_idx[:problem.F * 4 // 5] # open 80% of facilities\n",
    "\n",
    "y = np.zeros(problem.F)\n",
    "y[open_idx] = 1\n",
    "\n",
    "from itertools import cycle\n",
    "assignments = np.empty(problem.C)\n",
    "for cli, fac in zip(range(problem.C), cycle(open_idx)):\n",
    "    assignments[cli] = fac\n",
    "\n",
    "ax = plt.figure().gca()\n",
    "problem.plot(y, assignments, ax)\n",
    "ax.set_title('Totally random solution, objective = %.4f' % problem.objective(y, assignments))\n",
    "\n",
    "#ax = plt.figure().gca()\n",
    "#y, assignments = problem.solve_gurobi()\n",
    "#problem.plot(y, assignments, ax)\n",
    "#ax.set_title('Most likely optimal solution, objective = %.4f' % problem.objective(y, assignments))"
   ]
  },
  {
   "cell_type": "markdown",
   "metadata": {},
   "source": [
    "## Greedy algorithm\n",
    "\n",
    "*(Describe your greedy algorithm here)*"
   ]
  },
  {
   "cell_type": "code",
   "execution_count": 36,
   "metadata": {},
   "outputs": [],
   "source": [
    "def solve_greedy(self):\n",
    "    y = np.zeros(self.F, dtype=np.int32)\n",
    "    assignments = np.empty(self.C, dtype=np.int32)\n",
    "    assigned = np.zeros(self.C, dtype=np.bool)\n",
    "    n_assigned = 0\n",
    "    total_cost = 0\n",
    "    while n_assigned < self.C:\n",
    "        min_cost = np.max(np.max(self.assignment_costs)) + np.max(self.opening_costs) + 1\n",
    "        min_c, min_f = 0, 0\n",
    "        #print(self.C, self.F, self.assignment_costs.shape)\n",
    "        for c in range(self.C):\n",
    "            for f in range(self.F):\n",
    "                if not assigned[c] and y[f] < self.capacities[f]:\n",
    "                    if self.assignment_costs[f][c] + (0 if y[f] > 0 else self.opening_costs[f]) < min_cost:\n",
    "                        min_cost = self.assignment_costs[f][c] + (0 if y[f] > 0 else self.opening_costs[f])\n",
    "                        min_c, min_f = c, f\n",
    "        total_cost += min_cost\n",
    "        assigned[c] = True\n",
    "        assignments[c] = f\n",
    "        y[f] += 1\n",
    "        n_assigned += 1\n",
    "    print(total_cost)\n",
    "    y = y > 0\n",
    "    return y, assignments\n",
    "\n",
    "Problem.solve_greedy = solve_greedy"
   ]
  },
  {
   "cell_type": "code",
   "execution_count": 44,
   "metadata": {},
   "outputs": [
    {
     "name": "stdout",
     "output_type": "stream",
     "text": [
      "19.1728945706\n"
     ]
    }
   ],
   "source": [
    "np.random.seed(666)\n",
    "\n",
    "problem = Problem()\n",
    "problem.assign_random_capacities()\n",
    "problem.assign_random_opening_costs()\n",
    "\n",
    "problem.solve_greedy();"
   ]
  },
  {
   "cell_type": "markdown",
   "metadata": {},
   "source": [
    "*(Demonstrate your greedy algorithm here)*"
   ]
  },
  {
   "cell_type": "markdown",
   "metadata": {},
   "source": [
    "## Local optimization algorithm\n",
    "\n",
    "*(Describe your local optimization algorithm here. Make sure that its moves cover the whole solution domain)*"
   ]
  },
  {
   "cell_type": "code",
   "execution_count": null,
   "metadata": {
    "collapsed": true
   },
   "outputs": [],
   "source": [
    "def neighbors_1step(x, y, capacities):\n",
    "    C = np.max(x)\n",
    "    for a in range(x.shape[0]):\n",
    "        for c in range(C):\n",
    "            x_neigh = x.copy()\n",
    "            if y[c] < capacities[c]:\n",
    "                x_neigh[a] = c\n",
    "                yield x_neigh\n",
    "        for b in range(x.shape[0]):\n",
    "            x_neigh = x.copy()\n",
    "            x_neigh[a],x_neigh[b] = x_neigh[b],x_neigh[a]\n",
    "            yield x_neigh\n",
    "\n",
    "def solve_local_optimization(self):\n",
    "    \n",
    "    pass # your code here\n",
    "\n",
    "Problem.solve_local_optimization = solve_local_optimization"
   ]
  },
  {
   "cell_type": "code",
   "execution_count": 78,
   "metadata": {},
   "outputs": [
    {
     "ename": "AttributeError",
     "evalue": "module 'numpy' has no attribute 'swap'",
     "output_type": "error",
     "traceback": [
      "\u001b[0;31m---------------------------------------------------------------------------\u001b[0m",
      "\u001b[0;31mAttributeError\u001b[0m                            Traceback (most recent call last)",
      "\u001b[0;32m<ipython-input-78-380f9a493e5a>\u001b[0m in \u001b[0;36m<module>\u001b[0;34m()\u001b[0m\n\u001b[1;32m      1\u001b[0m \u001b[0ma\u001b[0m \u001b[0;34m=\u001b[0m \u001b[0;36m1\u001b[0m\u001b[0;34m\u001b[0m\u001b[0m\n\u001b[1;32m      2\u001b[0m \u001b[0mb\u001b[0m \u001b[0;34m=\u001b[0m \u001b[0;36m2\u001b[0m\u001b[0;34m\u001b[0m\u001b[0m\n\u001b[0;32m----> 3\u001b[0;31m \u001b[0mnp\u001b[0m\u001b[0;34m.\u001b[0m\u001b[0mswap\u001b[0m\u001b[0;34m(\u001b[0m\u001b[0ma\u001b[0m\u001b[0;34m,\u001b[0m\u001b[0mb\u001b[0m\u001b[0;34m)\u001b[0m\u001b[0;34m\u001b[0m\u001b[0m\n\u001b[0m",
      "\u001b[0;31mAttributeError\u001b[0m: module 'numpy' has no attribute 'swap'"
     ]
    }
   ],
   "source": []
  },
  {
   "cell_type": "markdown",
   "metadata": {},
   "source": [
    "*(Demonstrate your local optimization algorithm here)*"
   ]
  },
  {
   "cell_type": "markdown",
   "metadata": {},
   "source": [
    "## Simulated annealing"
   ]
  },
  {
   "cell_type": "code",
   "execution_count": null,
   "metadata": {
    "collapsed": true
   },
   "outputs": [],
   "source": [
    "def solve_simulated_annealing(self, max_iter=10000, T_0=100, schedule='exp'):\n",
    "    pass # your code here. You can add function parameters as needed.\n",
    "    # You are expected to implement several temperature schedules\n",
    "\n",
    "Problem.solve_simulated_annealing = solve_simulated_annealing"
   ]
  },
  {
   "cell_type": "markdown",
   "metadata": {},
   "source": [
    "*(Demonstrate your simulated annealing algorithm here. Try different sets of parameters and determine the best one)*"
   ]
  },
  {
   "cell_type": "markdown",
   "metadata": {},
   "source": [
    "## Results comparison"
   ]
  },
  {
   "cell_type": "markdown",
   "metadata": {},
   "source": [
    "*(Compare 4 methods (with their best parameters) on different problems, capacities etc. Don't forget corner cases like $C \\gg F$, $C = F$, $\\dots$)*"
   ]
  },
  {
   "cell_type": "code",
   "execution_count": 6,
   "metadata": {
    "collapsed": true
   },
   "outputs": [],
   "source": [
    "# Suggested code for comparison (modify as needed)\n",
    "\n",
    "def compare_results(problem):\n",
    "    fig = plt.figure()\n",
    "\n",
    "    ax_greedy = fig.add_subplot(221)\n",
    "    ax_local  = fig.add_subplot(222)\n",
    "    ax_anneal = fig.add_subplot(223)\n",
    "    ax_gurobi = fig.add_subplot(224)\n",
    "\n",
    "    greedy = problem.solve_greedy()\n",
    "    #local  = problem.solve_local_opt()\n",
    "    #gurobi = problem.solve_gurobi()\n",
    "    #anneal = problem.solve_sim_annealing()\n",
    "\n",
    "    ax_greedy.set_title('Greedy:    %.3f' % problem.objective(*greedy))\n",
    "    #ax_local .set_title('Local:     %.3f' % problem.objective(*local))\n",
    "    #ax_anneal.set_title('Annealing: %.3f' % problem.objective(*anneal))\n",
    "    #ax_gurobi.set_title('Gurobi:    %.3f' % problem.objective(*gurobi))\n",
    "\n",
    "    problem.plot(greedy[0], greedy[1], ax_greedy)\n",
    "    #problem.plot(local [0], local [1], ax_local )\n",
    "    #problem.plot(anneal[0], anneal[1], ax_anneal)\n",
    "    #problem.plot(gurobi[0], gurobi[1], ax_gurobi)\n",
    "\n",
    "    for ax in ax_greedy, ax_local, ax_anneal, ax_gurobi:\n",
    "        ax.axes.get_xaxis().set_ticks([])\n",
    "        ax.axes.get_yaxis().set_ticks([])"
   ]
  },
  {
   "cell_type": "code",
   "execution_count": 9,
   "metadata": {},
   "outputs": [
    {
     "name": "stdout",
     "output_type": "stream",
     "text": [
      "[[  2.90332745e+00   1.76533916e+00   1.66686393e+00   2.30118662e+00\n",
      "    2.32717682e+00   1.24156773e-01   5.27694692e-01   8.35998045e-01\n",
      "    1.24076347e-01   1.18744459e+00   7.55349012e-02   1.40246813e+00\n",
      "    4.18958805e-02   1.32986018e+00   5.46665160e-01   1.45521780e+00\n",
      "    5.37048929e-01   1.51980500e+00   3.35715591e-03   1.04854061e+00]\n",
      " [  1.81613551e+00   3.89042783e-01   6.66190363e-01   1.16238288e+00\n",
      "    7.04735816e-01   8.02745327e-01   1.86839089e-01   1.36266298e+00\n",
      "    5.54515679e-01   5.97294756e-01   2.87730934e-01   2.61783271e-01\n",
      "    2.65876362e-01   2.88054273e-01   4.89770509e-01   2.50721449e-01\n",
      "    1.18032976e+00   1.87362339e+00   4.23780921e-01   1.08556215e+00]\n",
      " [  1.36924496e+00   1.71366127e+00   8.39295919e-01   1.13765011e+00\n",
      "    2.62710722e+00   9.94688519e-01   2.40801668e-01   1.10676199e-01\n",
      "    8.91154983e-02   4.03495737e-01   6.65952684e-01   1.17374139e+00\n",
      "    4.81783564e-01   9.46796480e-01   5.84596514e-02   1.46917075e+00\n",
      "    7.38529076e-02   3.61841744e-01   3.83844310e-01   1.47280786e-01]\n",
      " [  1.74924662e+00   7.85773169e-03   6.39529488e-01   1.03442840e+00\n",
      "    9.85720309e-02   2.11920500e+00   6.93841547e-01   2.62510933e+00\n",
      "    1.70313357e+00   9.16369671e-01   1.22219377e+00   8.84839981e-02\n",
      "    1.21736761e+00   2.05744125e-01   1.24675381e+00   1.20059954e-02\n",
      "    2.52929977e+00   3.00989050e+00   1.54447017e+00   1.94143889e+00]\n",
      " [  1.36108549e+00   1.48604185e+00   7.52430735e-01   1.07701762e+00\n",
      "    2.32693946e+00   8.88471736e-01   1.62218475e-01   1.87258381e-01\n",
      "    6.79277833e-02   3.58536798e-01   5.41069494e-01   9.95541474e-01\n",
      "    3.77157144e-01   7.99383515e-01   3.79222734e-02   1.25314129e+00\n",
      "    1.30989014e-01   4.72785445e-01   3.09347808e-01   1.89435368e-01]\n",
      " [  6.30171637e-01   1.88054015e+00   5.69907963e-01   6.28521628e-01\n",
      "    2.97885666e+00   2.10284066e+00   4.31171651e-01   1.65269065e-01\n",
      "    5.72105095e-01   2.31582371e-01   1.51486277e+00   1.26640273e+00\n",
      "    1.23572934e+00   9.56760730e-01   1.67155146e-01   1.70735691e+00\n",
      "    3.16988514e-01   1.08560233e-01   1.13272986e+00   5.80152247e-03]\n",
      " [  2.28117402e+00   3.14194396e-01   9.27784356e-01   1.49742959e+00\n",
      "    4.59189782e-01   9.28690962e-01   4.35294523e-01   1.95858960e+00\n",
      "    9.08239353e-01   9.43630619e-01   3.90572781e-01   2.99704385e-01\n",
      "    4.19320836e-01   3.98701426e-01   8.70306666e-01   1.96301085e-01\n",
      "    1.72107204e+00   2.56534619e+00   6.43251664e-01   1.61973983e+00]\n",
      " [  1.57373757e+00   1.03777623e-02   5.83417759e-01   9.06601147e-01\n",
      "    1.15967823e-01   2.57668248e+00   8.20531417e-01   2.81959602e+00\n",
      "    1.98644533e+00   9.30037430e-01   1.56578084e+00   1.00713095e-01\n",
      "    1.54017019e+00   2.10031904e-01   1.38695697e+00   5.08408520e-02\n",
      "    2.78110201e+00   3.11280067e+00   1.88861187e+00   2.03409425e+00]\n",
      " [  1.33094259e+00   9.39408975e-03   4.22528948e-01   7.21180016e-01\n",
      "    1.98733536e-01   2.39395529e+00   6.34088112e-01   2.44539552e+00\n",
      "    1.71914767e+00   7.13978407e-01   1.41480671e+00   4.09597563e-02\n",
      "    1.36725344e+00   1.14879458e-01   1.13130272e+00   3.31237447e-02\n",
      "    2.42472706e+00   2.70626119e+00   1.67852793e+00   1.70907622e+00]\n",
      " [  4.02498245e-01   1.20953353e+00   2.21264256e-01   2.98348110e-01\n",
      "    2.13119264e+00   2.05590945e+00   2.28984404e-01   4.09098940e-01\n",
      "    6.24940453e-01   3.86271819e-02   1.34190075e+00   7.29316116e-01\n",
      "    1.10070935e+00   4.93526533e-01   1.23707960e-01   1.09105628e+00\n",
      "    5.49969605e-01   3.78200344e-01   1.08991255e+00   9.12638657e-02]\n",
      " [  7.81003863e-01   8.73190667e-01   2.65047523e-01   4.98718345e-01\n",
      "    1.62056657e+00   1.33438151e+00   3.24258505e-02   4.44790472e-01\n",
      "    3.28747681e-01   7.25377037e-02   7.41571960e-01   4.83706223e-01\n",
      "    5.72501467e-01   3.24173385e-01   3.07446512e-02   7.27981794e-01\n",
      "    4.63726100e-01   6.15669775e-01   5.95272858e-01   1.97840420e-01]\n",
      " [  1.40459512e+00   3.57258187e+00   1.62207850e+00   1.61762083e+00\n",
      "    5.01488645e+00   2.77575390e+00   1.27355081e+00   1.79865003e-01\n",
      "    9.86709961e-01   1.01261956e+00   2.38508253e+00   2.70578271e+00\n",
      "    2.02527256e+00   2.25166950e+00   7.10820050e-01   3.30868471e+00\n",
      "    3.74499929e-01   3.83578483e-02   1.75397955e+00   2.84277144e-01]\n",
      " [  6.17465244e-01   1.61814619e+00   4.60168960e-01   5.55425450e-01\n",
      "    2.63984834e+00   1.90398599e+00   3.05314556e-01   1.89849281e-01\n",
      "    4.84166956e-01   1.55536387e-01   1.31215987e+00   1.05352395e+00\n",
      "    1.05665979e+00   7.76613851e-01   9.91719602e-02   1.45198821e+00\n",
      "    3.13845972e-01   1.80819642e-01   9.81770514e-01   8.69934296e-03]\n",
      " [  1.07475891e+00   8.61663531e-01   4.00338775e-01   7.14970311e-01\n",
      "    1.54689499e+00   1.00375584e+00   1.21352524e-02   4.69583402e-01\n",
      "    2.09149224e-01   1.74623665e-01   4.98750340e-01   4.97016229e-01\n",
      "    3.61695386e-01   3.65291234e-01   3.77666295e-02   6.92267861e-01\n",
      "    4.24841392e-01   7.44428627e-01   3.86013604e-01   2.89153301e-01]\n",
      " [  3.28539594e-01   5.75785597e-01   1.48171209e-01   1.09108608e-01\n",
      "    1.15277418e+00   3.74060161e+00   8.64899371e-01   2.14374571e+00\n",
      "    2.14472721e+00   4.49086875e-01   2.51064129e+00   4.02375543e-01\n",
      "    2.30532435e+00   3.06940909e-01   1.12764098e+00   6.52805275e-01\n",
      "    2.38579007e+00   1.96928217e+00   2.53754836e+00   1.26711864e+00]]\n",
      "[1 1 1 2 2 1 2 1 1 2 1 1 1 2 1]\n"
     ]
    },
    {
     "ename": "ValueError",
     "evalue": "The truth value of an array with more than one element is ambiguous. Use a.any() or a.all()",
     "output_type": "error",
     "traceback": [
      "\u001b[0;31m---------------------------------------------------------------------------\u001b[0m",
      "\u001b[0;31mValueError\u001b[0m                                Traceback (most recent call last)",
      "\u001b[0;32m<ipython-input-9-66e556095f05>\u001b[0m in \u001b[0;36m<module>\u001b[0;34m()\u001b[0m\n\u001b[1;32m      5\u001b[0m \u001b[0mproblem\u001b[0m\u001b[0;34m.\u001b[0m\u001b[0massign_random_opening_costs\u001b[0m\u001b[0;34m(\u001b[0m\u001b[0;34m)\u001b[0m\u001b[0;34m\u001b[0m\u001b[0m\n\u001b[1;32m      6\u001b[0m \u001b[0;34m\u001b[0m\u001b[0m\n\u001b[0;32m----> 7\u001b[0;31m \u001b[0mcompare_results\u001b[0m\u001b[0;34m(\u001b[0m\u001b[0mproblem\u001b[0m\u001b[0;34m)\u001b[0m\u001b[0;34m\u001b[0m\u001b[0m\n\u001b[0m",
      "\u001b[0;32m<ipython-input-6-22164e6ddf37>\u001b[0m in \u001b[0;36mcompare_results\u001b[0;34m(problem)\u001b[0m\n\u001b[1;32m      9\u001b[0m     \u001b[0max_gurobi\u001b[0m \u001b[0;34m=\u001b[0m \u001b[0mfig\u001b[0m\u001b[0;34m.\u001b[0m\u001b[0madd_subplot\u001b[0m\u001b[0;34m(\u001b[0m\u001b[0;36m224\u001b[0m\u001b[0;34m)\u001b[0m\u001b[0;34m\u001b[0m\u001b[0m\n\u001b[1;32m     10\u001b[0m \u001b[0;34m\u001b[0m\u001b[0m\n\u001b[0;32m---> 11\u001b[0;31m     \u001b[0mgreedy\u001b[0m \u001b[0;34m=\u001b[0m \u001b[0mproblem\u001b[0m\u001b[0;34m.\u001b[0m\u001b[0msolve_greedy\u001b[0m\u001b[0;34m(\u001b[0m\u001b[0;34m)\u001b[0m\u001b[0;34m\u001b[0m\u001b[0m\n\u001b[0m\u001b[1;32m     12\u001b[0m     \u001b[0;31m#local  = problem.solve_local_opt()\u001b[0m\u001b[0;34m\u001b[0m\u001b[0;34m\u001b[0m\u001b[0m\n\u001b[1;32m     13\u001b[0m     \u001b[0;31m#gurobi = problem.solve_gurobi()\u001b[0m\u001b[0;34m\u001b[0m\u001b[0;34m\u001b[0m\u001b[0m\n",
      "\u001b[0;32m<ipython-input-8-823126cfe2e9>\u001b[0m in \u001b[0;36msolve_greedy\u001b[0;34m(self)\u001b[0m\n\u001b[1;32m      8\u001b[0m         \u001b[0mprint\u001b[0m\u001b[0;34m(\u001b[0m\u001b[0mself\u001b[0m\u001b[0;34m.\u001b[0m\u001b[0massignment_costs\u001b[0m\u001b[0;34m)\u001b[0m\u001b[0;34m\u001b[0m\u001b[0m\n\u001b[1;32m      9\u001b[0m         \u001b[0mprint\u001b[0m\u001b[0;34m(\u001b[0m\u001b[0mself\u001b[0m\u001b[0;34m.\u001b[0m\u001b[0mopening_costs\u001b[0m\u001b[0;34m)\u001b[0m\u001b[0;34m\u001b[0m\u001b[0m\n\u001b[0;32m---> 10\u001b[0;31m         \u001b[0mmin_cost\u001b[0m \u001b[0;34m=\u001b[0m \u001b[0mmax\u001b[0m\u001b[0;34m(\u001b[0m\u001b[0mself\u001b[0m\u001b[0;34m.\u001b[0m\u001b[0massignment_costs\u001b[0m\u001b[0;34m)\u001b[0m \u001b[0;34m+\u001b[0m \u001b[0mmax\u001b[0m\u001b[0;34m(\u001b[0m\u001b[0mself\u001b[0m\u001b[0;34m.\u001b[0m\u001b[0mopening_costs\u001b[0m\u001b[0;34m)\u001b[0m \u001b[0;34m+\u001b[0m \u001b[0;36m1\u001b[0m\u001b[0;34m\u001b[0m\u001b[0m\n\u001b[0m\u001b[1;32m     11\u001b[0m         \u001b[0mmin_c\u001b[0m\u001b[0;34m,\u001b[0m \u001b[0mmin_f\u001b[0m \u001b[0;34m=\u001b[0m \u001b[0;36m0\u001b[0m\u001b[0;34m,\u001b[0m \u001b[0;36m0\u001b[0m\u001b[0;34m\u001b[0m\u001b[0m\n\u001b[1;32m     12\u001b[0m         \u001b[0;32mfor\u001b[0m \u001b[0mc\u001b[0m \u001b[0;32min\u001b[0m \u001b[0mrange\u001b[0m\u001b[0;34m(\u001b[0m\u001b[0mself\u001b[0m\u001b[0;34m.\u001b[0m\u001b[0mC\u001b[0m\u001b[0;34m)\u001b[0m\u001b[0;34m:\u001b[0m\u001b[0;34m\u001b[0m\u001b[0m\n",
      "\u001b[0;31mValueError\u001b[0m: The truth value of an array with more than one element is ambiguous. Use a.any() or a.all()"
     ]
    },
    {
     "data": {
      "image/png": "[encoded data removed]",
      "text/plain": [
       "<matplotlib.figure.Figure at 0x7f8ca9e5e9b0>"
      ]
     },
     "metadata": {},
     "output_type": "display_data"
    }
   ],
   "source": [
    "np.random.seed(666)\n",
    "\n",
    "problem = Problem()\n",
    "problem.assign_random_capacities()\n",
    "problem.assign_random_opening_costs()\n",
    "\n",
    "compare_results(problem)"
   ]
  },
  {
   "cell_type": "markdown",
   "metadata": {
    "collapsed": true
   },
   "source": [
    "# Problem 2\n",
    "**Optimal vehicle speed scheduling (6 points)** -- (based on an additional exercise A3.20 to Boyd and Vandenberghe). \n",
    "\n",
    "A vehicle (say, an airplane) travels along a fixed path of $n$ segments, between $n + 1$ waypoints labeled $0, \\dots , n$. Segment $i$ starts at waypoint $i-1$ and terminates at waypoint $i$. The vehicle starts at time $t = 0$ at waypoint $0$. It travels over each segment at a constant (nonnegative) speed; $s_i$ is the speed on segment $i$. We have lower and upper limits on the speeds: $s_{\\min} \\leq s \\leq s_{\\max}$. The vehicle does not stop at the waypoints; it simply proceeds to the next segment. The travel distance of segment $i$ is $d_i$ (which is positive), so the travel time over segment $i$ is $\\frac{d_i}{s_i}$. We let $\\tau_i$, $i = 1, \\dots, n$ denote the time at which the vehicle arrives at waypoint $i$. The vehicle is required to arrive at waypoint $i$, $i = 1, \\dots, n$, between times $\\tau_{\\min,i}$ and $\\tau_{\\max,i}$, which are given. The vehicle consumes fuel over segment $i$ at a rate that depends on its speed $\\Phi\\left(s_i\\right) = a s_i^2+b s_i+c$ kg/s.\n",
    "\n",
    "You are given the data $d$ (segment travel distances), $s_{\\min}$ and $s_{\\max}$ (speed bounds), $\\tau_{\\min}$ and $\\tau_{\\max}$ (waypoint arrival time bounds), and parameters $a$, $b$, and $c$ (all parameters are in *veh_speed_sched_data.m*). Use the dynamic programming approach to find the schedule that allows spending the minimal amount of fuel. Use matplotlib command *step* to plot speed vs time for the optimal schedule. You will need to discretize some continuous variables, make sure you do it densely enough.\n",
    "\n",
    "**NB**: later in the course we will get back to this problem and attack it with a different method.\n"
   ]
  },
  {
   "cell_type": "code",
   "execution_count": 48,
   "metadata": {
    "collapsed": true
   },
   "outputs": [],
   "source": [
    "import scipy.io as sio\n",
    "\n",
    "mat_contents = sio.loadmat('veh_sched_data.mat')\n",
    "\n",
    "a = mat_contents['a'][0,0]\n",
    "b = mat_contents['b'][0,0]\n",
    "c = mat_contents['c'][0,0]\n",
    "d = mat_contents['d'].squeeze()\n",
    "n = mat_contents['n'][0,0]\n",
    "smin = mat_contents['smin'].squeeze()\n",
    "smax = mat_contents['smax'].squeeze()\n",
    "tau_min = mat_contents['tau_min'].squeeze()\n",
    "tau_max = mat_contents['tau_max'].squeeze()"
   ]
  },
  {
   "cell_type": "markdown",
   "metadata": {
    "collapsed": true
   },
   "source": [
    "$$min_{i,s}{ \\sum_{i}{\\Phi(s_i)} }, \\Phi(s_i) = as_i^2 + bs_i + c$$\n",
    "$$\\tau_{min,i} < \\sum_{j=0}^{i}{\\frac{d_j}{s_j}} < \\tau_{max,i}, s_{min} < s_i < s_{max}$$ "
   ]
  },
  {
   "cell_type": "markdown",
   "metadata": {},
   "source": [
    "## Let's construct a dynamic programming model for the task"
   ]
  },
  {
   "cell_type": "markdown",
   "metadata": {},
   "source": [
    "$$ O(i,\\tau) = min_{s_i}{\\left[O(i-1,\\tau - \\frac{d_i}{s_i}) + \\Phi(s_i)\\cdot \\frac{d_i}{s_i}\\right] }$$"
   ]
  },
  {
   "cell_type": "markdown",
   "metadata": {},
   "source": [
    "## Discretization here might be a little bit tricky. Let's discretize $\\tau$ in order to cover all possible times of arrival. $s_{i,j}$ will be dependent on $\\tau$ and we will just take care of $s_{min} < s_{i,j} < s_{max}$"
   ]
  },
  {
   "cell_type": "code",
   "execution_count": 49,
   "metadata": {
    "collapsed": true
   },
   "outputs": [],
   "source": [
    "import numpy as np"
   ]
  },
  {
   "cell_type": "code",
   "execution_count": 50,
   "metadata": {},
   "outputs": [
    {
     "name": "stdout",
     "output_type": "stream",
     "text": [
      "1 6 10\n"
     ]
    }
   ],
   "source": [
    "print(a,b,c)"
   ]
  },
  {
   "cell_type": "code",
   "execution_count": 65,
   "metadata": {
    "collapsed": true
   },
   "outputs": [],
   "source": [
    "def Φ(s):\n",
    "    return a*s**2 + b*s + c\n",
    "def Ψ(s,s1,s2):\n",
    "    return Φ(s) + (np.inf if s < s1 or s > s2 else 0)"
   ]
  },
  {
   "cell_type": "code",
   "execution_count": 55,
   "metadata": {
    "collapsed": true
   },
   "outputs": [],
   "source": [
    "m = 50\n",
    "O = np.zeros((n,m))"
   ]
  },
  {
   "cell_type": "code",
   "execution_count": 75,
   "metadata": {},
   "outputs": [],
   "source": [
    "τ = np.linspace(tau_min[0],tau_max[0],m)\n",
    "for j in range(m):\n",
    "    O[0][j] = Ψ(d[0]/τ[j],smin[0],smax[0])\n",
    "    \n",
    "for i in range(1,n):\n",
    "    τ_p = np.linspace(tau_min[i-1],tau_max[i-1],m)\n",
    "    τ = np.linspace(tau_min[i],tau_max[i],m)\n",
    "    O[i] = [min([O[i-1][k] + Ψ(d[0]/(τ[j]-τ_p[k]),smin[0],smax[0])*abs((τ[j]-τ_p[k])) for k in range(m)]) for j in range(m)]\n",
    "    #for j in range(m):\n",
    "    #    O[i][j] = min([O[i-1][k] + Ψ(d[0]/(τ[j]-τ_p[k]),smin[0],smax[0])*abs((τ[j]-τ_p[k])) for k in range(m)])"
   ]
  },
  {
   "cell_type": "code",
   "execution_count": 76,
   "metadata": {},
   "outputs": [
    {
     "data": {
      "text/plain": [
       "2943.3105469434217"
      ]
     },
     "execution_count": 76,
     "metadata": {},
     "output_type": "execute_result"
    }
   ],
   "source": [
    "min(O[-1])"
   ]
  }
 ],
 "metadata": {
  "kernelspec": {
   "display_name": "Python 3",
   "language": "python",
   "name": "python3"
  },
  "language_info": {
   "codemirror_mode": {
    "name": "ipython",
    "version": 3
   },
   "file_extension": ".py",
   "mimetype": "text/x-python",
   "name": "python",
   "nbconvert_exporter": "python",
   "pygments_lexer": "ipython3",
   "version": "3.6.3"
  }
 },
 "nbformat": 4,
 "nbformat_minor": 1
}
