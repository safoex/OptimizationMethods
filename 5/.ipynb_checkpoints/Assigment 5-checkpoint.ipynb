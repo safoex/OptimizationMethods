{
 "cells": [
  {
   "cell_type": "code",
   "execution_count": 2,
   "metadata": {},
   "outputs": [],
   "source": [
    "import numpy as np\n",
    "import cvxpy as cvx\n",
    "from numpy.random import randn"
   ]
  },
  {
   "cell_type": "code",
   "execution_count": 17,
   "metadata": {},
   "outputs": [
    {
     "name": "stdout",
     "output_type": "stream",
     "text": [
      "(20,)\n"
     ]
    }
   ],
   "source": [
    "n = 20\n",
    "M = 25\n",
    "K = 100\n",
    "np.random.seed(1)\n",
    "c_true = randn(n)\n",
    "X  = randn(n,K)\n",
    "y = np.dot(X.T, c_true) + 0.1 * np.sqrt(n) * randn(K)\n",
    "print(c_true.shape)"
   ]
  },
  {
   "cell_type": "code",
   "execution_count": 18,
   "metadata": {},
   "outputs": [],
   "source": [
    "sort_ind = np.argsort(y)\n",
    "X = X[:, sort_ind]\n",
    "y = y[sort_ind[:M+1]]\n",
    "D = (y[M-1] + y[M])/2\n",
    "y = y[:M,np.newaxis]"
   ]
  },
  {
   "cell_type": "code",
   "execution_count": 19,
   "metadata": {},
   "outputs": [],
   "source": [
    "c = cvx.Variable(n)\n",
    "constraints = [c.T*X[:,M:] >= D]"
   ]
  },
  {
   "cell_type": "code",
   "execution_count": 15,
   "metadata": {},
   "outputs": [
    {
     "data": {
      "text/plain": [
       "(25,)"
      ]
     },
     "execution_count": 15,
     "metadata": {},
     "output_type": "execute_result"
    }
   ],
   "source": []
  },
  {
   "cell_type": "code",
   "execution_count": 48,
   "metadata": {},
   "outputs": [],
   "source": [
    "obj = cvx.Minimize(cvx.sum_squares(c.T*X[:,:M]-y.T))"
   ]
  },
  {
   "cell_type": "code",
   "execution_count": 49,
   "metadata": {},
   "outputs": [],
   "source": [
    "prob = cvx.Problem(obj, constraints)"
   ]
  },
  {
   "cell_type": "code",
   "execution_count": 50,
   "metadata": {},
   "outputs": [
    {
     "name": "stdout",
     "output_type": "stream",
     "text": [
      "status: optimal\n",
      "optimal value 2.0711948\n",
      "[[ 1.53817956]\n",
      " [-0.75310014]\n",
      " [-0.43716121]\n",
      " [-1.04458413]\n",
      " [ 0.87371472]\n",
      " [-2.28535139]\n",
      " [ 1.79176345]\n",
      " [-0.71101112]\n",
      " [ 0.2644144 ]\n",
      " [-0.30984617]\n",
      " [ 1.43450893]\n",
      " [-2.115688  ]\n",
      " [-0.35096751]\n",
      " [-0.37592943]\n",
      " [ 1.18146074]\n",
      " [-1.1473156 ]\n",
      " [-0.04681776]\n",
      " [-1.14158709]\n",
      " [ 0.13219842]\n",
      " [ 0.54257486]]\n"
     ]
    }
   ],
   "source": [
    "prob = cvx.Problem(obj, constraints)\n",
    "prob.solve()  # Returns the optimal value.\n",
    "print (\"status:\", prob.status)\n",
    "print (\"optimal value %.7f\" % (prob.value))\n",
    "print(c.value)"
   ]
  },
  {
   "cell_type": "code",
   "execution_count": 51,
   "metadata": {},
   "outputs": [
    {
     "data": {
      "text/plain": [
       "array([ 1.62434536, -0.61175641, -0.52817175, -1.07296862,  0.86540763,\n",
       "       -2.3015387 ,  1.74481176, -0.7612069 ,  0.3190391 , -0.24937038,\n",
       "        1.46210794, -2.06014071, -0.3224172 , -0.38405435,  1.13376944,\n",
       "       -1.09989127, -0.17242821, -0.87785842,  0.04221375,  0.58281521])"
      ]
     },
     "execution_count": 51,
     "metadata": {},
     "output_type": "execute_result"
    }
   ],
   "source": [
    "c_true"
   ]
  },
  {
   "cell_type": "code",
   "execution_count": 52,
   "metadata": {},
   "outputs": [
    {
     "data": {
      "text/plain": [
       "0.078816164176369816"
      ]
     },
     "execution_count": 52,
     "metadata": {},
     "output_type": "execute_result"
    }
   ],
   "source": [
    "np.sqrt(np.sum((np.squeeze(np.asarray(c.value))-c_true)**2)/np.sum(c_true**2))"
   ]
  },
  {
   "cell_type": "code",
   "execution_count": 53,
   "metadata": {},
   "outputs": [
    {
     "name": "stdout",
     "output_type": "stream",
     "text": [
      "status: optimal\n",
      "optimal value 0.9040512\n"
     ]
    },
    {
     "data": {
      "text/plain": [
       "0.22709670166197451"
      ]
     },
     "execution_count": 53,
     "metadata": {},
     "output_type": "execute_result"
    }
   ],
   "source": [
    "prob2 = cvx.Problem(obj, [])\n",
    "prob2.solve()  # Returns the optimal value.\n",
    "print (\"status:\", prob2.status)\n",
    "print (\"optimal value %.7f\" % (prob2.value))\n",
    "np.sqrt(np.sum((np.squeeze(np.asarray(c.value))-c_true)**2)/np.sum(c_true**2))"
   ]
  },
  {
   "cell_type": "code",
   "execution_count": null,
   "metadata": {},
   "outputs": [],
   "source": []
  }
 ],
 "metadata": {
  "kernelspec": {
   "display_name": "Python 3",
   "language": "python",
   "name": "python3"
  },
  "language_info": {
   "codemirror_mode": {
    "name": "ipython",
    "version": 3
   },
   "file_extension": ".py",
   "mimetype": "text/x-python",
   "name": "python",
   "nbconvert_exporter": "python",
   "pygments_lexer": "ipython3",
   "version": "3.6.1"
  }
 },
 "nbformat": 4,
 "nbformat_minor": 2
}
