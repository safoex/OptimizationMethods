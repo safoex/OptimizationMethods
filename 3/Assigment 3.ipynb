{
 "cells": [
  {
   "cell_type": "code",
   "execution_count": 1,
   "metadata": {},
   "outputs": [],
   "source": [
    "import cvxpy as cvx\n",
    "import numpy as np"
   ]
  },
  {
   "cell_type": "markdown",
   "metadata": {},
   "source": [
    "# First problem"
   ]
  },
  {
   "cell_type": "markdown",
   "metadata": {},
   "source": [
    "To formulate the task as a network flow problem, let's consider that edges of our graph are transportations from one tile of Sk to another (${i_0 j_0}$ to ${i_1 j_1}$), their costs are euclidean distances.\n",
    "Also, after moving the earth we should have flat surface with the height of 6. So, if initial height is $h_{ij}$, then inflows are $\\Rightarrow b_{ij} = h_{ij} - 6$. "
   ]
  },
  {
   "cell_type": "markdown",
   "metadata": {},
   "source": [
    "$$ \\min \\sum_{ij} d_{ij} f_{ij}, \\\\\n",
    "    b_j + \\sum_{i \\neq j} f_{ij} = \\sum_{i \\neq j}  f_{ji}, \\\\\n",
    "    f_{ij} \\geq 0, \\\\\n",
    "    f_{ij} \\leq h_{i}\n",
    "$$\n",
    "last constraint isn't required by definition of the task, however, should be always satisfied due to triangle inequality."
   ]
  },
  {
   "cell_type": "code",
   "execution_count": 2,
   "metadata": {},
   "outputs": [],
   "source": [
    "h_input = np.array([[5,5,10,10,10],\n",
    "                [5,5,10,20,10],\n",
    "                [0,5,5, 10, 5],\n",
    "                [0,0,0,  5, 0]])"
   ]
  },
  {
   "cell_type": "code",
   "execution_count": 3,
   "metadata": {},
   "outputs": [],
   "source": [
    "hxy = np.array([[h_value,i,j] for i, h_l in enumerate(h_input) for j, h_value in enumerate(h_l)])"
   ]
  },
  {
   "cell_type": "code",
   "execution_count": 4,
   "metadata": {},
   "outputs": [],
   "source": [
    "x = hxy[:,1]\n",
    "y = hxy[:,2]\n",
    "h = hxy[:,0]"
   ]
  },
  {
   "cell_type": "code",
   "execution_count": 5,
   "metadata": {},
   "outputs": [],
   "source": [
    "N = x.shape[0]"
   ]
  },
  {
   "cell_type": "code",
   "execution_count": 6,
   "metadata": {},
   "outputs": [],
   "source": [
    "d = ((np.matlib.repmat(x,N,1)-np.matlib.repmat(x,N,1).transpose())**2 + \\\n",
    "    (np.matlib.repmat(y,N,1)-np.matlib.repmat(y,N,1).transpose())**2)**0.5"
   ]
  },
  {
   "cell_type": "code",
   "execution_count": 7,
   "metadata": {},
   "outputs": [],
   "source": [
    "b = h-6"
   ]
  },
  {
   "cell_type": "code",
   "execution_count": 8,
   "metadata": {},
   "outputs": [],
   "source": [
    "f = cvx.Variable(N,N)\n",
    "constraints = [\n",
    "    f >= 0,\n",
    "    b + cvx.sum_entries(f,axis=0).T == cvx.sum_entries(f, axis=1),\n",
    "    cvx.diag(f) == 0\n",
    "]"
   ]
  },
  {
   "cell_type": "code",
   "execution_count": 9,
   "metadata": {},
   "outputs": [],
   "source": [
    "obj = cvx.Minimize(cvx.sum_entries(cvx.mul_elemwise(d,f)))"
   ]
  },
  {
   "cell_type": "code",
   "execution_count": 10,
   "metadata": {},
   "outputs": [
    {
     "name": "stdout",
     "output_type": "stream",
     "text": [
      "status: optimal\n",
      "optimal value 95.4910638\n",
      "[[  1.26449156e-10   1.15622968e-10   1.16060300e-10   1.22334118e-10\n",
      "    1.46872586e-13   1.18811323e-10   1.87744389e-10   3.20399193e-10\n",
      "    2.48549084e-09   1.21461785e+00   4.46572077e-10   1.83030123e-09\n",
      "    2.54372496e-09   2.60427586e-09   7.51315211e-01   4.69730400e-09\n",
      "    2.66879484e-09   3.16191537e-09   9.99999976e-01   1.03406694e+00]]\n"
     ]
    }
   ],
   "source": [
    "prob = cvx.Problem(obj, constraints)\n",
    "prob.solve()  # Returns the optimal value.\n",
    "print (\"status:\", prob.status)\n",
    "print (\"optimal value %.7f\" % (prob.value))\n",
    "print(f.value[4])"
   ]
  },
  {
   "cell_type": "code",
   "execution_count": null,
   "metadata": {},
   "outputs": [],
   "source": []
  },
  {
   "cell_type": "markdown",
   "metadata": {},
   "source": [
    "# Second problem"
   ]
  },
  {
   "cell_type": "markdown",
   "metadata": {},
   "source": [
    "$$\n",
    "    \\min_{x_{ij},y_i} \\sum_{ij} {a_{ij} x_{ij} + o_i y_i },\\\\\n",
    "    x_{ij} \\in \\{0,1\\}, y_i \\in \\{0,1\\} ,\\\\\n",
    "    \\sum_i x_{ij} = 1, \\sum_j x_{ij} \\leq c_i y_i\n",
    "$$"
   ]
  },
  {
   "cell_type": "markdown",
   "metadata": {},
   "source": [
    "When we have all $y_i \\in \\{ 0, 1 \\}$, all $x_{ij}$ will be integer also. That's can be observed due to the fact that assignment_costs are random and (hopefully) never repeats for different pairs (client, f1) (client,f2). If some assignment_costs are same we can select any of (f1,f2) and objective won't change."
   ]
  },
  {
   "cell_type": "code",
   "execution_count": 53,
   "metadata": {},
   "outputs": [],
   "source": [
    "import numpy as np\n",
    "import scipy as sp\n",
    "from numpy import random\n",
    "from numpy import matlib\n",
    "import matplotlib.pyplot as plt\n",
    "#from gurobipy import GRB\n",
    "#import gurobipy as grb\n",
    "\n",
    "%matplotlib inline\n",
    "\n",
    "class Problem:\n",
    "    def __init__(self, C=20, F=15):\n",
    "        self.C = C\n",
    "        self.F = F\n",
    "        \n",
    "        self.clients = np.random.rand(2, C)    # client positions\n",
    "        self.facilities = np.random.rand(2, F) # facility positions\n",
    "\n",
    "        # maximum number of clients per facility\n",
    "        self.capacities = np.ones((F,), dtype=np.int32)*4;\n",
    "\n",
    "        # assignment cost is defined as the squared distance between a client and a facility\n",
    "        dx = \\\n",
    "            np.matlib.repmat(self.clients[0,:],F,1) - \\\n",
    "            np.matlib.repmat(self.facilities[0,:],C,1).transpose();\n",
    "        dy = \\\n",
    "            np.matlib.repmat(self.clients[1,:],F,1) - \\\n",
    "            np.matlib.repmat(self.facilities[1,:],C,1).transpose();\n",
    "\n",
    "        self.assignment_costs = 3*(dx*dx + dy*dy);\n",
    "\n",
    "        self.opening_costs = np.ones((F,));\n",
    "    \n",
    "    def assign_random_capacities(self):\n",
    "        \"\"\"\n",
    "        Assign more or less random capacities to facilities.\n",
    "        \n",
    "        This is one of the possible ways to change the problem configuration.\n",
    "        In other words, use this function when testing your solution!\n",
    "        \"\"\"\n",
    "        while True:\n",
    "            self.capacities = \\\n",
    "                np.random.randint(2*self.C // self.F, size=self.F) + 1\n",
    "            if sum(self.capacities) > self.C * 1.3:\n",
    "                break\n",
    "    \n",
    "    def assign_random_opening_costs(self):\n",
    "        \"\"\"\n",
    "        Assign more or less random opening costs to facilities.\n",
    "        \n",
    "        Same as above -- use this for your report.\n",
    "        \"\"\"\n",
    "        # could be float, but let it be simple\n",
    "        self.opening_costs = \\\n",
    "            np.random.randint((self.C+self.F-1) // self.F, size=self.F) + 1\n",
    "    \n",
    "    def plot(self, y, assignments, fig=plt):\n",
    "        \"\"\"\n",
    "        Plot the given solution (y, assignments)\n",
    "        \n",
    "        Arguments:\n",
    "        y, assignments -- see Problem.objective().\n",
    "        fig            -- an instance of matplotlib.axes._axes.Axes to draw on.\n",
    "                          Also, can be matplotlib.pyplot, in this case use the default Axes.\n",
    "                          This is useful to compare your results (see \"Results comparison\" section).\n",
    "        \"\"\"\n",
    "        \n",
    "        y = y.astype(np.int32)\n",
    "        assignments = assignments.astype(np.int32)\n",
    "        \n",
    "        for cli,fac in enumerate(assignments):\n",
    "            fig.plot([self.clients[0,cli], self.facilities[0,fac]], \\\n",
    "                     [self.clients[1,cli], self.facilities[1,fac]], c=(.7,.7,.7))\n",
    "            \n",
    "        fig.scatter(self.clients[0,:], self.clients[1,:], s=15.0, c=assignments, \\\n",
    "                    vmin=0, vmax=self.F-1)\n",
    "        \n",
    "        fig.scatter(self.facilities[0,:], self.facilities[1,:], s=54.0, \\\n",
    "                    c=range(self.F), linewidth = [1*el for el in y])\n",
    "        \n",
    "    def objective(self, y, assignments):\n",
    "        \"\"\"\n",
    "        Return objective function value given a solution.\n",
    "        If the solution is infeasible, return infinity.\n",
    "        \n",
    "        Arguments:\n",
    "        y           -- a binary 1D array of size F. y[i] is 1 iff i-th facility is open.\n",
    "        assignments -- an integer 1D array of size C. assignments[i] is index of facility\n",
    "                       that i-th client is assigned to.\n",
    "        \"\"\"\n",
    "        assert len(y) == self.F\n",
    "        assert len(assignments) == self.C\n",
    "        \n",
    "        y = y.astype(np.int32)\n",
    "        assignments = assignments.astype(np.int32)\n",
    "        \n",
    "        retval = sum(is_opened*opening_cost \\\n",
    "                     for is_opened, opening_cost in zip(y, self.opening_costs))\n",
    "        \n",
    "        assignment_counts = np.zeros_like(y)\n",
    "        \n",
    "        for cli,fac in enumerate(assignments):\n",
    "            if not y[fac]:\n",
    "                return np.inf\n",
    "            else:\n",
    "                retval += self.assignment_costs[fac,cli]\n",
    "                assignment_counts[fac] += 1\n",
    "                \n",
    "        if any(assignment_counts > self.capacities):\n",
    "            return np.inf\n",
    "            \n",
    "        return retval\n",
    "        \n",
    "    def solve_gurobi(self, verbose=False):\n",
    "        \"\"\"\n",
    "        Solve the problem using mixed integer program solver.\n",
    "        Return `y, assignments` (see Problem.objective() docstring for format).\n",
    "        \n",
    "        Arguments:\n",
    "        verbose -- controls Gurobi output.\n",
    "        \"\"\"\n",
    "        m = grb.Model(\"facility\")\n",
    "\n",
    "        y = []\n",
    "        for i_f in range(self.F):\n",
    "            y.append(m.addVar(vtype=GRB.BINARY))\n",
    "\n",
    "        x = []    \n",
    "        for i_f in range(self.F):\n",
    "            x.append([])\n",
    "            for i_c in range(self.C):\n",
    "                x[i_f].append(m.addVar(vtype=GRB.BINARY))\n",
    "\n",
    "        # the objective is to minimize the total fixed and variable costs\n",
    "        m.modelSense = GRB.MINIMIZE\n",
    "\n",
    "        # update model to integrate new variables\n",
    "        m.update()\n",
    "\n",
    "        # set optimization objective - minimize sum of fixed costs\n",
    "        obj_summands = []\n",
    "        for i_f in range(self.F):\n",
    "            obj_summands.append(self.opening_costs[i_f]*y[i_f])\n",
    "\n",
    "        for i_f in range(self.F):\n",
    "            for i_c in range(self.C):\n",
    "                obj_summands.append(self.assignment_costs[i_f][i_c]*x[i_f][i_c])\n",
    "\n",
    "        m.setObjective(grb.quicksum(obj_summands))\n",
    "\n",
    "        # set constraints\n",
    "        for i_c in range(self.C):\n",
    "            client_constr_summands = [x[i_f][i_c] for i_f in range(self.F)]\n",
    "            m.addConstr(sum(client_constr_summands), GRB.EQUAL, 1.0)\n",
    "\n",
    "        for i_f in range(self.F):        \n",
    "            facility_constr_summands = [x[i_f][i_c] for i_c in range(self.C)]\n",
    "            m.addConstr(sum(facility_constr_summands), \\\n",
    "                        GRB.LESS_EQUAL, self.capacities[i_f]*y[i_f])       \n",
    "\n",
    "        for i_f in range(self.F):        \n",
    "            for i_c in range(self.C):\n",
    "                m.addConstr(x[i_f][i_c], GRB.LESS_EQUAL, y[i_f])\n",
    "\n",
    "        # optimize\n",
    "        m.setParam(GRB.Param.OutputFlag, verbose)\n",
    "        m.optimize()\n",
    "        \n",
    "        facilities_opened = [y[i_f].X for i_f in range(self.F)]\n",
    "        clients_assignment = \\\n",
    "            [i_f for i_c in range(self.C) for i_f in range(self.F) if x[i_f][i_c].X != 0]\n",
    "        \n",
    "        return facilities_opened, clients_assignment"
   ]
  },
  {
   "cell_type": "code",
   "execution_count": 176,
   "metadata": {},
   "outputs": [],
   "source": [
    "def solve_branch_and_bound(self):\n",
    "\n",
    "    a = self.assignment_costs\n",
    "    f = self.opening_costs\n",
    "    x = cvx.Variable(self.F,self.C)\n",
    "    y = cvx.Variable(self.F)\n",
    "\n",
    "    obj = cvx.Minimize(cvx.sum_entries(cvx.mul_elemwise(a,x)) + cvx.sum_entries(cvx.mul_elemwise(f,y)))\n",
    "    constraints_always = [\n",
    "        cvx.sum_entries(x,axis=0) == 1,\n",
    "        cvx.sum_entries(x,axis=1) <= cvx.mul_elemwise(self.capacities,y),\n",
    "        x >= 0, x <= 1, y >= 0, y <= 1\n",
    "    ]\n",
    "    \n",
    "    def solve_lp(node,fixed):\n",
    "        constraints = constraints_always + [\n",
    "            cvx.mul_elemwise(fixed[1],y) == cvx.mul_elemwise(node[1],fixed[1])\n",
    "        ]\n",
    "        prob = cvx.Problem(obj, constraints)\n",
    "        prob.solve()\n",
    "        #print(prob.status)\n",
    "        return   prob.value, (x.value , y.value), fixed\n",
    "    \n",
    "    incumbent_value = np.inf\n",
    "    incumbent = []\n",
    "    node0 = ([np.zeros((self.F,self.C)),np.zeros((self.F,1))])\n",
    "    fixed0 = node0.copy()\n",
    "    L = [solve_lp(node0, fixed0)]\n",
    "    print(\"initial fractional result = %f\" %(L[0][0]))\n",
    "    EPS = 1e-8\n",
    "    while len(L) > 0:\n",
    "        elem = min(L,key=lambda x: x[0])\n",
    "        cobj, cnode, cfixed = elem\n",
    "        L.remove(elem)\n",
    "        cvariable = np.argmin(np.abs(cnode[1]-0.5))\n",
    "        cfixed[1][cvariable] = 1\n",
    "        children = [(cnode,cfixed), (cnode,cfixed)]\n",
    "        for i in range(2):\n",
    "            children[i][0][1][cvariable] = i\n",
    "            chobj, chnode, chfixed = solve_lp(*children[i])\n",
    "            if chobj >= incumbent_value:\n",
    "                continue\n",
    "            if (np.abs(np.abs(chnode[1]-0.5) - 0.5) < EPS).all() and (np.abs(np.abs(chnode[0]-0.5) - 0.5) < EPS).all(): #integer LOL\n",
    "                incumbent = chnode\n",
    "                incumbent_value = chobj\n",
    "            else:\n",
    "                L.append((chobj, chnode, chfixed))\n",
    "    \n",
    "    assignments = np.argmax(incumbent[0],axis=0)\n",
    "    #print(assignments)\n",
    "    #print(((incumbent[1]+0.5).astype(np.int64).A1))\n",
    "    return ((incumbent[1]+0.5).astype(np.int64).A1), assignments.A1\n",
    "    \n",
    "Problem.solve_branch_and_bound = solve_branch_and_bound"
   ]
  },
  {
   "cell_type": "code",
   "execution_count": 178,
   "metadata": {},
   "outputs": [
    {
     "name": "stdout",
     "output_type": "stream",
     "text": [
      "initial fractional result = 14.908308\n",
      "branch & bound algorithm result = 15.037326\n"
     ]
    }
   ],
   "source": [
    "np.random.seed(666)\n",
    "\n",
    "problem = Problem()\n",
    "problem.assign_random_capacities()\n",
    "problem.assign_random_opening_costs()\n",
    "\n",
    "print('branch & bound algorithm result = %f'%(problem.objective(*problem.solve_branch_and_bound())))"
   ]
  },
  {
   "cell_type": "markdown",
   "metadata": {},
   "source": [
    "# Third problem"
   ]
  },
  {
   "cell_type": "markdown",
   "metadata": {},
   "source": [
    "$x_{ij}$ - matrix that define if $i$-th student lives with $j$-th.\n",
    "It has to be symmetric (if $i$ lives with $j$ then $j$ lives with $i$) and everybody has only one neighboor $\\rightarrow$ second line of definition.\n",
    "$$\n",
    "    \\max_{ij} A_{ij} x_{ij},\\\\\n",
    "    \\sum_i x_{ij} = 1,\\\\\n",
    "    x = x^\\top, \\\\\n",
    "    x \\geq 0, x \\leq 1\n",
    "$$"
   ]
  },
  {
   "cell_type": "markdown",
   "metadata": {},
   "source": [
    "To add new cutting planes, we notice that in each group of 3 students only 1 pair might live together, in each group of 4 only 2 pairs, in 5 again no more than 2 pairs and so on. \n",
    "On each step we can try to find a group of three students, where are sum of $x_{ij}$ is maximum. (similar tactics for groups of 4 and so one)"
   ]
  },
  {
   "cell_type": "code",
   "execution_count": null,
   "metadata": {},
   "outputs": [],
   "source": []
  },
  {
   "cell_type": "code",
   "execution_count": 273,
   "metadata": {},
   "outputs": [],
   "source": [
    "def solveLPCP(A):\n",
    "    N = A.shape[0]\n",
    "    x = cvx.Variable(N,N)\n",
    "    EPS = 1e-5\n",
    "    constraints_always = [\n",
    "        cvx.sum_entries(x, axis=0) == 1,\n",
    "        x == x.T,\n",
    "        x >= 0, x <= 1\n",
    "    ]\n",
    "    def solveLP(C):\n",
    "        obj = cvx.Maximize(cvx.sum_entries(cvx.mul_elemwise(A,x)))\n",
    "        prob = cvx.Problem(obj, constraints_always + C)\n",
    "        prob.solve()\n",
    "        return x.value\n",
    "    C_used = []\n",
    "    def findCP(y,C_used):\n",
    "        bests = (-1,0,0)\n",
    "        max_result = 0\n",
    "        for y1 in range(N):\n",
    "            for y2 in range(y1+1,N):\n",
    "                for y3 in range(y2+1,N):\n",
    "                    #print(y1,y2,y3)\n",
    "                    #print(A.shape)\n",
    "                    #print(y.shape)\n",
    "                    result123 = A[y1,y2]*y[y1,y2] + A[y1,y3]*y[y1,y3] + A[y3,y2]*y[y3,y2]\n",
    "                    if result123 > max_result and not (y1,y2,y3) in C_used:\n",
    "                        max_results = result123\n",
    "                        bests = (y1,y2,y3)\n",
    "        return bests\n",
    "        \n",
    "    y = solveLP([])\n",
    "    C = []\n",
    "    print(A.shape)\n",
    "    it = 0\n",
    "    while not (np.abs(np.abs(y-0.5) - 0.5) < EPS).all():\n",
    "        y1,y2,y3 = findCP(y,C_used)\n",
    "        if y1 < 0:\n",
    "            break\n",
    "        C = C +  [x[y1,y2] + x[y2,y3] + x[y3,y1] <= 1]\n",
    "        y = solveLP(C)\n",
    "        it += 1\n",
    "        if it % 100 == 0:\n",
    "            print(it)\n",
    "    return y"
   ]
  },
  {
   "cell_type": "code",
   "execution_count": 274,
   "metadata": {},
   "outputs": [],
   "source": [
    "A = np.load('matrix1.npy')"
   ]
  },
  {
   "cell_type": "code",
   "execution_count": 275,
   "metadata": {},
   "outputs": [
    {
     "name": "stdout",
     "output_type": "stream",
     "text": [
      "(10, 10)\n",
      "100\n",
      "200\n",
      "300\n",
      "400\n",
      "500\n",
      "600\n"
     ]
    },
    {
     "ename": "KeyboardInterrupt",
     "evalue": "",
     "output_type": "error",
     "traceback": [
      "\u001b[0;31m---------------------------------------------------------------------------\u001b[0m",
      "\u001b[0;31mKeyboardInterrupt\u001b[0m                         Traceback (most recent call last)",
      "\u001b[0;32m<ipython-input-275-fd09b8c8bf90>\u001b[0m in \u001b[0;36m<module>\u001b[0;34m()\u001b[0m\n\u001b[0;32m----> 1\u001b[0;31m \u001b[0mprint\u001b[0m\u001b[0;34m(\u001b[0m\u001b[0msolveLPCP\u001b[0m\u001b[0;34m(\u001b[0m\u001b[0mA\u001b[0m\u001b[0;34m)\u001b[0m\u001b[0;34m)\u001b[0m\u001b[0;34m\u001b[0m\u001b[0m\n\u001b[0m",
      "\u001b[0;32m<ipython-input-273-0f3246eba534>\u001b[0m in \u001b[0;36msolveLPCP\u001b[0;34m(A)\u001b[0m\n\u001b[1;32m     38\u001b[0m             \u001b[0;32mbreak\u001b[0m\u001b[0;34m\u001b[0m\u001b[0m\n\u001b[1;32m     39\u001b[0m         \u001b[0mC\u001b[0m \u001b[0;34m=\u001b[0m \u001b[0mC\u001b[0m \u001b[0;34m+\u001b[0m  \u001b[0;34m[\u001b[0m\u001b[0mx\u001b[0m\u001b[0;34m[\u001b[0m\u001b[0my1\u001b[0m\u001b[0;34m,\u001b[0m\u001b[0my2\u001b[0m\u001b[0;34m]\u001b[0m \u001b[0;34m+\u001b[0m \u001b[0mx\u001b[0m\u001b[0;34m[\u001b[0m\u001b[0my2\u001b[0m\u001b[0;34m,\u001b[0m\u001b[0my3\u001b[0m\u001b[0;34m]\u001b[0m \u001b[0;34m+\u001b[0m \u001b[0mx\u001b[0m\u001b[0;34m[\u001b[0m\u001b[0my3\u001b[0m\u001b[0;34m,\u001b[0m\u001b[0my1\u001b[0m\u001b[0;34m]\u001b[0m \u001b[0;34m<=\u001b[0m \u001b[0;36m1\u001b[0m\u001b[0;34m]\u001b[0m\u001b[0;34m\u001b[0m\u001b[0m\n\u001b[0;32m---> 40\u001b[0;31m         \u001b[0my\u001b[0m \u001b[0;34m=\u001b[0m \u001b[0msolveLP\u001b[0m\u001b[0;34m(\u001b[0m\u001b[0mC\u001b[0m\u001b[0;34m)\u001b[0m\u001b[0;34m\u001b[0m\u001b[0m\n\u001b[0m\u001b[1;32m     41\u001b[0m         \u001b[0mit\u001b[0m \u001b[0;34m+=\u001b[0m \u001b[0;36m1\u001b[0m\u001b[0;34m\u001b[0m\u001b[0m\n\u001b[1;32m     42\u001b[0m         \u001b[0;32mif\u001b[0m \u001b[0mit\u001b[0m \u001b[0;34m%\u001b[0m \u001b[0;36m100\u001b[0m \u001b[0;34m==\u001b[0m \u001b[0;36m0\u001b[0m\u001b[0;34m:\u001b[0m\u001b[0;34m\u001b[0m\u001b[0m\n",
      "\u001b[0;32m<ipython-input-273-0f3246eba534>\u001b[0m in \u001b[0;36msolveLP\u001b[0;34m(C)\u001b[0m\n\u001b[1;32m     11\u001b[0m         \u001b[0mobj\u001b[0m \u001b[0;34m=\u001b[0m \u001b[0mcvx\u001b[0m\u001b[0;34m.\u001b[0m\u001b[0mMaximize\u001b[0m\u001b[0;34m(\u001b[0m\u001b[0mcvx\u001b[0m\u001b[0;34m.\u001b[0m\u001b[0msum_entries\u001b[0m\u001b[0;34m(\u001b[0m\u001b[0mcvx\u001b[0m\u001b[0;34m.\u001b[0m\u001b[0mmul_elemwise\u001b[0m\u001b[0;34m(\u001b[0m\u001b[0mA\u001b[0m\u001b[0;34m,\u001b[0m\u001b[0mx\u001b[0m\u001b[0;34m)\u001b[0m\u001b[0;34m)\u001b[0m\u001b[0;34m)\u001b[0m\u001b[0;34m\u001b[0m\u001b[0m\n\u001b[1;32m     12\u001b[0m         \u001b[0mprob\u001b[0m \u001b[0;34m=\u001b[0m \u001b[0mcvx\u001b[0m\u001b[0;34m.\u001b[0m\u001b[0mProblem\u001b[0m\u001b[0;34m(\u001b[0m\u001b[0mobj\u001b[0m\u001b[0;34m,\u001b[0m \u001b[0mconstraints_always\u001b[0m \u001b[0;34m+\u001b[0m \u001b[0mC\u001b[0m\u001b[0;34m)\u001b[0m\u001b[0;34m\u001b[0m\u001b[0m\n\u001b[0;32m---> 13\u001b[0;31m         \u001b[0mprob\u001b[0m\u001b[0;34m.\u001b[0m\u001b[0msolve\u001b[0m\u001b[0;34m(\u001b[0m\u001b[0;34m)\u001b[0m\u001b[0;34m\u001b[0m\u001b[0m\n\u001b[0m\u001b[1;32m     14\u001b[0m         \u001b[0;32mreturn\u001b[0m \u001b[0mx\u001b[0m\u001b[0;34m.\u001b[0m\u001b[0mvalue\u001b[0m\u001b[0;34m\u001b[0m\u001b[0m\n\u001b[1;32m     15\u001b[0m     \u001b[0mC_used\u001b[0m \u001b[0;34m=\u001b[0m \u001b[0;34m[\u001b[0m\u001b[0;34m]\u001b[0m\u001b[0;34m\u001b[0m\u001b[0m\n",
      "\u001b[0;32m/usr/local/lib/python3.6/site-packages/cvxpy/problems/problem.py\u001b[0m in \u001b[0;36msolve\u001b[0;34m(self, *args, **kwargs)\u001b[0m\n\u001b[1;32m    207\u001b[0m             \u001b[0;32mreturn\u001b[0m \u001b[0mfunc\u001b[0m\u001b[0;34m(\u001b[0m\u001b[0mself\u001b[0m\u001b[0;34m,\u001b[0m \u001b[0;34m*\u001b[0m\u001b[0margs\u001b[0m\u001b[0;34m,\u001b[0m \u001b[0;34m**\u001b[0m\u001b[0mkwargs\u001b[0m\u001b[0;34m)\u001b[0m\u001b[0;34m\u001b[0m\u001b[0m\n\u001b[1;32m    208\u001b[0m         \u001b[0;32melse\u001b[0m\u001b[0;34m:\u001b[0m\u001b[0;34m\u001b[0m\u001b[0m\n\u001b[0;32m--> 209\u001b[0;31m             \u001b[0;32mreturn\u001b[0m \u001b[0mself\u001b[0m\u001b[0;34m.\u001b[0m\u001b[0m_solve\u001b[0m\u001b[0;34m(\u001b[0m\u001b[0;34m*\u001b[0m\u001b[0margs\u001b[0m\u001b[0;34m,\u001b[0m \u001b[0;34m**\u001b[0m\u001b[0mkwargs\u001b[0m\u001b[0;34m)\u001b[0m\u001b[0;34m\u001b[0m\u001b[0m\n\u001b[0m\u001b[1;32m    210\u001b[0m \u001b[0;34m\u001b[0m\u001b[0m\n\u001b[1;32m    211\u001b[0m     \u001b[0;34m@\u001b[0m\u001b[0mclassmethod\u001b[0m\u001b[0;34m\u001b[0m\u001b[0m\n",
      "\u001b[0;32m/usr/local/lib/python3.6/site-packages/cvxpy/problems/problem.py\u001b[0m in \u001b[0;36m_solve\u001b[0;34m(self, solver, ignore_dcp, warm_start, verbose, parallel, **kwargs)\u001b[0m\n\u001b[1;32m    329\u001b[0m             results_dict = solver.solve(objective, constraints,\n\u001b[1;32m    330\u001b[0m                                         \u001b[0mself\u001b[0m\u001b[0;34m.\u001b[0m\u001b[0m_cached_data\u001b[0m\u001b[0;34m,\u001b[0m \u001b[0mwarm_start\u001b[0m\u001b[0;34m,\u001b[0m \u001b[0mverbose\u001b[0m\u001b[0;34m,\u001b[0m\u001b[0;34m\u001b[0m\u001b[0m\n\u001b[0;32m--> 331\u001b[0;31m                                         kwargs)\n\u001b[0m\u001b[1;32m    332\u001b[0m         \u001b[0;31m# Presolve determined problem was unbounded or infeasible.\u001b[0m\u001b[0;34m\u001b[0m\u001b[0;34m\u001b[0m\u001b[0m\n\u001b[1;32m    333\u001b[0m         \u001b[0;32melse\u001b[0m\u001b[0;34m:\u001b[0m\u001b[0;34m\u001b[0m\u001b[0m\n",
      "\u001b[0;32m/usr/local/lib/python3.6/site-packages/cvxpy/problems/solvers/ecos_intf.py\u001b[0m in \u001b[0;36msolve\u001b[0;34m(self, objective, constraints, cached_data, warm_start, verbose, solver_opts)\u001b[0m\n\u001b[1;32m    116\u001b[0m         \"\"\"\n\u001b[1;32m    117\u001b[0m         \u001b[0;32mimport\u001b[0m \u001b[0mecos\u001b[0m\u001b[0;34m\u001b[0m\u001b[0m\n\u001b[0;32m--> 118\u001b[0;31m         \u001b[0mdata\u001b[0m \u001b[0;34m=\u001b[0m \u001b[0mself\u001b[0m\u001b[0;34m.\u001b[0m\u001b[0mget_problem_data\u001b[0m\u001b[0;34m(\u001b[0m\u001b[0mobjective\u001b[0m\u001b[0;34m,\u001b[0m \u001b[0mconstraints\u001b[0m\u001b[0;34m,\u001b[0m \u001b[0mcached_data\u001b[0m\u001b[0;34m)\u001b[0m\u001b[0;34m\u001b[0m\u001b[0m\n\u001b[0m\u001b[1;32m    119\u001b[0m         \u001b[0mdata\u001b[0m\u001b[0;34m[\u001b[0m\u001b[0ms\u001b[0m\u001b[0;34m.\u001b[0m\u001b[0mDIMS\u001b[0m\u001b[0;34m]\u001b[0m\u001b[0;34m[\u001b[0m\u001b[0;34m'e'\u001b[0m\u001b[0;34m]\u001b[0m \u001b[0;34m=\u001b[0m \u001b[0mdata\u001b[0m\u001b[0;34m[\u001b[0m\u001b[0ms\u001b[0m\u001b[0;34m.\u001b[0m\u001b[0mDIMS\u001b[0m\u001b[0;34m]\u001b[0m\u001b[0;34m[\u001b[0m\u001b[0ms\u001b[0m\u001b[0;34m.\u001b[0m\u001b[0mEXP_DIM\u001b[0m\u001b[0;34m]\u001b[0m\u001b[0;34m\u001b[0m\u001b[0m\n\u001b[1;32m    120\u001b[0m         results_dict = ecos.solve(data[s.C], data[s.G], data[s.H],\n",
      "\u001b[0;32m/usr/local/lib/python3.6/site-packages/cvxpy/problems/solvers/solver.py\u001b[0m in \u001b[0;36mget_problem_data\u001b[0;34m(self, objective, constraints, cached_data)\u001b[0m\n\u001b[1;32m    244\u001b[0m         \u001b[0msym_data\u001b[0m \u001b[0;34m=\u001b[0m \u001b[0mself\u001b[0m\u001b[0;34m.\u001b[0m\u001b[0mget_sym_data\u001b[0m\u001b[0;34m(\u001b[0m\u001b[0mobjective\u001b[0m\u001b[0;34m,\u001b[0m \u001b[0mconstraints\u001b[0m\u001b[0;34m,\u001b[0m \u001b[0mcached_data\u001b[0m\u001b[0;34m)\u001b[0m\u001b[0;34m\u001b[0m\u001b[0m\n\u001b[1;32m    245\u001b[0m         matrix_data = self.get_matrix_data(objective, constraints,\n\u001b[0;32m--> 246\u001b[0;31m                                            cached_data)\n\u001b[0m\u001b[1;32m    247\u001b[0m         \u001b[0mdata\u001b[0m \u001b[0;34m=\u001b[0m \u001b[0;34m{\u001b[0m\u001b[0;34m}\u001b[0m\u001b[0;34m\u001b[0m\u001b[0m\n\u001b[1;32m    248\u001b[0m         \u001b[0mdata\u001b[0m\u001b[0;34m[\u001b[0m\u001b[0ms\u001b[0m\u001b[0;34m.\u001b[0m\u001b[0mC\u001b[0m\u001b[0;34m]\u001b[0m\u001b[0;34m,\u001b[0m \u001b[0mdata\u001b[0m\u001b[0;34m[\u001b[0m\u001b[0ms\u001b[0m\u001b[0;34m.\u001b[0m\u001b[0mOFFSET\u001b[0m\u001b[0;34m]\u001b[0m \u001b[0;34m=\u001b[0m \u001b[0mmatrix_data\u001b[0m\u001b[0;34m.\u001b[0m\u001b[0mget_objective\u001b[0m\u001b[0;34m(\u001b[0m\u001b[0;34m)\u001b[0m\u001b[0;34m\u001b[0m\u001b[0m\n",
      "\u001b[0;32m/usr/local/lib/python3.6/site-packages/cvxpy/problems/solvers/solver.py\u001b[0m in \u001b[0;36mget_matrix_data\u001b[0;34m(self, objective, constraints, cached_data)\u001b[0m\n\u001b[1;32m    222\u001b[0m                                                \u001b[0mself\u001b[0m\u001b[0;34m.\u001b[0m\u001b[0mvec_intf\u001b[0m\u001b[0;34m(\u001b[0m\u001b[0;34m)\u001b[0m\u001b[0;34m,\u001b[0m\u001b[0;34m\u001b[0m\u001b[0m\n\u001b[1;32m    223\u001b[0m                                                \u001b[0mself\u001b[0m\u001b[0;34m,\u001b[0m\u001b[0;34m\u001b[0m\u001b[0m\n\u001b[0;32m--> 224\u001b[0;31m                                                self.nonlin_constr())\n\u001b[0m\u001b[1;32m    225\u001b[0m         \u001b[0;32mreturn\u001b[0m \u001b[0mprob_data\u001b[0m\u001b[0;34m.\u001b[0m\u001b[0mmatrix_data\u001b[0m\u001b[0;34m\u001b[0m\u001b[0m\n\u001b[1;32m    226\u001b[0m \u001b[0;34m\u001b[0m\u001b[0m\n",
      "\u001b[0;32m/usr/local/lib/python3.6/site-packages/cvxpy/problems/problem_data/matrix_data.py\u001b[0m in \u001b[0;36m__init__\u001b[0;34m(self, sym_data, matrix_intf, vec_intf, solver, nonlin)\u001b[0m\n\u001b[1;32m     88\u001b[0m         self.ineq_cache = self._init_matrix_cache(ineq_constr,\n\u001b[1;32m     89\u001b[0m                                                   self.sym_data.x_length)\n\u001b[0;32m---> 90\u001b[0;31m         \u001b[0mself\u001b[0m\u001b[0;34m.\u001b[0m\u001b[0m_lin_matrix\u001b[0m\u001b[0;34m(\u001b[0m\u001b[0mself\u001b[0m\u001b[0;34m.\u001b[0m\u001b[0mineq_cache\u001b[0m\u001b[0;34m,\u001b[0m \u001b[0mcaching\u001b[0m\u001b[0;34m=\u001b[0m\u001b[0;32mTrue\u001b[0m\u001b[0;34m)\u001b[0m\u001b[0;34m\u001b[0m\u001b[0m\n\u001b[0m\u001b[1;32m     91\u001b[0m         \u001b[0;31m# Nonlinear constraints.\u001b[0m\u001b[0;34m\u001b[0m\u001b[0;34m\u001b[0m\u001b[0m\n\u001b[1;32m     92\u001b[0m         \u001b[0;32mif\u001b[0m \u001b[0mnonlin\u001b[0m\u001b[0;34m:\u001b[0m\u001b[0;34m\u001b[0m\u001b[0m\n",
      "\u001b[0;32m/usr/local/lib/python3.6/site-packages/cvxpy/problems/problem_data/matrix_data.py\u001b[0m in \u001b[0;36m_lin_matrix\u001b[0;34m(self, mat_cache, caching)\u001b[0m\n\u001b[1;32m    179\u001b[0m                 \u001b[0mactive_constr\u001b[0m\u001b[0;34m,\u001b[0m\u001b[0;34m\u001b[0m\u001b[0m\n\u001b[1;32m    180\u001b[0m                 \u001b[0mself\u001b[0m\u001b[0;34m.\u001b[0m\u001b[0msym_data\u001b[0m\u001b[0;34m.\u001b[0m\u001b[0mvar_offsets\u001b[0m\u001b[0;34m,\u001b[0m\u001b[0;34m\u001b[0m\u001b[0m\n\u001b[0;32m--> 181\u001b[0;31m                 \u001b[0mconstr_offsets\u001b[0m\u001b[0;34m\u001b[0m\u001b[0m\n\u001b[0m\u001b[1;32m    182\u001b[0m             )\n\u001b[1;32m    183\u001b[0m             \u001b[0;31m# Convert the constant offset to the correct data type.\u001b[0m\u001b[0;34m\u001b[0m\u001b[0;34m\u001b[0m\u001b[0m\n",
      "\u001b[0;32m/usr/local/lib/python3.6/site-packages/canonInterface.py\u001b[0m in \u001b[0;36mget_problem_matrix\u001b[0;34m(constrs, id_to_col, constr_offsets)\u001b[0m\n\u001b[1;32m     50\u001b[0m     \u001b[0mtmp\u001b[0m \u001b[0;34m=\u001b[0m \u001b[0;34m[\u001b[0m\u001b[0;34m]\u001b[0m\u001b[0;34m\u001b[0m\u001b[0m\n\u001b[1;32m     51\u001b[0m     \u001b[0;32mfor\u001b[0m \u001b[0mlin\u001b[0m \u001b[0;32min\u001b[0m \u001b[0mlinOps\u001b[0m\u001b[0;34m:\u001b[0m\u001b[0;34m\u001b[0m\u001b[0m\n\u001b[0;32m---> 52\u001b[0;31m         \u001b[0mtree\u001b[0m \u001b[0;34m=\u001b[0m \u001b[0mbuild_lin_op_tree\u001b[0m\u001b[0;34m(\u001b[0m\u001b[0mlin\u001b[0m\u001b[0;34m,\u001b[0m \u001b[0mtmp\u001b[0m\u001b[0;34m)\u001b[0m\u001b[0;34m\u001b[0m\u001b[0m\n\u001b[0m\u001b[1;32m     53\u001b[0m         \u001b[0mtmp\u001b[0m\u001b[0;34m.\u001b[0m\u001b[0mappend\u001b[0m\u001b[0;34m(\u001b[0m\u001b[0mtree\u001b[0m\u001b[0;34m)\u001b[0m\u001b[0;34m\u001b[0m\u001b[0m\n\u001b[1;32m     54\u001b[0m         \u001b[0mlin_vec\u001b[0m\u001b[0;34m.\u001b[0m\u001b[0mpush_back\u001b[0m\u001b[0;34m(\u001b[0m\u001b[0mtree\u001b[0m\u001b[0;34m)\u001b[0m\u001b[0;34m\u001b[0m\u001b[0m\n",
      "\u001b[0;32m/usr/local/lib/python3.6/site-packages/canonInterface.py\u001b[0m in \u001b[0;36mbuild_lin_op_tree\u001b[0;34m(root_linPy, tmp)\u001b[0m\n\u001b[1;32m    227\u001b[0m             \u001b[0;32mpass\u001b[0m\u001b[0;34m\u001b[0m\u001b[0m\n\u001b[1;32m    228\u001b[0m         \u001b[0;32melif\u001b[0m \u001b[0misinstance\u001b[0m\u001b[0;34m(\u001b[0m\u001b[0mlinPy\u001b[0m\u001b[0;34m.\u001b[0m\u001b[0mdata\u001b[0m\u001b[0;34m,\u001b[0m \u001b[0mtuple\u001b[0m\u001b[0;34m)\u001b[0m \u001b[0;32mand\u001b[0m \u001b[0misinstance\u001b[0m\u001b[0;34m(\u001b[0m\u001b[0mlinPy\u001b[0m\u001b[0;34m.\u001b[0m\u001b[0mdata\u001b[0m\u001b[0;34m[\u001b[0m\u001b[0;36m0\u001b[0m\u001b[0;34m]\u001b[0m\u001b[0;34m,\u001b[0m \u001b[0mslice\u001b[0m\u001b[0;34m)\u001b[0m\u001b[0;34m:\u001b[0m\u001b[0;34m\u001b[0m\u001b[0m\n\u001b[0;32m--> 229\u001b[0;31m             \u001b[0mset_slice_data\u001b[0m\u001b[0;34m(\u001b[0m\u001b[0mlinC\u001b[0m\u001b[0;34m,\u001b[0m \u001b[0mlinPy\u001b[0m\u001b[0;34m)\u001b[0m\u001b[0;34m\u001b[0m\u001b[0m\n\u001b[0m\u001b[1;32m    230\u001b[0m         \u001b[0;32melif\u001b[0m \u001b[0misinstance\u001b[0m\u001b[0;34m(\u001b[0m\u001b[0mlinPy\u001b[0m\u001b[0;34m.\u001b[0m\u001b[0mdata\u001b[0m\u001b[0;34m,\u001b[0m \u001b[0mfloat\u001b[0m\u001b[0;34m)\u001b[0m \u001b[0;32mor\u001b[0m \u001b[0misinstance\u001b[0m\u001b[0;34m(\u001b[0m\u001b[0mlinPy\u001b[0m\u001b[0;34m.\u001b[0m\u001b[0mdata\u001b[0m\u001b[0;34m,\u001b[0m \u001b[0mint\u001b[0m\u001b[0;34m)\u001b[0m\u001b[0;34m:\u001b[0m\u001b[0;34m\u001b[0m\u001b[0m\n\u001b[1;32m    231\u001b[0m             \u001b[0mlinC\u001b[0m\u001b[0;34m.\u001b[0m\u001b[0mset_dense_data\u001b[0m\u001b[0;34m(\u001b[0m\u001b[0mformat_matrix\u001b[0m\u001b[0;34m(\u001b[0m\u001b[0mlinPy\u001b[0m\u001b[0;34m.\u001b[0m\u001b[0mdata\u001b[0m\u001b[0;34m,\u001b[0m \u001b[0;34m'scalar'\u001b[0m\u001b[0;34m)\u001b[0m\u001b[0;34m)\u001b[0m\u001b[0;34m\u001b[0m\u001b[0m\n",
      "\u001b[0;32m/usr/local/lib/python3.6/site-packages/canonInterface.py\u001b[0m in \u001b[0;36mset_slice_data\u001b[0;34m(linC, linPy)\u001b[0m\n\u001b[1;32m    151\u001b[0m             \u001b[0mvec\u001b[0m\u001b[0;34m.\u001b[0m\u001b[0mpush_back\u001b[0m\u001b[0;34m(\u001b[0m\u001b[0mvar\u001b[0m\u001b[0;34m)\u001b[0m\u001b[0;34m\u001b[0m\u001b[0m\n\u001b[1;32m    152\u001b[0m \u001b[0;34m\u001b[0m\u001b[0m\n\u001b[0;32m--> 153\u001b[0;31m         \u001b[0mlinC\u001b[0m\u001b[0;34m.\u001b[0m\u001b[0mslice\u001b[0m\u001b[0;34m.\u001b[0m\u001b[0mpush_back\u001b[0m\u001b[0;34m(\u001b[0m\u001b[0mvec\u001b[0m\u001b[0;34m)\u001b[0m\u001b[0;34m\u001b[0m\u001b[0m\n\u001b[0m\u001b[1;32m    154\u001b[0m \u001b[0;34m\u001b[0m\u001b[0m\n\u001b[1;32m    155\u001b[0m \u001b[0;34m\u001b[0m\u001b[0m\n",
      "\u001b[0;31mKeyboardInterrupt\u001b[0m: "
     ]
    }
   ],
   "source": [
    "print(solveLPCP(A))"
   ]
  },
  {
   "cell_type": "code",
   "execution_count": null,
   "metadata": {},
   "outputs": [],
   "source": []
  }
 ],
 "metadata": {
  "kernelspec": {
   "display_name": "Python 3",
   "language": "python",
   "name": "python3"
  },
  "language_info": {
   "codemirror_mode": {
    "name": "ipython",
    "version": 3
   },
   "file_extension": ".py",
   "mimetype": "text/x-python",
   "name": "python",
   "nbconvert_exporter": "python",
   "pygments_lexer": "ipython3",
   "version": "3.6.1"
  }
 },
 "nbformat": 4,
 "nbformat_minor": 2
}
