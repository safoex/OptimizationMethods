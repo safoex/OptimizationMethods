{
 "cells": [
  {
   "cell_type": "code",
   "execution_count": 1,
   "metadata": {
    "collapsed": true
   },
   "outputs": [],
   "source": [
    "import gurobipy as grb\n",
    "import numpy as np\n",
    "import itertools"
   ]
  },
  {
   "cell_type": "code",
   "execution_count": 2,
   "metadata": {
    "collapsed": true
   },
   "outputs": [],
   "source": [
    "S, I, J, K, L, M = 15, 3, 5, 6, 5, 4\n",
    "plan = [0, 1, 2]\n",
    "def iterer(*args):\n",
    "    return itertools.product(*[range(x_) for x_ in args])"
   ]
  },
  {
   "cell_type": "code",
   "execution_count": 3,
   "metadata": {
    "collapsed": true
   },
   "outputs": [],
   "source": [
    "model = grb.Model(\"eurobot\")\n"
   ]
  },
  {
   "cell_type": "code",
   "execution_count": 4,
   "metadata": {
    "collapsed": true
   },
   "outputs": [],
   "source": [
    "x = model.addVars(range(S), range(I), range(J), range(K), range(M), name = 'x', vtype=grb.GRB.BINARY)\n",
    "y = model.addVars(range(S), range(I), range(J), range(L), name = 'y', vtype=grb.GRB.BINARY)"
   ]
  },
  {
   "cell_type": "code",
   "execution_count": 5,
   "metadata": {
    "collapsed": true
   },
   "outputs": [],
   "source": [
    "model.remove(model.getConstrs())"
   ]
  },
  {
   "cell_type": "markdown",
   "metadata": {},
   "source": [
    "## Unique action per step"
   ]
  },
  {
   "cell_type": "code",
   "execution_count": 6,
   "metadata": {
    "collapsed": true
   },
   "outputs": [],
   "source": [
    "model.addConstrs((x.sum(s, '*', '*', '*', '*') == 1 for s in iterer(S)));\n",
    "model.addConstrs((y.sum(s, i, j, '*') == x.sum(s, i, j, '*', '*') for s, i, j in iterer(S, I, J)));"
   ]
  },
  {
   "cell_type": "markdown",
   "metadata": {},
   "source": [
    "## Unique cubes and places constraints"
   ]
  },
  {
   "cell_type": "code",
   "execution_count": 7,
   "metadata": {
    "collapsed": true
   },
   "outputs": [],
   "source": [
    "model.addConstrs((y.sum('*', i, '*', l) == 1 for i, l in iterer(I, L)));\n",
    "model.addConstrs((x.sum('*', '*', j, k, '*') <= 1 for j, k in iterer(J, K)));"
   ]
  },
  {
   "cell_type": "markdown",
   "metadata": {},
   "source": [
    "## Tower height"
   ]
  },
  {
   "cell_type": "code",
   "execution_count": 8,
   "metadata": {
    "collapsed": true
   },
   "outputs": [],
   "source": [
    "model.addConstrs((y.sum('*', i, '*', '*') == 5 for i in iterer(I)));"
   ]
  },
  {
   "cell_type": "markdown",
   "metadata": {},
   "source": [
    "## Bonus plan requirements"
   ]
  },
  {
   "cell_type": "code",
   "execution_count": 9,
   "metadata": {},
   "outputs": [
    {
     "data": {
      "text/plain": [
       "{0: <gurobi.Constr *Awaiting Model Update*>,\n",
       " 1: <gurobi.Constr *Awaiting Model Update*>,\n",
       " 2: <gurobi.Constr *Awaiting Model Update*>}"
      ]
     },
     "execution_count": 9,
     "metadata": {},
     "output_type": "execute_result"
    }
   ],
   "source": [
    "pi = model.addVars(range(I), range(6), name = 'pi', vtype=grb.GRB.BINARY)\n",
    "\n",
    "plan_locations = [[0, 1, 2], [1, 2, 3], [2, 3, 4], [4, 3, 2], [3, 2, 1], [2, 1, 0]]\n",
    "for i, t in iterer(I, 6):\n",
    "    for j in range(3):\n",
    "        model.addConstr(pi[i, t] <= y.sum('*', i, plan[j],  plan_locations[t][j]))\n",
    "\n",
    "xi = model.addVars(range(I), name='xi', vtype=grb.GRB.BINARY)\n",
    "model.addConstrs((xi[i] <= pi.sum(i, '*') for i in range(I)))"
   ]
  },
  {
   "cell_type": "markdown",
   "metadata": {},
   "source": [
    "## l-Ordering"
   ]
  },
  {
   "cell_type": "code",
   "execution_count": 10,
   "metadata": {
    "collapsed": true
   },
   "outputs": [],
   "source": [
    "for s, l1, i in iterer(S,L,I):\n",
    "    for l2 in range(l1+1,L):\n",
    "        model.addConstr(grb.quicksum((y.sum(s_,i,'*',l1) for s_ in iterer(s) )) >= y.sum(s,i,'*',l2))"
   ]
  },
  {
   "cell_type": "markdown",
   "metadata": {},
   "source": [
    "## Ban collisions with other cubes"
   ]
  },
  {
   "cell_type": "code",
   "execution_count": 11,
   "metadata": {
    "run_control": {
     "marked": false
    }
   },
   "outputs": [
    {
     "data": {
      "text/plain": [
       "[0, 3, 2]"
      ]
     },
     "execution_count": 11,
     "metadata": {},
     "output_type": "execute_result"
    }
   ],
   "source": [
    "j_rel = np.zeros((J+1,J+1,2))\n",
    "j_map = np.array([\n",
    "                 [-1,-1,-1,-1,-1],\n",
    "                 [-1,-1, 2,-1,-1],\n",
    "                 [-1, 3, 4, 1,-1],\n",
    "                 [-1,-1, 0,-1,-1],\n",
    "                 [-1,-1,-1,-1,-1]\n",
    "                 ])\n",
    "\n",
    "j_on_map = np.zeros((J+1,2))\n",
    "\n",
    "\n",
    "for i1 in range(j_map.shape[0]):\n",
    "    for j1 in range(j_map.shape[1]):\n",
    "        if j_map[i1,j1] >= 0:\n",
    "            j_on_map[j_map[i1,j1]] = np.array([j1,i1])\n",
    "\n",
    "for i1 in range(j_map.shape[0]):\n",
    "    for j1 in range(j_map.shape[1]):\n",
    "        for i2 in range(j_map.shape[0]):\n",
    "            for j2 in range(j_map.shape[1]):\n",
    "                if j_map[i1,j1] >= 0 and j_map[i2,j2] >= 0:\n",
    "                    if i1 != i2 or j1 != j2:\n",
    "                        j_rel[j_map[i1,j1],j_map[i2,j2]] = np.array([j2-j1,i2-i1])\n",
    "                        \n",
    "# we need just to have free space on 3 'kletka' around the manipulator\n",
    "def m_manipulator(i,m):\n",
    "    return (m+i-1)%4\n",
    "\n",
    "only_non_free_places = [np.array([0,-1]),np.array([-1,0]),np.array([0,1]),np.array([1,0])]\n",
    "\n",
    "def only_non_free_dif(i,m):\n",
    "    direction =  m_manipulator(i,m)\n",
    "    return only_non_free_places[direction]\n",
    "\n",
    "def our_position(j1):\n",
    "    return j_on_map[j1]\n",
    "\n",
    "def list_of_possible_breaks(j1,i,m):\n",
    "    toreturn = []\n",
    "    dxy = [np.array([0,1]),np.array([1,0]),np.array([-1,0]),np.array([0,-1])]\n",
    "    for dd in dxy:\n",
    "        if (dd != only_non_free_dif(i,m)).any():\n",
    "            yx = j_on_map[j1] + dd\n",
    "            if j_map[int(yx[1]),int(yx[0])] >= 0:\n",
    "                toreturn.append(j_map[int(yx[1]),int(yx[0])])\n",
    "    return toreturn\n",
    "\n",
    "list_of_possible_breaks(4, 1, 3)"
   ]
  },
  {
   "cell_type": "code",
   "execution_count": 12,
   "metadata": {
    "collapsed": true
   },
   "outputs": [],
   "source": [
    "def debug_possible_breaks(j1, i, m):\n",
    "    return [0] if j1 == 4 else []"
   ]
  },
  {
   "cell_type": "code",
   "execution_count": 13,
   "metadata": {
    "collapsed": true
   },
   "outputs": [],
   "source": [
    "for s, i, j, k, m in iterer(S, I, J, K, M):\n",
    "    cubes_to_peak = list_of_possible_breaks(j, i, m)\n",
    "    if len(cubes_to_peak) > 0:\n",
    "        for cube in cubes_to_peak:\n",
    "            model.addConstr(grb.quicksum(x.sum(s_prev, '*', cube, k, '*') for s_prev in itertools.product(range(s))) \\\n",
    "                            >= x.sum(s, i, j, k, m))"
   ]
  },
  {
   "cell_type": "markdown",
   "metadata": {},
   "source": [
    "## Time"
   ]
  },
  {
   "cell_type": "code",
   "execution_count": 14,
   "metadata": {},
   "outputs": [
    {
     "data": {
      "text/plain": [
       "True"
      ]
     },
     "execution_count": 14,
     "metadata": {},
     "output_type": "execute_result"
    }
   ],
   "source": [
    "v = 2\n",
    "t_p = 2 # time of picking\n",
    "t_r = 1 # time of rotation on pi / 2\n",
    "t_m = 2 # time of moving on 6 cm\n",
    "\n",
    "picking_points = np.zeros((5, 4, 3, 3))\n",
    "cubes_coords = np.array([[0, -1], [1, 0], [0, 1], [-1, 0], [0, 0]])\n",
    "l1 = np.array([[[1, 0], [0, 1], [-1, 0]],\n",
    "               [[0, 1], [-1, 0], [0, -1]],\n",
    "               [[-1, 0], [0, -1], [1, 0]],\n",
    "               [[0, -1], [1, 0], [0, 1]]])\n",
    "\n",
    "picking_points[..., :2] = cubes_coords[:, np.newaxis, np.newaxis, :] + l1[np.newaxis, :, :, :]\n",
    "picking_points[..., 2] = np.array(range(4))[np.newaxis, :, np.newaxis]\n",
    "\n",
    "points_2 = np.reshape(picking_points, (60, 3))\n",
    "small_time_2 = t_m * np.abs(points_2[:, np.newaxis, 0] - points_2[np.newaxis, :, 0]) + \\\n",
    "             t_m * np.abs(points_2[:, np.newaxis, 1] - points_2[np.newaxis, :, 1]) + \\\n",
    "             t_r * ((points_2[:, np.newaxis, 2] - points_2[np.newaxis, :, 1]) % 4)\n",
    "        \n",
    "small_time = np.where(small_time_2 == 0, 0, small_time_2 + t_p)\n",
    "heap_points = np.array([[54, 85, 0], [119, 30, 0], [150, 110, 0], [150, 190, 0], [119, 270, 0], [54, 215, 0]])\n",
    "all_picking_points = np.reshape(points_2[np.newaxis, :, :2] * 6 + heap_points[:, np.newaxis, :2], (360, 2))\n",
    "big_time = np.sum((heap_points[:, np.newaxis] - heap_points[np.newaxis, :]) ** 2, axis=2) ** 0.5 / v\n",
    "times = np.sum((all_picking_points[:, np.newaxis] - all_picking_points[np.newaxis, :]) ** 2, axis=2) ** 0.5 / v + t_p\n",
    "for i in range(6):\n",
    "    times[i * 60: (i + 1) * 60, i * 60: (i + 1) * 60] = small_time\n",
    "small_time = small_time.reshape(5, 4, 3, 5, 4, 3)\n",
    "times = times.reshape(6, 5, 4, 3, 6, 5, 4, 3)\n",
    "np.all(times >= 0)"
   ]
  },
  {
   "cell_type": "code",
   "execution_count": 15,
   "metadata": {},
   "outputs": [
    {
     "name": "stdout",
     "output_type": "stream",
     "text": [
      "Wall time: 1.59 s\n"
     ]
    }
   ],
   "source": [
    "%%time\n",
    "f = model.addVars(range(S), range(I), range(J), range(M), name = 'f', vtype=grb.GRB.BINARY)\n",
    "model.addConstrs((x.sum(s, i, j, '*', m) == f[s, i, j, m] for s, i, j, m in iterer(S, I, J, M)))\n",
    "gen_1 = (f[s, i_1, j_1, m_1] * f[s + 1, i_2, j_2, m_2] * \\\n",
    "       small_time[j_1, m_1, i_1, j_2, m_2, i_2] for s, i_1, j_1, m_1, i_2, j_2, m_2 \\\n",
    "       in iterer(S - 1, I, J, M, I, J, M))\n",
    "km = model.addVars(range(S), range(K), name = 'km', vtype=grb.GRB.BINARY)\n",
    "model.addConstrs((x.sum(s, '*', '*', k, '*') == km[s, k] for s, k in iterer(S, K)))\n",
    "gen_2 = (km[s, k_1] * km[s + 1, k_2] * \\\n",
    "       big_time[k_1, k_2] for s, k_1, k_2 \\\n",
    "       in iterer(S - 1, K, K)) \n",
    "# model.addConstr(grb.quicksum(gen) <= T, 'time')\n",
    "part_time_1 = grb.quicksum(gen_1)\n",
    "part_time_2 = grb.quicksum(gen_2)\n",
    "left_part_time = part_time_1 + part_time_2"
   ]
  },
  {
   "cell_type": "markdown",
   "metadata": {},
   "source": [
    "## Objective (min $t$ task)"
   ]
  },
  {
   "cell_type": "code",
   "execution_count": 16,
   "metadata": {},
   "outputs": [
    {
     "data": {
      "text/plain": [
       "<gurobi.Constr *Awaiting Model Update*>"
      ]
     },
     "execution_count": 16,
     "metadata": {},
     "output_type": "execute_result"
    }
   ],
   "source": [
    "model.addConstr(xi.sum('*') == 3)"
   ]
  },
  {
   "cell_type": "code",
   "execution_count": 17,
   "metadata": {},
   "outputs": [],
   "source": [
    "model.setObjective(left_part_time, grb.GRB.MINIMIZE)"
   ]
  },
  {
   "cell_type": "markdown",
   "metadata": {},
   "source": [
    "## Objective (max $\\xi$ task)"
   ]
  },
  {
   "cell_type": "code",
   "execution_count": 18,
   "metadata": {
    "collapsed": true
   },
   "outputs": [],
   "source": [
    "# T = 150\n",
    "# model.addConstr(left_part_time <= T, 'time');"
   ]
  },
  {
   "cell_type": "code",
   "execution_count": 19,
   "metadata": {
    "collapsed": true
   },
   "outputs": [],
   "source": [
    "# obj = xi.sum('*')\n",
    "# model.setObjective(obj, grb.GRB.MAXIMIZE)"
   ]
  },
  {
   "cell_type": "markdown",
   "metadata": {},
   "source": [
    "## Optimization "
   ]
  },
  {
   "cell_type": "code",
   "execution_count": 20,
   "metadata": {},
   "outputs": [
    {
     "name": "stdout",
     "output_type": "stream",
     "text": [
      "Changed value of parameter TimeLimit to 200.0\n",
      "   Prev: 1e+100  Min: 0.0  Max: 1e+100  Default: 1e+100\n",
      "Optimize a model with 8266 rows, 7536 columns and 601053 nonzeros\n",
      "Model has 49518 quadratic objective terms\n",
      "Variable types: 0 continuous, 7536 integer (7536 binary)\n",
      "Coefficient statistics:\n",
      "  Matrix range     [1e+00, 1e+00]\n",
      "  Objective range  [0e+00, 0e+00]\n",
      "  QObjective range [6e+00, 2e+02]\n",
      "  Bounds range     [1e+00, 1e+00]\n",
      "  RHS range        [1e+00, 5e+00]\n",
      "Sparsify removed 456597 nonzeros (90%)\n",
      "Presolve removed 829 rows and 285 columns\n",
      "Presolve time: 1.84s\n",
      "Presolved: 51585 rows, 51399 columns, 180477 nonzeros\n",
      "Variable types: 0 continuous, 51399 integer (51039 binary)\n",
      "\n",
      "Root simplex log...\n",
      "\n",
      "Iteration    Objective       Primal Inf.    Dual Inf.      Time\n",
      "    5356    2.8465649e-05   3.508419e+04   0.000000e+00      5s\n",
      "    9839    0.0000000e+00   0.000000e+00   0.000000e+00     10s\n",
      "\n",
      "Root relaxation: objective 0.000000e+00, 9839 iterations, 7.81 seconds\n",
      "Total elapsed time = 14.96s\n",
      "Total elapsed time = 32.07s\n",
      "\n",
      "    Nodes    |    Current Node    |     Objective Bounds      |     Work\n",
      " Expl Unexpl |  Obj  Depth IntInf | Incumbent    BestBd   Gap | It/Node Time\n",
      "\n",
      "     0     0    0.00000    0  694          -    0.00000      -     -   39s\n",
      "     0     0    0.00000    0  818          -    0.00000      -     -   53s\n",
      "     0     0    0.00000    0  644          -    0.00000      -     -   54s\n",
      "     0     0    0.00000    0  384          -    0.00000      -     -  115s\n",
      "     0     0    0.00000    0  381          -    0.00000      -     -  116s\n",
      "     0     0    0.00000    0  413          -    0.00000      -     -  184s\n",
      "     0     0    0.00000    0  388          -    0.00000      -     -  185s\n",
      "     0     0    0.00000    0  639          -    0.00000      -     -  200s\n",
      "\n",
      "Cutting planes:\n",
      "  Implied bound: 7\n",
      "  Clique: 6\n",
      "  MIR: 9\n",
      "  Zero half: 25\n",
      "\n",
      "Explored 1 nodes (156457 simplex iterations) in 200.07 seconds\n",
      "Thread count was 4 (of 4 available processors)\n",
      "\n",
      "Solution count 0\n",
      "\n",
      "Time limit reached\n",
      "Best objective -, best bound 0.000000000000e+00, gap -\n"
     ]
    }
   ],
   "source": [
    "model.Params.TimeLimit = 200.0\n",
    "model.update()\n",
    "model.optimize()"
   ]
  },
  {
   "cell_type": "code",
   "execution_count": 21,
   "metadata": {},
   "outputs": [
    {
     "name": "stdout",
     "output_type": "stream",
     "text": [
      "\n",
      "    Variable            x \n",
      "-------------------------\n"
     ]
    },
    {
     "ename": "GurobiError",
     "evalue": "Unable to retrieve attribute 'x'",
     "output_type": "error",
     "traceback": [
      "\u001b[1;31m---------------------------------------------------------------------------\u001b[0m",
      "\u001b[1;31mGurobiError\u001b[0m                               Traceback (most recent call last)",
      "\u001b[1;32m<ipython-input-21-8205246f987b>\u001b[0m in \u001b[0;36m<module>\u001b[1;34m()\u001b[0m\n\u001b[1;32m----> 1\u001b[1;33m \u001b[0mmodel\u001b[0m\u001b[1;33m.\u001b[0m\u001b[0mprintAttr\u001b[0m\u001b[1;33m(\u001b[0m\u001b[1;34m'x'\u001b[0m\u001b[1;33m)\u001b[0m\u001b[1;33m\u001b[0m\u001b[0m\n\u001b[0m",
      "\u001b[1;32mmodel.pxi\u001b[0m in \u001b[0;36mgurobipy.Model.printAttr (../../src/python/gurobipy.c:72479)\u001b[1;34m()\u001b[0m\n",
      "\u001b[1;32mmodel.pxi\u001b[0m in \u001b[0;36mgurobipy.Model.getAttr (../../src/python/gurobipy.c:66079)\u001b[1;34m()\u001b[0m\n",
      "\u001b[1;32mmodel.pxi\u001b[0m in \u001b[0;36mgurobipy.Model.__gettypedattrlist (../../src/python/gurobipy.c:100080)\u001b[1;34m()\u001b[0m\n",
      "\u001b[1;31mGurobiError\u001b[0m: Unable to retrieve attribute 'x'"
     ]
    }
   ],
   "source": [
    "model.printAttr('x')"
   ]
  },
  {
   "cell_type": "code",
   "execution_count": null,
   "metadata": {},
   "outputs": [],
   "source": [
    "left_part_time.getValue()"
   ]
  },
  {
   "cell_type": "code",
   "execution_count": null,
   "metadata": {},
   "outputs": [],
   "source": [
    "part_time_1.getValue()"
   ]
  },
  {
   "cell_type": "code",
   "execution_count": null,
   "metadata": {},
   "outputs": [],
   "source": [
    "part_time_2.getValue()"
   ]
  },
  {
   "cell_type": "code",
   "execution_count": null,
   "metadata": {},
   "outputs": [],
   "source": [
    "np.round(big_time)"
   ]
  },
  {
   "cell_type": "code",
   "execution_count": null,
   "metadata": {
    "collapsed": true
   },
   "outputs": [],
   "source": []
  }
 ],
 "metadata": {
  "kernelspec": {
   "display_name": "Python 3",
   "language": "python",
   "name": "python3"
  },
  "language_info": {
   "codemirror_mode": {
    "name": "ipython",
    "version": 3
   },
   "file_extension": ".py",
   "mimetype": "text/x-python",
   "name": "python",
   "nbconvert_exporter": "python",
   "pygments_lexer": "ipython3",
   "version": "3.6.1"
  },
  "toc": {
   "nav_menu": {},
   "number_sections": true,
   "sideBar": true,
   "skip_h1_title": false,
   "toc_cell": false,
   "toc_position": {},
   "toc_section_display": "block",
   "toc_window_display": false
  },
  "varInspector": {
   "cols": {
    "lenName": 16,
    "lenType": 16,
    "lenVar": 40
   },
   "kernels_config": {
    "python": {
     "delete_cmd_postfix": "",
     "delete_cmd_prefix": "del ",
     "library": "var_list.py",
     "varRefreshCmd": "print(var_dic_list())"
    },
    "r": {
     "delete_cmd_postfix": ") ",
     "delete_cmd_prefix": "rm(",
     "library": "var_list.r",
     "varRefreshCmd": "cat(var_dic_list()) "
    }
   },
   "types_to_exclude": [
    "module",
    "function",
    "builtin_function_or_method",
    "instance",
    "_Feature"
   ],
   "window_display": false
  }
 },
 "nbformat": 4,
 "nbformat_minor": 2
}
