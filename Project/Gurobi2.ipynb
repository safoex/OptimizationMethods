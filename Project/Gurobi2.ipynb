{
 "cells": [
  {
   "cell_type": "code",
   "execution_count": 1,
   "metadata": {},
   "outputs": [],
   "source": [
    "import gurobipy as grb\n",
    "import numpy as np\n",
    "import itertools"
   ]
  },
  {
   "cell_type": "code",
   "execution_count": 2,
   "metadata": {},
   "outputs": [],
   "source": [
    "S, I, J, K, L, M = 15, 3, 5, 6, 5, 4\n",
    "plan = [0, 1, 2]\n",
    "def iterer(*args):\n",
    "    return itertools.product(*[range(x_) for x_ in args])"
   ]
  },
  {
   "cell_type": "code",
   "execution_count": 3,
   "metadata": {},
   "outputs": [],
   "source": [
    "model = grb.Model(\"eurobot\")\n"
   ]
  },
  {
   "cell_type": "code",
   "execution_count": 4,
   "metadata": {},
   "outputs": [],
   "source": [
    "x = model.addVars(range(S), range(I), range(J), range(K), range(M), name = 'x', vtype=grb.GRB.BINARY)\n",
    "y = model.addVars(range(S), range(I), range(J), range(L), name = 'y', vtype=grb.GRB.BINARY)"
   ]
  },
  {
   "cell_type": "code",
   "execution_count": 119,
   "metadata": {},
   "outputs": [],
   "source": [
    "model.remove(model.getConstrs())"
   ]
  },
  {
   "cell_type": "markdown",
   "metadata": {},
   "source": [
    "## Unique action per step"
   ]
  },
  {
   "cell_type": "code",
   "execution_count": 120,
   "metadata": {},
   "outputs": [],
   "source": [
    "model.addConstrs((x.sum(s, '*', '*', '*', '*') == 1 for s in iterer(S)));\n",
    "model.addConstrs((y.sum(s, i, j, '*') == x.sum(s, i, j, '*', '*') for s, i, j in iterer(S, I, J)));"
   ]
  },
  {
   "cell_type": "markdown",
   "metadata": {},
   "source": [
    "## Unique cubes and places constraints"
   ]
  },
  {
   "cell_type": "code",
   "execution_count": 121,
   "metadata": {},
   "outputs": [],
   "source": [
    "model.addConstrs((y.sum('*', i, '*', l) == 1 for i, l in iterer(I, L)));\n",
    "model.addConstrs((x.sum('*', j, k, '*', '*') <= 1 for j, k in iterer(J, K)));"
   ]
  },
  {
   "cell_type": "markdown",
   "metadata": {},
   "source": [
    "## Tower height"
   ]
  },
  {
   "cell_type": "code",
   "execution_count": 122,
   "metadata": {},
   "outputs": [],
   "source": [
    "model.addConstrs((y.sum('*', i, '*', '*') == 5 for i in iterer(I)));"
   ]
  },
  {
   "cell_type": "markdown",
   "metadata": {},
   "source": [
    "## Bonus plan requirements"
   ]
  },
  {
   "cell_type": "code",
   "execution_count": 123,
   "metadata": {},
   "outputs": [
    {
     "data": {
      "text/plain": [
       "{0: <gurobi.Constr *Awaiting Model Update*>,\n",
       " 1: <gurobi.Constr *Awaiting Model Update*>,\n",
       " 2: <gurobi.Constr *Awaiting Model Update*>}"
      ]
     },
     "execution_count": 123,
     "metadata": {},
     "output_type": "execute_result"
    }
   ],
   "source": [
    "pi = model.addVars(range(I), range(6), name = 'pi', vtype=grb.GRB.BINARY)\n",
    "\n",
    "plan_locations = [[0, 1, 2], [1, 2, 3], [2, 3, 4], [4, 3, 2], [3, 2, 1], [2, 1, 0]]\n",
    "for i, t in iterer(I, 6):\n",
    "    for j in range(3):\n",
    "        model.addConstr(pi[i, t] <= y.sum('*', i, plan[j],  plan_locations[t][j]))\n",
    "\n",
    "xi = model.addVars(range(I), name='xi', vtype=grb.GRB.BINARY)\n",
    "model.addConstrs((xi[i] <= pi.sum(i, '*') for i in range(I)))"
   ]
  },
  {
   "cell_type": "markdown",
   "metadata": {},
   "source": [
    "## l-Ordering"
   ]
  },
  {
   "cell_type": "code",
   "execution_count": 124,
   "metadata": {},
   "outputs": [],
   "source": [
    "for s, l1, i in iterer(S,L,I):\n",
    "    for l2 in range(l1+1,L):\n",
    "        model.addConstr(grb.quicksum((y.sum(s_,i,'*',l1) for s_ in iterer(s) )) >= y.sum(s,i,'*',l2))"
   ]
  },
  {
   "cell_type": "markdown",
   "metadata": {},
   "source": [
    "## Ban collisions with other cubes"
   ]
  },
  {
   "cell_type": "code",
   "execution_count": 125,
   "metadata": {
    "run_control": {
     "marked": false
    }
   },
   "outputs": [
    {
     "data": {
      "text/plain": [
       "[4]"
      ]
     },
     "execution_count": 125,
     "metadata": {},
     "output_type": "execute_result"
    }
   ],
   "source": [
    "j_rel = np.zeros((J+1,J+1,2))\n",
    "j_map = np.array([\n",
    "                 [-1,-1,-1,-1,-1],\n",
    "                 [-1,-1, 2,-1,-1],\n",
    "                 [-1, 3, 4, 1,-1],\n",
    "                 [-1,-1, 0,-1,-1],\n",
    "                 [-1,-1,-1,-1,-1]\n",
    "                 ])\n",
    "\n",
    "j_on_map = np.zeros((J+1,2))\n",
    "\n",
    "\n",
    "for i1 in range(j_map.shape[0]):\n",
    "    for j1 in range(j_map.shape[1]):\n",
    "        if j_map[i1,j1] >= 0:\n",
    "            j_on_map[j_map[i1,j1]] = np.array([j1,i1])\n",
    "\n",
    "for i1 in range(j_map.shape[0]):\n",
    "    for j1 in range(j_map.shape[1]):\n",
    "        for i2 in range(j_map.shape[0]):\n",
    "            for j2 in range(j_map.shape[1]):\n",
    "                if j_map[i1,j1] >= 0 and j_map[i2,j2] >= 0:\n",
    "                    if i1 != i2 or j1 != j2:\n",
    "                        j_rel[j_map[i1,j1],j_map[i2,j2]] = np.array([j2-j1,i2-i1])\n",
    "                        \n",
    "# we need just to have free space on 3 'kletka' around the manipulator\n",
    "def m_manipulator(i,m):\n",
    "    return (m+i-1)%4\n",
    "\n",
    "only_non_free_places = [np.array([0,-1]),np.array([-1,0]),np.array([0,1]),np.array([1,0])]\n",
    "\n",
    "def only_non_free_dif(i,m):\n",
    "    direction =  m_manipulator(i,m)\n",
    "    return only_non_free_places[direction]\n",
    "\n",
    "def our_position(j1):\n",
    "    return j_on_map[j1]\n",
    "\n",
    "def list_of_possible_breaks(j1,i,m):\n",
    "    toreturn = []\n",
    "    dxy = [np.array([0,1]),np.array([1,0]),np.array([-1,0]),np.array([0,-1])]\n",
    "    for dd in dxy:\n",
    "        if (dd != only_non_free_dif(i,m)).any():\n",
    "            yx = j_on_map[j1] + dd\n",
    "            if j_map[int(yx[1]),int(yx[0])] >= 0:\n",
    "                toreturn.append(j_map[int(yx[1]),int(yx[0])])\n",
    "    return toreturn\n",
    "\n",
    "list_of_possible_breaks(2, 2, 3)"
   ]
  },
  {
   "cell_type": "code",
   "execution_count": 126,
   "metadata": {},
   "outputs": [],
   "source": [
    "def debug_possible_breaks(j1, i, m):\n",
    "    return [0] if j1 == 4 else []"
   ]
  },
  {
   "cell_type": "code",
   "execution_count": 127,
   "metadata": {},
   "outputs": [],
   "source": [
    "for s, i, j, k, m in iterer(S, I, J, K, M):\n",
    "    cubes_to_peak = list_of_possible_breaks(j, i, m)\n",
    "#     print(\"%d %d %d\"%(i,j,m) + ' ' + str(cubes_to_peak))\n",
    "    left_gen = (x.sum(s_prev, '*', cube, k, '*') for s_prev, cube in itertools.product(range(s), cubes_to_peak))\n",
    "#         expr = grb.LinExpr()\n",
    "#         for s_prev, cube in itertools.product(range(s), cubes_to_peak):\n",
    "#             expr += x.sum(s_prev, '*', cube, k, '*', '*')\n",
    "    if s> 0 and len(cubes_to_peak) > 0:    \n",
    "        model.addConstr(grb.quicksum(left_gen) >= x.sum(s, i, j, k, m))"
   ]
  },
  {
   "cell_type": "markdown",
   "metadata": {},
   "source": [
    "## Time"
   ]
  },
  {
   "cell_type": "code",
   "execution_count": 111,
   "metadata": {},
   "outputs": [],
   "source": [
    "v = 20\n",
    "t_p = 2 # time of picking\n",
    "t_r = 1 # time of rotation on pi / 2\n",
    "t_m = 2 # time of moving on 6 cm\n",
    "\n",
    "picking_points = np.zeros((5, 4, 3, 3))\n",
    "cubes_coords = np.array([[0, -1], [1, 0], [0, 1], [-1, 0], [0, 0]])\n",
    "l1 = np.array([[[1, 0], [0, 1], [-1, 0]],\n",
    "               [[0, 1], [-1, 0], [0, -1]],\n",
    "               [[-1, 0], [0, -1], [1, 0]],\n",
    "               [[0, -1], [1, 0], [0, 1]]])\n",
    "\n",
    "picking_points[..., :2] = cubes_coords[:, np.newaxis, np.newaxis, :] + l1[np.newaxis, :, :, :]\n",
    "picking_points[..., 2] = np.array(range(4))[np.newaxis, :, np.newaxis]\n",
    "\n",
    "points_2 = np.reshape(picking_points, (60, 3))\n",
    "small_time_2 = t_m * np.abs(points_2[:, np.newaxis, 0] - points_2[np.newaxis, :, 0]) + \\\n",
    "             t_m * np.abs(points_2[:, np.newaxis, 1] - points_2[np.newaxis, :, 1]) + \\\n",
    "             t_r * ((points_2[:, np.newaxis, 2] - points_2[np.newaxis, :, 1]) % 4)\n",
    "        \n",
    "small_time = np.where(small_time_2 == 0, 0, small_time_2 + t_p)\n",
    "heap_points = np.array([[54, 85, 0], [119, 30, 0], [150, 110, 0], [150, 190, 0], [119, 270, 0], [54, 215, 0]])\n",
    "all_picking_points = np.reshape(points_2[np.newaxis, :, :2] * 6 + heap_points[:, np.newaxis, :2], (360, 2))\n",
    "times = np.sum((all_picking_points[:, np.newaxis] - all_picking_points[np.newaxis, :]) ** 2, axis=2) ** 0.5 / v + t_p\n",
    "for i in range(6):\n",
    "    times[i * 60: (i + 1) * 60, i * 60: (i + 1) * 60] = small_time\n",
    "times = times.reshape(6, 5, 4, 3, 6, 5, 4, 3)"
   ]
  },
  {
   "cell_type": "code",
   "execution_count": 112,
   "metadata": {},
   "outputs": [
    {
     "name": "stdout",
     "output_type": "stream",
     "text": [
      "CPU times: user 3min 56s, sys: 300 ms, total: 3min 56s\n",
      "Wall time: 3min 57s\n"
     ]
    }
   ],
   "source": [
    "%%time\n",
    "gen = (x.sum(s, i_1, j_1, k_1, m_1) * x.sum(s + 1, i_2, j_2, k_2, m_2) * \\\n",
    "       times[k_1, j_1, m_1, i_1, k_2, j_2, m_2, i_2] for s, i_1, j_1, k_1, m_1, i_2, j_2, k_2, m_2 \\\n",
    "       in iterer(S - 1, I, J, K, M, I, J, K, M))\n",
    "left_part_time  = grb.quicksum(gen)"
   ]
  },
  {
   "cell_type": "code",
   "execution_count": 128,
   "metadata": {},
   "outputs": [
    {
     "name": "stdout",
     "output_type": "stream",
     "text": [
      "0 0 1\n",
      "0 0 2\n",
      "0 0 3\n",
      "0 0 4\n",
      "0 0 5\n",
      "0 1 1\n",
      "0 1 2\n",
      "0 1 3\n",
      "0 1 4\n",
      "0 1 5\n",
      "0 2 1\n",
      "0 2 2\n",
      "0 2 3\n",
      "0 2 4\n",
      "0 2 5\n",
      "0 3 1\n",
      "0 3 2\n",
      "0 3 3\n",
      "0 3 4\n",
      "0 3 5\n",
      "0 4 1\n",
      "0 4 2\n",
      "0 4 3\n",
      "0 4 4\n",
      "0 4 5\n",
      "1 5 0\n",
      "1 5 2\n",
      "1 5 3\n",
      "1 5 4\n",
      "1 5 5\n",
      "1 6 0\n",
      "1 6 2\n",
      "1 6 3\n",
      "1 6 4\n",
      "1 6 5\n",
      "1 7 0\n",
      "1 7 2\n",
      "1 7 3\n",
      "1 7 4\n",
      "1 7 5\n",
      "1 8 0\n",
      "1 8 2\n",
      "1 8 3\n",
      "1 8 4\n",
      "1 8 5\n",
      "1 9 0\n",
      "1 9 2\n",
      "1 9 3\n",
      "1 9 4\n",
      "1 9 5\n",
      "2 10 0\n",
      "2 10 1\n",
      "2 10 3\n",
      "2 10 4\n",
      "2 10 5\n",
      "2 11 0\n",
      "2 11 1\n",
      "2 11 3\n",
      "2 11 4\n",
      "2 11 5\n",
      "2 12 0\n",
      "2 12 1\n",
      "2 12 3\n",
      "2 12 4\n",
      "2 12 5\n",
      "2 13 0\n",
      "2 13 1\n",
      "2 13 3\n",
      "2 13 4\n",
      "2 13 5\n",
      "2 14 0\n",
      "2 14 1\n",
      "2 14 3\n",
      "2 14 4\n",
      "2 14 5\n"
     ]
    }
   ],
   "source": [
    "for k in range(3):\n",
    "    for i in range(5):\n",
    "        for k_other in range(K):\n",
    "            if k_other != k:\n",
    "                print(k,k*5+i, k_other)\n",
    "                model.addConstr(x.sum(k*5 + i,'*','*',k_other,'*') == 0)\n",
    "        "
   ]
  },
  {
   "cell_type": "markdown",
   "metadata": {},
   "source": [
    "## Objective (min $t$ task)"
   ]
  },
  {
   "cell_type": "code",
   "execution_count": 129,
   "metadata": {},
   "outputs": [
    {
     "data": {
      "text/plain": [
       "<gurobi.Constr *Awaiting Model Update*>"
      ]
     },
     "execution_count": 129,
     "metadata": {},
     "output_type": "execute_result"
    }
   ],
   "source": [
    "model.addConstr(xi.sum('*') == 3)"
   ]
  },
  {
   "cell_type": "code",
   "execution_count": 130,
   "metadata": {},
   "outputs": [],
   "source": [
    "model.setObjective(left_part_time, grb.GRB.MINIMIZE)"
   ]
  },
  {
   "cell_type": "markdown",
   "metadata": {},
   "source": [
    "## Objective (max $\\xi$ task)"
   ]
  },
  {
   "cell_type": "code",
   "execution_count": 114,
   "metadata": {},
   "outputs": [],
   "source": [
    "T = 150\n",
    "model.addConstr(left_part_time <= T, 'time');"
   ]
  },
  {
   "cell_type": "code",
   "execution_count": 115,
   "metadata": {},
   "outputs": [],
   "source": [
    "obj = xi.sum('*')\n",
    "model.setObjective(obj, grb.GRB.MAXIMIZE)"
   ]
  },
  {
   "cell_type": "markdown",
   "metadata": {},
   "source": [
    "## Optimization "
   ]
  },
  {
   "cell_type": "code",
   "execution_count": 132,
   "metadata": {},
   "outputs": [
    {
     "name": "stdout",
     "output_type": "stream",
     "text": [
      "Parameter TimeLimit unchanged\n",
      "   Value: 300.0  Min: 0.0  Max: 1e+100  Default: 1e+100\n",
      "Optimize a model with 4903 rows, 6714 columns and 591315 nonzeros\n",
      "Model has 1806588 quadratic objective terms\n",
      "Model has 6 quadratic constraints\n",
      "Variable types: 0 continuous, 6714 integer (6714 binary)\n",
      "Coefficient statistics:\n",
      "  Matrix range     [1e+00, 1e+00]\n",
      "  QMatrix range    [3e+00, 2e+01]\n",
      "  Objective range  [0e+00, 0e+00]\n",
      "  QObjective range [6e+00, 3e+01]\n",
      "  Bounds range     [1e+00, 1e+00]\n",
      "  RHS range        [1e+00, 5e+00]\n",
      "  QRHS range       [2e+02, 2e+02]\n",
      "Presolved: 1184 rows, 1642 columns, 37159 nonzeros\n",
      "Presolved model has 33116 quadratic objective terms\n",
      "\n",
      "Continuing optimization...\n",
      "\n",
      "  9746  7583 -4336.7421   61  441   45.95725    0.00000   100%  64.6  303s\n",
      "  9942  7740 -4107.2275   92  337   45.95725    0.00000   100%  64.9  306s\n",
      " 10483  8153 -4241.5550   54  388   45.95725    0.00000   100%  64.6  312s\n",
      " 10957  8512 -4016.9207   31  458   45.95725    0.00000   100%  64.3  317s\n",
      " 11448  8881 -4033.9384   57  341   45.95725    0.00000   100%  63.4  321s\n",
      " 11828  9166 -1418.0602   56   55   45.95725    0.00000   100%  63.1  326s\n",
      " 12306  9537 -4105.5243   34  360   45.95725    0.00000   100%  62.4  330s\n",
      " 12816  9906 -4129.6622   43  494   45.95725    0.00000   100%  61.8  336s\n",
      " 13240 10224 -2833.2677   67   81   45.95725    0.00000   100%  61.6  341s\n",
      " 13741 10575 -3479.1747   43  275   45.95725    0.00000   100%  60.9  345s\n",
      " 14149 10874 -3943.6390   44  387   45.95725    0.00000   100%  60.6  350s\n",
      " 14292 10980 -3232.1621   72  175   45.95725    0.00000   100%  60.9  355s\n",
      " 14724 11317 -2568.6034   64  110   45.95725    0.00000   100%  60.3  360s\n",
      " 15323 11763 -3878.8843   53  435   45.95725    0.00000   100%  59.6  366s\n",
      " 15735 12082 infeasible   36        45.95725    0.00000   100%  59.3  370s\n",
      " 16327 12534 -3592.8163   48  208   45.95725    0.00000   100%  59.2  377s\n",
      " 16692 12842 -3849.5003   49  340   45.95725    0.00000   100%  59.2  381s\n",
      " 17168 13233 -3383.6425   51  286   45.95725    0.00000   100%  58.7  385s\n",
      " 17529 13539 -3510.6599   79  186   45.95725    0.00000   100%  58.7  390s\n",
      " 18308 14108 -2542.9975   46   75   45.95725    0.00000   100%  57.9  396s\n",
      " 18777 14497 -3241.4824   62  240   45.95725    0.00000   100%  57.5  400s\n",
      " 19407 15022 -2303.6127   79   74   45.95725    0.00000   100%  57.1  406s\n",
      " 19822 15327 -2504.5279   72  108   45.95725    0.00000   100%  56.9  410s\n",
      " 20273 15658 -3016.3263   62  118   45.95725    0.00000   100%  56.5  415s\n",
      " 21076 16300 -3907.0764   43  320   45.95725    0.00000   100%  55.7  420s\n",
      " 21455 16593 -4075.4677   64  339   45.95725    0.00000   100%  55.9  427s\n",
      " 21891 16947  -21.58240   80    3   45.95725    0.00000   100%  55.6  432s\n",
      " 22375 17344 -3800.3852   51  320   45.95725    0.00000   100%  55.3  437s\n",
      " 22717 17594 -3723.7623   46  208   45.95725    0.00000   100%  55.1  441s\n",
      " 23051 17851 -3678.0250   48  222   45.95725    0.00000   100%  55.2  445s\n",
      " 23702 18342 -3674.1998   54  217   45.95725    0.00000   100%  54.9  451s\n",
      " 24173 18658 -4212.3290   43  405   45.95725    0.00000   100%  54.6  455s\n",
      " 24783 19141 -4164.3012   67  379   45.95725    0.00000   100%  54.4  461s\n",
      " 25277 19533 infeasible   31        45.95725    0.00000   100%  54.2  466s\n",
      " 25768 19883 -2252.8431   41   95   45.95725    0.00000   100%  53.9  470s\n",
      " 26318 20339 -3101.1719   64  230   45.95725    0.00000   100%  53.8  476s\n",
      " 26767 20691 -2925.6221   65  175   45.95725    0.00000   100%  53.6  480s\n",
      " 27191 21022 -2701.6655   90   93   45.95725    0.00000   100%  53.5  485s\n",
      " 27937 21619 -4024.6345   37  319   45.95725    0.00000   100%  53.1  490s\n",
      " 28583 22120 -178.14037   85    6   45.95725    0.00000   100%  52.9  496s\n",
      " 28991 22440 -4032.2393   44  316   45.95725    0.00000   100%  52.8  500s\n",
      " 29550 22870 -3212.8458   88  163   45.95725    0.00000   100%  52.7  506s\n",
      " 30027 23212 -2268.4213   27  134   45.95725    0.00000   100%  52.5  511s\n",
      " 30317 23450 -2529.2510   40  150   45.95725    0.00000   100%  52.4  515s\n",
      " 30807 23845 -3260.4499   77  259   45.95725    0.00000   100%  52.3  520s\n",
      " 31289 24170 -3932.2373   63  294   45.95725    0.00000   100%  52.2  527s\n",
      " 31566 24344 infeasible   47        45.95725    0.00000   100%  52.2  530s\n",
      " 32030 24689 -1821.5953   66   43   45.95725    0.00000   100%  52.1  535s\n",
      " 32487 25023 -4149.9440   48  340   45.95725    0.00000   100%  52.0  540s\n",
      " 32971 25354 -3925.7119   45  355   45.95725    0.00000   100%  51.8  545s\n",
      " 33352 25643 -3619.4437   74  181   45.95725    0.00000   100%  51.7  550s\n",
      " 34095 26190 -3962.7960   55  325   45.95725    0.00000   100%  51.6  557s\n",
      " 34564 26523 -3392.7287   48  233   45.95725    0.00000   100%  51.4  561s\n",
      " 35014 26876 -1528.0815   49   35   45.95725    0.00000   100%  51.4  565s\n",
      " 35233 27055 -4305.7342   35  437   45.95725    0.00000   100%  51.2  570s\n",
      " 35899 27548 infeasible   58        45.95725    0.00000   100%  51.0  576s\n",
      " 36428 27951 -3535.2787   55  237   45.95725    0.00000   100%  51.1  581s\n",
      " 36853 28246 -1606.4851   63   29   45.95725    0.00000   100%  51.0  586s\n",
      " 37295 28568 -4119.9631   49  464   45.95725    0.00000   100%  50.9  591s\n",
      " 37680 28898 -3726.5477   43  199   45.95725    0.00000   100%  50.9  596s\n",
      " 38063 29168 -2651.7566   52   67   45.95725    0.00000   100%  50.9  600s\n",
      "\n",
      "Cutting planes:\n",
      "  Clique: 1\n",
      "  MIR: 1\n",
      "  Flow cover: 3\n",
      "  Zero half: 5\n",
      "\n",
      "Explored 38382 nodes (1956663 simplex iterations) in 307.82 seconds\n",
      "Thread count was 4 (of 4 available processors)\n",
      "\n",
      "Solution count 5: 45.9573 46.9701 56.3759 ... 72.4501\n",
      "\n",
      "Time limit reached\n",
      "Best objective 4.595725392781e+01, best bound 0.000000000000e+00, gap 100.0000%\n"
     ]
    }
   ],
   "source": [
    "model.Params.TimeLimit = 300.0\n",
    "model.update()\n",
    "model.optimize()"
   ]
  },
  {
   "cell_type": "code",
   "execution_count": 133,
   "metadata": {},
   "outputs": [
    {
     "name": "stdout",
     "output_type": "stream",
     "text": [
      "\n",
      "    Variable            x \n",
      "-------------------------\n",
      "x[0,1,2,0,2]            1 \n",
      "x[1,1,1,0,1]            1 \n",
      "x[2,0,4,0,1]            1 \n",
      "x[3,2,4,0,3]            1 \n",
      "x[4,0,2,0,1]            1 \n",
      "x[5,2,0,1,3]            1 \n",
      "x[6,0,1,1,2]            1 \n",
      "x[7,2,1,1,0]            1 \n",
      "x[8,1,0,1,0]            1 \n",
      "x[9,1,3,1,3]            1 \n",
      "x[10,2,2,2,1]            1 \n",
      "x[11,0,0,2,1]            1 \n",
      "x[12,1,4,2,0]            1 \n",
      "x[13,0,3,2,0]            1 \n",
      "x[14,2,3,2,2]            1 \n",
      "  y[0,1,2,0]            1 \n",
      "  y[1,1,1,1]            1 \n",
      "  y[2,0,4,0]            1 \n",
      "  y[3,2,4,0]            1 \n",
      "  y[4,0,2,1]            1 \n",
      "  y[5,2,0,1]            1 \n",
      "  y[6,0,1,2]            1 \n",
      "  y[7,2,1,2]            1 \n",
      "  y[8,1,0,2]            1 \n",
      "  y[9,1,3,3]            1 \n",
      " y[10,2,2,3]            1 \n",
      " y[11,0,0,3]            1 \n",
      " y[12,1,4,4]            1 \n",
      " y[13,0,3,4]            1 \n",
      " y[14,2,3,4]            1 \n",
      "     pi[0,4]            1 \n",
      "     pi[1,5]            1 \n",
      "     pi[2,1]            1 \n",
      "       xi[0]            1 \n",
      "       xi[1]            1 \n",
      "       xi[2]            1 \n"
     ]
    }
   ],
   "source": [
    "model.printAttr('x')"
   ]
  },
  {
   "cell_type": "code",
   "execution_count": 134,
   "metadata": {},
   "outputs": [
    {
     "data": {
      "text/plain": [
       "45.957253927806313"
      ]
     },
     "execution_count": 134,
     "metadata": {},
     "output_type": "execute_result"
    }
   ],
   "source": [
    "left_part_time.getValue()"
   ]
  },
  {
   "cell_type": "code",
   "execution_count": null,
   "metadata": {},
   "outputs": [],
   "source": []
  }
 ],
 "metadata": {
  "kernelspec": {
   "display_name": "Python 3",
   "language": "python",
   "name": "python3"
  },
  "language_info": {
   "codemirror_mode": {
    "name": "ipython",
    "version": 3
   },
   "file_extension": ".py",
   "mimetype": "text/x-python",
   "name": "python",
   "nbconvert_exporter": "python",
   "pygments_lexer": "ipython3",
   "version": "3.6.1"
  },
  "toc": {
   "nav_menu": {},
   "number_sections": true,
   "sideBar": true,
   "skip_h1_title": false,
   "toc_cell": false,
   "toc_position": {},
   "toc_section_display": "block",
   "toc_window_display": false
  },
  "varInspector": {
   "cols": {
    "lenName": 16,
    "lenType": 16,
    "lenVar": 40
   },
   "kernels_config": {
    "python": {
     "delete_cmd_postfix": "",
     "delete_cmd_prefix": "del ",
     "library": "var_list.py",
     "varRefreshCmd": "print(var_dic_list())"
    },
    "r": {
     "delete_cmd_postfix": ") ",
     "delete_cmd_prefix": "rm(",
     "library": "var_list.r",
     "varRefreshCmd": "cat(var_dic_list()) "
    }
   },
   "types_to_exclude": [
    "module",
    "function",
    "builtin_function_or_method",
    "instance",
    "_Feature"
   ],
   "window_display": false
  }
 },
 "nbformat": 4,
 "nbformat_minor": 2
}
