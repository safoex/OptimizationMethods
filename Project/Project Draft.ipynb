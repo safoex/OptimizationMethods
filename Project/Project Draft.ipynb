{
 "cells": [
  {
   "cell_type": "markdown",
   "metadata": {},
   "source": [
    "Description of constraints and variables.."
   ]
  },
  {
   "cell_type": "markdown",
   "metadata": {},
   "source": [
    "$c_{i,j,k,l}$ - действие взятия кубика $j$-го цвета $i$-ым манипулятором из $k$-ой кучки $l$-ым номером. ($l$-номером - в смысле, кубик, который этот манипулятор взял первым - имеет первый номер и тд).\n",
    "\n",
    "Тогда:\n",
    "\n",
    "$c_{ijkl} \\in \\{0,1\\}$\n",
    "\n",
    "$c_{ijkl} \\geq 0, c_{ijkl} \\leq 1$\n",
    "\n",
    "**DONE**\n",
    "\n",
    "$\\forall i,j,k, ~ l_2 \\geq l_1 \\Rightarrow c_{ijk,l_2} \\geq c_{ijk,l_1}$ - не можем взять второй кубик в манипулятро, пока не взяли первый и тд.\n",
    "\n",
    "FIXED:\n",
    "\n",
    "$  l_2 \\geq l_1 \\Rightarrow \\sum_{j,k} c_{ijk,l_2} \\geq  \\sum_{j,k} c_{ijk,l_1}$\n",
    "\n",
    "TEMPORARY: just tower height = 5 constraint **DONE**\n",
    "\n",
    "$\\forall j,k \\sum_{i,l} c_{ijkl} \\leq 1$ - берем каждый кубик опр.цвета $j$ из опр. кучки $k$ не более 1го раза\n",
    "\n",
    "$\\forall i,l \\sum_{j,k} c_{ijkl} \\leq 1$ - в каждом манипуляторе $i$ на опр. высоте $l$ не более 1го кубика\n",
    "\n",
    "TEMPORARY : not $\\leq$ but $=$ because fixed picking 15 cubes. **DONE**\n",
    "\n",
    "Введем $b_{ijl} = \\sum_k c_{ijkl}$ - наличие кубика цвета $j$ в манипуляторе $i$ на высоте $l$ (уже не важно из какой кучки). Для этой переменной можно записать условия на бонус очков в каждом манипуляторе:\n",
    "\n",
    "Если $a$, $b$, $c$ - бонусная последовательность цветов, то ее можно учесть след. образом для каждого манипулятора.\n",
    "Пусть $d_i$ - действие выкладывания $i$ манипулятора. Тогда начисление бонусных баллов можно представить в виде переменной $\\xi_i$:\n",
    "\n",
    "$\\xi_i \\geq 0, \\xi_i \\leq 1$\n",
    "\n",
    "У нас есть 6 возможных мест для последовательности из трех кубиков правильного цвета:\n",
    "наличие на $j$ из 6 мест бонусной посл. в $i$ манипуляторе обозначим за $\\pi_{ij}$. Тогда\n",
    "\n",
    "$\\pi_{ij} \\geq 0$\n",
    "\n",
    "$\\pi_{i,0} \\leq b_{i,0,a}$\n",
    "\n",
    "$\\pi_{i,0} \\leq b_{i,0,a}$\n",
    "\n",
    "$\\pi_{i,0} \\leq b_{i,1,b}$\n",
    "\n",
    "$\\pi_{i,0} \\leq b_{i,2,c}$\n",
    "\n",
    "и так далее для $\\pi_{i,1..}$\n",
    "\n",
    "\n",
    "Двух бонусных последовательностей в одном манипуляторе быть не может, поэтому\n",
    "$\\xi_i \\leq \\sum_j \\pi_{i,j}$ and $\\forall\\; i\\; \\xi_i \\in \\{0, 1\\}$\n",
    "\n",
    "Соответственно, если есть бонусная посл., то $\\xi_i \\in \\{0,1\\}$, а если ее нет, то $\\xi_i = 0$. Поэтому, если добавить слагаемое $+A \\xi_i$, то $\\max...$ будет выбирать его $1$ при возможности.\n",
    "\n",
    "\n",
    "А для учитывания уже конкретно наличия бонуса в 30 очков остается проверить, выложили ли мы эту башенку:\n",
    "\n",
    "$\\zeta_i \\leq \\xi_i, \\zeta_i \\leq d_i, \\zeta_i \\geq 0$\n",
    "\n",
    "**obj $ .. + 30\\sum_i \\zeta_i$ **\n",
    "\n",
    "Чтобы учесть взятие кубиков с разных сторон, на самом деле, у нас будут переменные $p_{ijklm}$. Здесь $m$ отвечает за то, с какой из 4х сторон мы подъехали к кубику $i$ манипулятором. Не всегда все из этих подъездов возможны. Пусть кубик цвета $j_2$  блокируют подъезд к кубику $j_1$ со стороны $m = 0$. Тогда, \n",
    "$index(p_{i,j_1,klm}) \\geq \\sum_{i,m,l} index(p_{i,j_2,klm})$\n",
    "Для других цветов пар $j_1$,$j_2$ и подъездов $m$ необходимо написать такие же условия, если блокирует.\n",
    "\n",
    "\n",
    "Основная переменная - матрица $x_{ij}$.  $x_{ij} = 1$, если j-е действие ($a_j$) является i-ым в порядке выполнения.\n",
    "\n",
    "$index(a_j) = (1,2,3...)^\\top x_{ij}$ \n",
    "-дает порядковый номер действия $a_j$, если оно включено в выбранную последовательность. Иначе 0.\n",
    "\n",
    "Время. Пусть мы тратим на действия $\\omega_i$ времени, а на переезды между действиями $\\Omega_{ij}$.\n",
    "\n",
    "\n",
    "$T_1 = \\sum_{ij} \\sum_N x_{N,i} x_{N-1,j} \\Omega_{ij} $,\n",
    "\n",
    "$T_2 = \\omega_j \\sum_i x_{ij}$\n",
    "\n",
    "\n",
    "$T = T_1 + T_2$\n",
    "\n",
    "objective - формируется за собранные кубики. За каждый кубик дается равно его высоте количество очков, начинается с 1. (+бонус). Запишем в $t_i$ очки за каждую башню:\n",
    "\n",
    "$t_i = \\sum_{j,i} b_{i,j,l}$ ... Но пока $t_i = 5$. И набираемые очки за это фиксированы, максимизировать их не нужно.\n",
    "\n",
    "$\\max_i \\sum_i \\zeta_i$"
   ]
  },
  {
   "cell_type": "markdown",
   "metadata": {},
   "source": [
    "бонус +\n",
    "\n",
    "брать кубики с разных сторон +\n",
    "\n",
    "выкладываться + \n",
    "\n",
    "выкладываться в разных точках ?\n",
    "\n",
    "разная высота башен -\n"
   ]
  },
  {
   "cell_type": "code",
   "execution_count": 14,
   "metadata": {
    "collapsed": true
   },
   "outputs": [],
   "source": [
    "import numpy as np\n",
    "import scipy as sp\n",
    "import scipy.optimize\n",
    "import cvxpy as cvx\n",
    "from numpy.random import randn\n",
    "import matplotlib.pyplot as plt\n",
    "%matplotlib inline"
   ]
  },
  {
   "cell_type": "code",
   "execution_count": 63,
   "metadata": {
    "collapsed": true
   },
   "outputs": [],
   "source": [
    "import gurobipy\n",
    "import functools"
   ]
  },
  {
   "cell_type": "code",
   "execution_count": 137,
   "metadata": {},
   "outputs": [
    {
     "name": "stdout",
     "output_type": "stream",
     "text": [
      "1800\n"
     ]
    }
   ],
   "source": [
    "I, J, K, L, M = 3, 5, 6, 5, 4\n",
    "pick_action_dims = np.array([I,J,K,L,M])\n",
    "N = np.prod(pick_action_dims)\n",
    "print(N)\n",
    "# 3 manipulators\n",
    "# 5 colors (and cubes on each pickpoint)\n",
    "# 6 pickpoints\n",
    "# 5 places in each manipulator\n",
    "# 4 directions from which each cube can be picked up"
   ]
  },
  {
   "cell_type": "code",
   "execution_count": 138,
   "metadata": {
    "collapsed": true
   },
   "outputs": [],
   "source": [
    "# having for simplicity constraint to load full manipulators, lets also assume we unload once\n",
    "# so we have N different actions of picking and 1 to unload towers.\n",
    "# also fake action to with start point: total N+2\n",
    "# we need to choose 15 picks + 1 fake start + 1 fake unload = 17\n",
    "S = 17"
   ]
  },
  {
   "cell_type": "code",
   "execution_count": 139,
   "metadata": {
    "collapsed": true
   },
   "outputs": [],
   "source": [
    "T = 100 #match duration"
   ]
  },
  {
   "cell_type": "code",
   "execution_count": 140,
   "metadata": {
    "collapsed": true
   },
   "outputs": [],
   "source": [
    "# picking actions p_i,j,k,l,m where \n",
    "# i for manipulator\n",
    "# j for color\n",
    "# k for pickpoint\n",
    "# l for order of picking to each manipulator (first picked - l = 0, second -  l = 1...)\n",
    "# m for direction..\n",
    "def orderer(*args):\n",
    "    order = [1]\n",
    "    for a in list(reversed(args))[:-1]:\n",
    "        order.append(order[-1]*a)\n",
    "    return list(reversed(order))\n",
    "pick = orderer(I,J,K,L,M)\n",
    "def action_index(order, *args): \n",
    "    return np.sum(order * np.array(args))"
   ]
  },
  {
   "cell_type": "code",
   "execution_count": 141,
   "metadata": {},
   "outputs": [
    {
     "data": {
      "text/plain": [
       "24"
      ]
     },
     "execution_count": 141,
     "metadata": {},
     "output_type": "execute_result"
    }
   ],
   "source": [
    "action_index(pick,0,0,1,1,0)"
   ]
  },
  {
   "cell_type": "code",
   "execution_count": 142,
   "metadata": {
    "collapsed": true
   },
   "outputs": [],
   "source": [
    "x = cvx.Variable(S,N+2)"
   ]
  },
  {
   "cell_type": "code",
   "execution_count": 231,
   "metadata": {},
   "outputs": [],
   "source": [
    "#fake constraint about start\n",
    "\n",
    "def start_var_constraints():\n",
    "    return [x[0,-2] == 1]"
   ]
  },
  {
   "cell_type": "code",
   "execution_count": 232,
   "metadata": {},
   "outputs": [],
   "source": [
    "constraints = start_var_constraints()"
   ]
  },
  {
   "cell_type": "code",
   "execution_count": 233,
   "metadata": {},
   "outputs": [],
   "source": [
    "p = cvx.Variable(N)"
   ]
  },
  {
   "cell_type": "code",
   "execution_count": 234,
   "metadata": {},
   "outputs": [],
   "source": [
    "def p_var_constraints():\n",
    "    return [p.T == cvx.sum_entries(x,axis=0)[:-2]]\n",
    "        "
   ]
  },
  {
   "cell_type": "code",
   "execution_count": 235,
   "metadata": {},
   "outputs": [
    {
     "data": {
      "text/plain": [
       "[EqConstraint(Expression(AFFINE, UNKNOWN, (1, 1)), Constant(CONSTANT, POSITIVE, (1, 1))),\n",
       " EqConstraint(Expression(AFFINE, UNKNOWN, (1, 1800)), Expression(AFFINE, UNKNOWN, (1, 1800)))]"
      ]
     },
     "execution_count": 235,
     "metadata": {},
     "output_type": "execute_result"
    }
   ],
   "source": [
    "constraints += p_var_constraints()\n",
    "constraints"
   ]
  },
  {
   "cell_type": "markdown",
   "metadata": {},
   "source": [
    "$c_{i,j,k,l}$ - действие взятия кубика $j$-го цвета $i$-ым манипулятором из $k$-ой кучки $l$-ым номером. ($l$-номером - в смысле, кубик, который этот манипулятор взял первым - имеет первый номер и тд).\n",
    "\n",
    "Тогда:\n",
    "\n",
    "$c_{ijkl} \\in \\{0,1\\}$\n",
    "\n",
    "$c_{ijkl} \\geq 0, c_{ijkl} \\leq 1$"
   ]
  },
  {
   "cell_type": "code",
   "execution_count": 236,
   "metadata": {},
   "outputs": [],
   "source": [
    "# for many constraints we don't care from which direction we pick cube\n",
    "# and order of action execution\n",
    "c = cvx.Variable(I*J*K*L)\n",
    "c_order = orderer(I,J,K,L)"
   ]
  },
  {
   "cell_type": "code",
   "execution_count": 237,
   "metadata": {},
   "outputs": [],
   "source": [
    "max_indexes = np.array([I,J,K,L,M])\n",
    "i_, j_, k_, l_, m_ = 0, 1 ,2 ,3, 4\n",
    "def matrix_for_constraint(indexes1, indexes2):\n",
    "    D1 = np.prod(max_indexes[indexes1])\n",
    "    D2 = np.prod(max_indexes[indexes2])\n",
    "    c_mat = np.zeros((D1,D2))\n",
    "    order1 = orderer(*max_indexes[indexes1])\n",
    "    order2 = orderer(*max_indexes[indexes2])\n",
    "    for i in range(I):\n",
    "        for j in range(J):\n",
    "            for k in range(K):\n",
    "                for l in range(L):\n",
    "                    for m in range(M):\n",
    "                        ids = np.array([i,j,k,l,m])\n",
    "                        c_mat[action_index(order1,*(ids[indexes1]))][action_index(order2,*(ids[indexes2]))] = 1\n",
    "    return c_mat"
   ]
  },
  {
   "cell_type": "code",
   "execution_count": 238,
   "metadata": {},
   "outputs": [],
   "source": [
    "def c_var_constraints():\n",
    "    #c_mat = np.zeros((I*J*K*L,N))\n",
    "    #for i in range(I):\n",
    "    #    for j in range(J):\n",
    "    #        for k in range(K):\n",
    "    #            for l in range(L):\n",
    "    #                for m in range(M):\n",
    "    #                    c_mat[action_index(c_order,i,j,k,l)][action_index(pick,i,j,k,l,m)] = 1\n",
    "    c_mat = matrix_for_constraint([i_,j_,k_,l_],[i_,j_,k_,l_,m_])\n",
    "    cnts = [c == c_mat*p, c >= 0, c <= 1] #basic\n",
    "    return cnts\n"
   ]
  },
  {
   "cell_type": "code",
   "execution_count": 239,
   "metadata": {},
   "outputs": [
    {
     "data": {
      "text/plain": [
       "[EqConstraint(Expression(AFFINE, UNKNOWN, (1, 1)), Constant(CONSTANT, POSITIVE, (1, 1))),\n",
       " EqConstraint(Expression(AFFINE, UNKNOWN, (1, 1800)), Expression(AFFINE, UNKNOWN, (1, 1800))),\n",
       " EqConstraint(Variable(450, 1), Expression(AFFINE, UNKNOWN, (450, 1))),\n",
       " LeqConstraint(Constant(CONSTANT, ZERO, (1, 1)), Variable(450, 1)),\n",
       " LeqConstraint(Variable(450, 1), Constant(CONSTANT, POSITIVE, (1, 1)))]"
      ]
     },
     "execution_count": 239,
     "metadata": {},
     "output_type": "execute_result"
    }
   ],
   "source": [
    "constraints += c_var_constraints()\n",
    "constraints"
   ]
  },
  {
   "cell_type": "markdown",
   "metadata": {},
   "source": [
    "$\\forall i,j,k, ~ l_2 \\geq l_1 \\Rightarrow c_{ijk,l_2} \\geq c_{ijk,l_1}$ - не можем взять второй кубик в манипулятро, пока не взяли первый и тд.\n",
    "\n",
    "FIXED:\n",
    "\n",
    "$  l_2 \\geq l_1 \\Rightarrow \\sum_{j,k} c_{ijk,l_2} \\geq  \\sum_{j,k} c_{ijk,l_1}$\n",
    "\n",
    "TEMPORARY: just tower height = 5 constraint **DONE**"
   ]
  },
  {
   "cell_type": "code",
   "execution_count": 240,
   "metadata": {},
   "outputs": [],
   "source": [
    "#t = cvx.Variable(I*L)\n",
    "t_order = orderer(I)\n",
    "def tower_height_contstraints():\n",
    "    #tower_height_matrix = np.zeros((I,I*J*K*L))\n",
    "    # matrix for l2>l1 => \\sum_j,k c_i,j,k,l2 >= \\sum_j,k c_i,j,k,l1 (tower order check)\n",
    "    # but now just tower height == 5 \n",
    "                                  \n",
    "    #for i in range(I):\n",
    "    #    for j in range(J):\n",
    "    #        for k in range(K):\n",
    "    #            for l in range(L):\n",
    "    #                tower_height_matrix[action_index(t_order,i)][action_index(c_order,i,j,k,l)] = 1\n",
    "                    \n",
    "                    \n",
    "    tower_height_matrix = matrix_for_constraint([i_],[i_,j_,k_,l_])\n",
    "    return [tower_height_matrix*c == 5]"
   ]
  },
  {
   "cell_type": "code",
   "execution_count": 241,
   "metadata": {},
   "outputs": [
    {
     "name": "stdout",
     "output_type": "stream",
     "text": [
      "[EqConstraint(Expression(AFFINE, UNKNOWN, (3, 1)), Constant(CONSTANT, POSITIVE, (1, 1)))]\n"
     ]
    }
   ],
   "source": [
    "constraints += tower_height_contstraints()\n",
    "print(tower_height_contstraints())"
   ]
  },
  {
   "cell_type": "markdown",
   "metadata": {},
   "source": [
    "$\\forall j,k \\sum_{i,l} c_{ijkl} \\leq 1$ - берем каждый кубик опр.цвета $j$ из опр. кучки $k$ не более 1го раза\n",
    "\n",
    "$\\forall i,l \\sum_{j,k} c_{ijkl} \\leq 1$ - в каждом манипуляторе $i$ на опр. высоте $l$ не более 1го кубика\n",
    "\n",
    "TEMPORARY : equalities instead of inequalities"
   ]
  },
  {
   "cell_type": "code",
   "execution_count": 242,
   "metadata": {},
   "outputs": [],
   "source": [
    "def unique_color_pickpoint_constraint():\n",
    "    c_p_mat = matrix_for_constraint([i_,l_],[i_,j_,k_,l_])\n",
    "    c_m_mat = matrix_for_constraint([j_,k_],[i_,j_,k_,l_])\n",
    "    return [c_p_mat*c == 1, c_m_mat*c == 1]"
   ]
  },
  {
   "cell_type": "code",
   "execution_count": 243,
   "metadata": {},
   "outputs": [],
   "source": [
    "constraints += unique_color_pickpoint_constraint()"
   ]
  },
  {
   "cell_type": "markdown",
   "metadata": {},
   "source": [
    "Введем $b_{ijl} = \\sum_k c_{ijkl}$ - наличие кубика цвета $j$ в манипуляторе $i$ на высоте $l$ (уже не важно из какой кучки). Для этой переменной можно записать условия на бонус очков в каждом манипуляторе:"
   ]
  },
  {
   "cell_type": "code",
   "execution_count": 244,
   "metadata": {},
   "outputs": [],
   "source": [
    "b = cvx.Variable(I*J*L)"
   ]
  },
  {
   "cell_type": "code",
   "execution_count": 245,
   "metadata": {},
   "outputs": [],
   "source": [
    "def b_var_constraints():\n",
    "    b_mat = matrix_for_constraint([i_,j_,l_],[i_,j_,k_,l_])\n",
    "    return [b == b_mat*c]"
   ]
  },
  {
   "cell_type": "code",
   "execution_count": 246,
   "metadata": {},
   "outputs": [],
   "source": [
    "constraints += b_var_constraints()"
   ]
  },
  {
   "cell_type": "markdown",
   "metadata": {},
   "source": [
    "Если $a$, $b$, $c$ - бонусная последовательность цветов, то ее можно учесть след. образом для каждого манипулятора.\n",
    "Пусть $d_i$ - действие выкладывания $i$ манипулятора. Тогда начисление бонусных баллов можно представить в виде переменной $\\xi_i$:\n",
    "\n",
    "$\\xi_i \\geq 0, \\xi_i \\leq 1$\n",
    "\n",
    "У нас есть 6 возможных мест для последовательности из трех кубиков правильного цвета:\n",
    "наличие на $j$ из 6 мест бонусной посл. в $i$ манипуляторе обозначим за $\\pi_{ij}$. Тогда\n",
    "\n",
    "$\\pi_{ij} \\geq 0$\n",
    "\n",
    "$\\pi_{i,0} \\leq b_{i,0,a}$\n",
    "\n",
    "$\\pi_{i,0} \\leq b_{i,1,b}$\n",
    "\n",
    "$\\pi_{i,0} \\leq b_{i,2,c}$\n",
    "\n",
    "и так далее для $\\pi_{i,1..}$\n"
   ]
  },
  {
   "cell_type": "code",
   "execution_count": 247,
   "metadata": {},
   "outputs": [],
   "source": [
    "bs = [0,1,2] # bonus sequence; to be recognised via CV algorithms on the start of match"
   ]
  },
  {
   "cell_type": "code",
   "execution_count": 248,
   "metadata": {},
   "outputs": [],
   "source": [
    "#6 because 6 possible bonus subsequences of 3 cubes in 5 cubes \n",
    "PS = 6\n",
    "π = cvx.Variable(I,PS)\n",
    "possible_subsequences = [[0,1,2],[1,2,3],[2,3,4],[4,3,2],[3,2,1],[2,1,0]]\n",
    "def π_var_constraints():\n",
    "    cnts = [π >= 0]\n",
    "    b_order = orderer(I,J,L)\n",
    "    for i in range(I):\n",
    "        for num_ps, ps in enumerate(possible_subsequences):\n",
    "            for num_bonus_color,bonus_color in enumerate(bs):\n",
    "                cnts.append(π[i,num_ps] <= b[action_index(b_order,i,ps[num_bonus_color],bonus_color)])\n",
    "    return cnts"
   ]
  },
  {
   "cell_type": "markdown",
   "metadata": {},
   "source": [
    "За две бонусные последовательности в манипуляторе лишних очков не дают, поэтому\n",
    "$\\xi_i \\leq \\sum_j \\pi_{i,j}$ and $\\forall\\; i\\; \\xi_i \\in \\{0, 1\\}$\n",
    "\n",
    "Соответственно, если есть бонусная посл., то $\\xi_i \\in \\{0,1\\}$, а если ее нет, то $\\xi_i = 0$. Поэтому, если добавить слагаемое $+A \\xi_i$, то $\\max...$ будет выбирать его $1$ при возможности.\n"
   ]
  },
  {
   "cell_type": "code",
   "execution_count": 249,
   "metadata": {},
   "outputs": [],
   "source": [
    "ξ = cvx.Variable(I)"
   ]
  },
  {
   "cell_type": "code",
   "execution_count": 250,
   "metadata": {},
   "outputs": [],
   "source": [
    "def ξ_var_constraints():\n",
    "    return [ξ >=0, ξ <= 1, ξ <= cvx.sum_entries(π,axis=1)]\n",
    "    "
   ]
  },
  {
   "cell_type": "code",
   "execution_count": 251,
   "metadata": {},
   "outputs": [],
   "source": [
    "constraints += ξ_var_constraints()"
   ]
  },
  {
   "cell_type": "markdown",
   "metadata": {},
   "source": [
    "А для учитывания уже конкретно наличия бонуса в 30 очков остается проверить, выложили ли мы эту башенку:\n",
    "\n",
    "$\\zeta_i \\leq \\xi_i, \\zeta_i \\leq d_i, \\zeta_i \\geq 0$\n",
    "\n",
    "**obj $ .. + 30\\sum_i \\zeta_i$ **\n",
    "\n",
    "TEMPORARY : check for all towers at once, not $d_i$, but $d$"
   ]
  },
  {
   "cell_type": "code",
   "execution_count": 252,
   "metadata": {},
   "outputs": [],
   "source": [
    "ζ = cvx.Variable(I)\n",
    "d = cvx.Variable() # d - last action in actions list\n",
    "def ζ_d_var_constraints():\n",
    "    return [ζ <= ξ, ζ <= d, ζ >= 0, d == cvx.sum_entries(x,axis=0)[-1]]"
   ]
  },
  {
   "cell_type": "code",
   "execution_count": 253,
   "metadata": {},
   "outputs": [],
   "source": [
    "constraints += ζ_d_var_constraints()"
   ]
  },
  {
   "cell_type": "code",
   "execution_count": 254,
   "metadata": {},
   "outputs": [],
   "source": [
    "objective = cvx.Maximize(cvx.sum_entries(ζ))"
   ]
  },
  {
   "cell_type": "markdown",
   "metadata": {},
   "source": [
    "Чтобы учесть взятие кубиков с разных сторон, на самом деле, у нас будут переменные $p_{ijklm}$. Здесь $m$ отвечает за то, с какой из 4х сторон мы подъехали к кубику $i$ манипулятором. Не всегда все из этих подъездов возможны. Пусть кубик цвета $j_2$  блокируют подъезд к кубику $j_1$ со стороны $m = 0$. Тогда, \n",
    "$index(p_{i,j_1,klm}) \\geq \\sum_{i,m,l} index(p_{i,j_2,klm})$\n",
    "Для других цветов пар $j_1$,$j_2$ и подъездов $m$ необходимо написать такие же условия, если блокирует.\n",
    "\n",
    "\n",
    "Основная переменная - матрица $x_{ij}$.  $x_{ij} = 1$, если j-е действие ($a_j$) является i-ым в порядке выполнения.\n",
    "\n",
    "$index(a_j) = (1,2,3...)^\\top x_{ij}$ \n",
    "-дает порядковый номер действия $a_j$, если оно включено в выбранную последовательность. Иначе 0."
   ]
  },
  {
   "cell_type": "code",
   "execution_count": 259,
   "metadata": {},
   "outputs": [],
   "source": [
    "index_vector = np.array(list(range(S)))+1"
   ]
  },
  {
   "cell_type": "code",
   "execution_count": 260,
   "metadata": {},
   "outputs": [
    {
     "data": {
      "text/plain": [
       "array([ 1,  2,  3,  4,  5,  6,  7,  8,  9, 10, 11, 12, 13, 14, 15, 16, 17])"
      ]
     },
     "execution_count": 260,
     "metadata": {},
     "output_type": "execute_result"
    }
   ],
   "source": [
    "index_vector"
   ]
  },
  {
   "cell_type": "code",
   "execution_count": 263,
   "metadata": {},
   "outputs": [],
   "source": [
    "index = cvx.Variable(N+2)\n",
    "def index_var_constraints():\n",
    "    return [index.T == index_vector.T*x]"
   ]
  },
  {
   "cell_type": "code",
   "execution_count": 264,
   "metadata": {},
   "outputs": [],
   "source": [
    "constraints += index_var_constraints()"
   ]
  },
  {
   "cell_type": "code",
   "execution_count": 287,
   "metadata": {},
   "outputs": [],
   "source": [
    "#now we need to find all blocking conditions of (m,j1,i,j2)\n",
    "#firstly let's build a matrix of relations between (j2,j2) \n",
    "#  2 \n",
    "#3 4 1\n",
    "#  0  \n",
    "# e.g. 0 is dx = 0, dy = -1 to 4\n",
    "\n",
    "j_rel = np.zeros((J+1,J+1,2))\n",
    "j_rel[0,4,0] = 0\n",
    "j_rel[0,4,1] = -1\n",
    "j_rel[4,2] = j_rel[0,4]\n",
    "j_rel[4,0] = -j_rel[0,4]\n",
    "j_rel[2,4] = -j_rel[4,2]\n",
    "\n",
    "j_rel[3,4,0] = 1\n",
    "j_rel[3,4,1] = 0\n",
    "j_rel[4,3] = -j_rel[3,4]\n",
    "j_rel[4,1] = j_rel[3,4]\n",
    "j_rel[1,4] = -j_rel[4,1]\n",
    "\n",
    "j_map = np.array([\n",
    "                 [-1,-1,-1,-1,-1],\n",
    "                 [-1,-1, 2,-1,-1],\n",
    "                 [-1, 3, 4, 1,-1],\n",
    "                 [-1,-1, 0,-1,-1],\n",
    "                 [-1,-1,-1,-1,-1]\n",
    "                 ])\n",
    "\n",
    "for i1 in range(j_map.shape[0]):\n",
    "    for j1 in range(j_map.shape[1]):\n",
    "        for i2 in range(j_map.shape[0]):\n",
    "            for j2 in range(j_map.shape[1]):\n",
    "                if j_map[i1,j1] >= 0 and j_map[i2,j2] >= 0:\n",
    "                    if i1 != i2 or j1 != j2:\n",
    "                        j_rel[j_map[i1,j1],j_map[i2,j2]] = np.array([j2-j1,i2-i1])\n",
    "    "
   ]
  },
  {
   "cell_type": "code",
   "execution_count": 288,
   "metadata": {},
   "outputs": [
    {
     "data": {
      "text/plain": [
       "array([ 1.,  0.])"
      ]
     },
     "execution_count": 288,
     "metadata": {},
     "output_type": "execute_result"
    }
   ],
   "source": [
    "j_rel[3,4]"
   ]
  },
  {
   "cell_type": "code",
   "execution_count": 297,
   "metadata": {},
   "outputs": [],
   "source": [
    "# we need just to have free space on 3 'kletka' around the manipulator\n",
    "def m_manipulator(i,m):\n",
    "    return (m+i-1)%4\n",
    "\n",
    "only_non_free_places = [np.array([0,-1]),np.array([-1,0]),np.array([0,1]),np.array([1,0])]\n",
    "\n",
    "def only_non_free_dif(i,m):\n",
    "    direction =  m_manipulator(i,m)\n",
    "    return only_non_free_places(direction)\n",
    "\n"
   ]
  },
  {
   "cell_type": "code",
   "execution_count": 298,
   "metadata": {},
   "outputs": [
    {
     "ename": "SyntaxError",
     "evalue": "unexpected EOF while parsing (<ipython-input-298-c768089daf07>, line 6)",
     "output_type": "error",
     "traceback": [
      "\u001b[0;36m  File \u001b[0;32m\"<ipython-input-298-c768089daf07>\"\u001b[0;36m, line \u001b[0;32m6\u001b[0m\n\u001b[0;31m    \u001b[0m\n\u001b[0m    ^\u001b[0m\n\u001b[0;31mSyntaxError\u001b[0m\u001b[0;31m:\u001b[0m unexpected EOF while parsing\n"
     ]
    }
   ],
   "source": [
    "def j1j2_constraints():\n",
    "    cnts = []\n",
    "    reduce_l = matrix_for_constraint([i_,j_,k_,m_],[i_,j_,k_,l_,m_])\n",
    "    for k in range(K):\n",
    "        for i in range(I):\n",
    "            "
   ]
  },
  {
   "cell_type": "code",
   "execution_count": null,
   "metadata": {
    "collapsed": true
   },
   "outputs": [],
   "source": []
  }
 ],
 "metadata": {
  "kernelspec": {
   "display_name": "Python 3",
   "language": "python",
   "name": "python3"
  },
  "language_info": {
   "codemirror_mode": {
    "name": "ipython",
    "version": 3
   },
   "file_extension": ".py",
   "mimetype": "text/x-python",
   "name": "python",
   "nbconvert_exporter": "python",
   "pygments_lexer": "ipython3",
   "version": "3.6.1"
  },
  "toc": {
   "nav_menu": {},
   "number_sections": true,
   "sideBar": true,
   "skip_h1_title": false,
   "toc_cell": false,
   "toc_position": {},
   "toc_section_display": "block",
   "toc_window_display": false
  },
  "varInspector": {
   "cols": {
    "lenName": 16,
    "lenType": 16,
    "lenVar": 40
   },
   "kernels_config": {
    "python": {
     "delete_cmd_postfix": "",
     "delete_cmd_prefix": "del ",
     "library": "var_list.py",
     "varRefreshCmd": "print(var_dic_list())"
    },
    "r": {
     "delete_cmd_postfix": ") ",
     "delete_cmd_prefix": "rm(",
     "library": "var_list.r",
     "varRefreshCmd": "cat(var_dic_list()) "
    }
   },
   "types_to_exclude": [
    "module",
    "function",
    "builtin_function_or_method",
    "instance",
    "_Feature"
   ],
   "window_display": false
  }
 },
 "nbformat": 4,
 "nbformat_minor": 2
}
