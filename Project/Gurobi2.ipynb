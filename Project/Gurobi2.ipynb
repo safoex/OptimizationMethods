{
 "cells": [
  {
   "cell_type": "code",
   "execution_count": 1,
   "metadata": {},
   "outputs": [],
   "source": [
    "import gurobipy as grb\n",
    "import numpy as np\n",
    "import itertools"
   ]
  },
  {
   "cell_type": "code",
   "execution_count": 2,
   "metadata": {},
   "outputs": [],
   "source": [
    "S, I, J, K, L, M = 15, 3, 5, 6, 5, 4\n",
    "plan = [0, 1, 2]\n",
    "def iterer(*args):\n",
    "    return itertools.product(*[range(x_) for x_ in args])"
   ]
  },
  {
   "cell_type": "code",
   "execution_count": 3,
   "metadata": {},
   "outputs": [],
   "source": [
    "model = grb.Model(\"eurobot\")\n"
   ]
  },
  {
   "cell_type": "code",
   "execution_count": 4,
   "metadata": {},
   "outputs": [],
   "source": [
    "x = model.addVars(range(S), range(I), range(J), range(K), range(M), name = 'x', vtype=grb.GRB.BINARY)\n",
    "y = model.addVars(range(S), range(I), range(J), range(L), name = 'y', vtype=grb.GRB.BINARY)"
   ]
  },
  {
   "cell_type": "code",
   "execution_count": 21,
   "metadata": {},
   "outputs": [],
   "source": [
    "model.remove(model.getConstrs())"
   ]
  },
  {
   "cell_type": "markdown",
   "metadata": {},
   "source": [
    "## Unique action per step"
   ]
  },
  {
   "cell_type": "code",
   "execution_count": 22,
   "metadata": {},
   "outputs": [],
   "source": [
    "model.addConstrs((x.sum(s, '*', '*', '*', '*') == 1 for s in iterer(S)));\n",
    "model.addConstrs((y.sum(s, i, j, '*') == x.sum(s, i, j, '*', '*') for s, i, j in iterer(S, I, J)));"
   ]
  },
  {
   "cell_type": "markdown",
   "metadata": {},
   "source": [
    "## Unique cubes and places constraints"
   ]
  },
  {
   "cell_type": "code",
   "execution_count": 23,
   "metadata": {},
   "outputs": [],
   "source": [
    "model.addConstrs((y.sum('*', i, '*', l) == 1 for i, l in iterer(I, L)));\n",
    "model.addConstrs((x.sum('*', j, k, '*', '*') <= 1 for j, k in iterer(J, K)));"
   ]
  },
  {
   "cell_type": "markdown",
   "metadata": {},
   "source": [
    "## Tower height"
   ]
  },
  {
   "cell_type": "code",
   "execution_count": 24,
   "metadata": {},
   "outputs": [],
   "source": [
    "model.addConstrs((y.sum('*', i, '*', '*') == 5 for i in iterer(I)));"
   ]
  },
  {
   "cell_type": "markdown",
   "metadata": {},
   "source": [
    "## Bonus plan requirements"
   ]
  },
  {
   "cell_type": "code",
   "execution_count": 25,
   "metadata": {},
   "outputs": [
    {
     "data": {
      "text/plain": [
       "{0: <gurobi.Constr *Awaiting Model Update*>,\n",
       " 1: <gurobi.Constr *Awaiting Model Update*>,\n",
       " 2: <gurobi.Constr *Awaiting Model Update*>}"
      ]
     },
     "execution_count": 25,
     "metadata": {},
     "output_type": "execute_result"
    }
   ],
   "source": [
    "pi = model.addVars(range(I), range(6), name = 'pi', vtype=grb.GRB.BINARY)\n",
    "\n",
    "plan_locations = [[0, 1, 2], [1, 2, 3], [2, 3, 4], [4, 3, 2], [3, 2, 1], [2, 1, 0]]\n",
    "for i, t in iterer(I, 6):\n",
    "    for j in range(3):\n",
    "        model.addConstr(pi[i, t] <= y.sum('*', i, plan[j],  plan_locations[t][j]))\n",
    "\n",
    "xi = model.addVars(range(I), name='xi', vtype=grb.GRB.BINARY)\n",
    "model.addConstrs((xi[i] <= pi.sum(i, '*') for i in range(I)))"
   ]
  },
  {
   "cell_type": "markdown",
   "metadata": {},
   "source": [
    "## l-Ordering"
   ]
  },
  {
   "cell_type": "code",
   "execution_count": 26,
   "metadata": {},
   "outputs": [],
   "source": [
    "for s, l1, i in iterer(S,L,I):\n",
    "    for l2 in range(l1+1,L):\n",
    "        model.addConstr(grb.quicksum((y.sum(s_,i,'*',l1) for s_ in iterer(s) )) >= y.sum(s,i,'*',l2))"
   ]
  },
  {
   "cell_type": "markdown",
   "metadata": {},
   "source": [
    "## Ban collisions with other cubes"
   ]
  },
  {
   "cell_type": "code",
   "execution_count": 27,
   "metadata": {
    "run_control": {
     "marked": false
    }
   },
   "outputs": [
    {
     "data": {
      "text/plain": [
       "[4]"
      ]
     },
     "execution_count": 27,
     "metadata": {},
     "output_type": "execute_result"
    }
   ],
   "source": [
    "j_rel = np.zeros((J+1,J+1,2))\n",
    "j_map = np.array([\n",
    "                 [-1,-1,-1,-1,-1],\n",
    "                 [-1,-1, 2,-1,-1],\n",
    "                 [-1, 3, 4, 1,-1],\n",
    "                 [-1,-1, 0,-1,-1],\n",
    "                 [-1,-1,-1,-1,-1]\n",
    "                 ])\n",
    "\n",
    "j_on_map = np.zeros((J+1,2))\n",
    "\n",
    "\n",
    "for i1 in range(j_map.shape[0]):\n",
    "    for j1 in range(j_map.shape[1]):\n",
    "        if j_map[i1,j1] >= 0:\n",
    "            j_on_map[j_map[i1,j1]] = np.array([j1,i1])\n",
    "\n",
    "for i1 in range(j_map.shape[0]):\n",
    "    for j1 in range(j_map.shape[1]):\n",
    "        for i2 in range(j_map.shape[0]):\n",
    "            for j2 in range(j_map.shape[1]):\n",
    "                if j_map[i1,j1] >= 0 and j_map[i2,j2] >= 0:\n",
    "                    if i1 != i2 or j1 != j2:\n",
    "                        j_rel[j_map[i1,j1],j_map[i2,j2]] = np.array([j2-j1,i2-i1])\n",
    "                        \n",
    "# we need just to have free space on 3 'kletka' around the manipulator\n",
    "def m_manipulator(i,m):\n",
    "    return (m+i-1)%4\n",
    "\n",
    "only_non_free_places = [np.array([0,-1]),np.array([-1,0]),np.array([0,1]),np.array([1,0])]\n",
    "\n",
    "def only_non_free_dif(i,m):\n",
    "    direction =  m_manipulator(i,m)\n",
    "    return only_non_free_places[direction]\n",
    "\n",
    "def our_position(j1):\n",
    "    return j_on_map[j1]\n",
    "\n",
    "def list_of_possible_breaks(j1,i,m):\n",
    "    toreturn = []\n",
    "    dxy = [np.array([0,1]),np.array([1,0]),np.array([-1,0]),np.array([0,-1])]\n",
    "    for dd in dxy:\n",
    "        if (dd != only_non_free_dif(i,m)).any():\n",
    "            yx = j_on_map[j1] + dd\n",
    "            if j_map[int(yx[1]),int(yx[0])] >= 0:\n",
    "                toreturn.append(j_map[int(yx[1]),int(yx[0])])\n",
    "    return toreturn\n",
    "\n",
    "list_of_possible_breaks(2, 2, 3)"
   ]
  },
  {
   "cell_type": "code",
   "execution_count": 28,
   "metadata": {},
   "outputs": [],
   "source": [
    "def debug_possible_breaks(j1, i, m):\n",
    "    return [0] if j1 == 4 else []"
   ]
  },
  {
   "cell_type": "code",
   "execution_count": 29,
   "metadata": {},
   "outputs": [],
   "source": [
    "for s, i, j, k, m in iterer(S, I, J, K, M):\n",
    "    cubes_to_peak = list_of_possible_breaks(j, i, m)\n",
    "#     print(\"%d %d %d\"%(i,j,m) + ' ' + str(cubes_to_peak))\n",
    "    left_gen = (x.sum(s_prev, '*', cube, k, '*') for s_prev, cube in itertools.product(range(s), cubes_to_peak))\n",
    "#         expr = grb.LinExpr()\n",
    "#         for s_prev, cube in itertools.product(range(s), cubes_to_peak):\n",
    "#             expr += x.sum(s_prev, '*', cube, k, '*', '*')\n",
    "    if s> 0 and len(cubes_to_peak) > 0:    \n",
    "        model.addConstr(grb.quicksum(left_gen) >= x.sum(s, i, j, k, m))"
   ]
  },
  {
   "cell_type": "markdown",
   "metadata": {},
   "source": [
    "## Time"
   ]
  },
  {
   "cell_type": "code",
   "execution_count": 14,
   "metadata": {},
   "outputs": [],
   "source": [
    "v = 20\n",
    "t_p = 2 # time of picking\n",
    "t_r = 1 # time of rotation on pi / 2\n",
    "t_m = 2 # time of moving on 6 cm\n",
    "\n",
    "picking_points = np.zeros((5, 4, 3, 3))\n",
    "cubes_coords = np.array([[0, -1], [1, 0], [0, 1], [-1, 0], [0, 0]])\n",
    "l1 = np.array([[[1, 0], [0, 1], [-1, 0]],\n",
    "               [[0, 1], [-1, 0], [0, -1]],\n",
    "               [[-1, 0], [0, -1], [1, 0]],\n",
    "               [[0, -1], [1, 0], [0, 1]]])\n",
    "\n",
    "picking_points[..., :2] = cubes_coords[:, np.newaxis, np.newaxis, :] + l1[np.newaxis, :, :, :]\n",
    "picking_points[..., 2] = np.array(range(4))[np.newaxis, :, np.newaxis]\n",
    "\n",
    "points_2 = np.reshape(picking_points, (60, 3))\n",
    "small_time_2 = t_m * np.abs(points_2[:, np.newaxis, 0] - points_2[np.newaxis, :, 0]) + \\\n",
    "             t_m * np.abs(points_2[:, np.newaxis, 1] - points_2[np.newaxis, :, 1]) + \\\n",
    "             t_r * ((points_2[:, np.newaxis, 2] - points_2[np.newaxis, :, 1]) % 4)\n",
    "        \n",
    "small_time = np.where(small_time_2 == 0, 0, small_time_2 + t_p)\n",
    "heap_points = np.array([[54, 85, 0], [119, 30, 0], [150, 110, 0], [150, 190, 0], [119, 270, 0], [54, 215, 0]])\n",
    "all_picking_points = np.reshape(points_2[np.newaxis, :, :2] * 6 + heap_points[:, np.newaxis, :2], (360, 2))\n",
    "times = np.sum((all_picking_points[:, np.newaxis] - all_picking_points[np.newaxis, :]) ** 2, axis=2) ** 0.5 / v + t_p\n",
    "for i in range(6):\n",
    "    times[i * 60: (i + 1) * 60, i * 60: (i + 1) * 60] = small_time\n",
    "times = times.reshape(6, 5, 4, 3, 6, 5, 4, 3)"
   ]
  },
  {
   "cell_type": "code",
   "execution_count": 15,
   "metadata": {},
   "outputs": [
    {
     "name": "stdout",
     "output_type": "stream",
     "text": [
      "CPU times: user 3min 32s, sys: 188 ms, total: 3min 32s\n",
      "Wall time: 3min 33s\n"
     ]
    }
   ],
   "source": [
    "%%time\n",
    "gen = (x.sum(s, i_1, j_1, k_1, m_1) * x.sum(s + 1, i_2, j_2, k_2, m_2) * \\\n",
    "       times[k_1, j_1, m_1, i_1, k_2, j_2, m_2, i_2] for s, i_1, j_1, k_1, m_1, i_2, j_2, k_2, m_2 \\\n",
    "       in iterer(S - 1, I, J, K, M, I, J, K, M))\n",
    "left_part_time  = grb.quicksum(gen)"
   ]
  },
  {
   "cell_type": "markdown",
   "metadata": {},
   "source": [
    "## Objective (min $t$ task)"
   ]
  },
  {
   "cell_type": "code",
   "execution_count": 30,
   "metadata": {},
   "outputs": [
    {
     "data": {
      "text/plain": [
       "<gurobi.Constr *Awaiting Model Update*>"
      ]
     },
     "execution_count": 30,
     "metadata": {},
     "output_type": "execute_result"
    }
   ],
   "source": [
    "model.addConstr(xi.sum('*') == 3)"
   ]
  },
  {
   "cell_type": "code",
   "execution_count": 31,
   "metadata": {},
   "outputs": [],
   "source": [
    "model.setObjective(left_part_time, grb.GRB.MINIMIZE)"
   ]
  },
  {
   "cell_type": "markdown",
   "metadata": {},
   "source": [
    "## Objective (max $\\xi$ task)"
   ]
  },
  {
   "cell_type": "code",
   "execution_count": 16,
   "metadata": {},
   "outputs": [],
   "source": [
    "T = 150\n",
    "model.addConstr(left_part_time <= T, 'time');"
   ]
  },
  {
   "cell_type": "code",
   "execution_count": 17,
   "metadata": {},
   "outputs": [],
   "source": [
    "obj = xi.sum('*')\n",
    "model.setObjective(obj, grb.GRB.MAXIMIZE)"
   ]
  },
  {
   "cell_type": "markdown",
   "metadata": {},
   "source": [
    "## Optimization "
   ]
  },
  {
   "cell_type": "code",
   "execution_count": 32,
   "metadata": {},
   "outputs": [
    {
     "name": "stdout",
     "output_type": "stream",
     "text": [
      "Parameter TimeLimit unchanged\n",
      "   Value: 100.0  Min: 0.0  Max: 1e+100  Default: 1e+100\n",
      "Optimize a model with 4828 rows, 6567 columns and 586815 nonzeros\n",
      "Model has 1512000 quadratic objective terms\n",
      "Model has 1 quadratic constraint\n",
      "Variable types: 0 continuous, 6567 integer (6567 binary)\n",
      "Coefficient statistics:\n",
      "  Matrix range     [1e+00, 1e+00]\n",
      "  QMatrix range    [5e+00, 2e+01]\n",
      "  Objective range  [0e+00, 0e+00]\n",
      "  QObjective range [1e+01, 3e+01]\n",
      "  Bounds range     [1e+00, 1e+00]\n",
      "  RHS range        [1e+00, 5e+00]\n",
      "  QRHS range       [2e+02, 2e+02]\n",
      "\n",
      "Loaded MIP start with objective 59.4998 (0.07s)\n",
      "MIP start did not produce a new incumbent solution\n",
      "\n",
      "Sparsify removed 532248 nonzeros (93%)\n",
      "Modified 5328 Q diagonals\n",
      "Modified 5328 Q diagonals\n",
      "Presolve added 0 rows and 234 columns\n",
      "Presolve removed 112 rows and 0 columns\n",
      "Presolve time: 3.79s\n",
      "Presolved: 4716 rows, 6801 columns, 40332 nonzeros\n",
      "Presolved model has 1495728 quadratic objective terms\n",
      "Variable types: 0 continuous, 6801 integer (6351 binary)\n",
      "\n",
      "Root simplex log...\n",
      "\n",
      "Iteration    Objective       Primal Inf.    Dual Inf.      Time\n",
      "    5304   -3.2824227e+04   0.000000e+00   3.648779e+04      5s\n",
      "    9959   -4.0702654e+04   0.000000e+00   0.000000e+00      9s\n",
      "\n",
      "Root relaxation: objective -4.070265e+04, 9959 iterations, 4.99 seconds\n",
      "\n",
      "    Nodes    |    Current Node    |     Objective Bounds      |     Work\n",
      " Expl Unexpl |  Obj  Depth IntInf | Incumbent    BestBd   Gap | It/Node Time\n",
      "\n",
      "     0     0 -40702.654    0 1710   59.49978    0.00000   100%     -    8s\n",
      "     0     0 -40702.654    0 1710   59.49978    0.00000   100%     -   13s\n",
      "H    0     0                      32.9624196    0.00000   100%     -   14s\n",
      "     0     0 -40702.654    0 1709   32.96242    0.00000   100%     -   14s\n",
      "     0     0 -40702.654    0 1704   32.96242    0.00000   100%     -   18s\n",
      "\n",
      "Cutting planes:\n",
      "  Clique: 11\n",
      "  MIR: 1\n",
      "  Zero half: 4\n",
      "\n",
      "Explored 1 nodes (10582 simplex iterations) in 364.12 seconds\n",
      "Thread count was 4 (of 4 available processors)\n",
      "\n",
      "Solution count 2: 32.9624 59.4998 \n",
      "\n",
      "Time limit reached\n",
      "Best objective 3.296241961578e+01, best bound 0.000000000000e+00, gap 100.0000%\n"
     ]
    }
   ],
   "source": [
    "model.Params.TimeLimit = 100.0\n",
    "model.update()\n",
    "model.optimize()"
   ]
  },
  {
   "cell_type": "code",
   "execution_count": 33,
   "metadata": {},
   "outputs": [
    {
     "name": "stdout",
     "output_type": "stream",
     "text": [
      "\n",
      "    Variable            x \n",
      "-------------------------\n",
      "x[0,0,2,1,2]            1 \n",
      "x[1,2,3,1,2]            1 \n",
      "x[2,1,2,1,2]            1 \n",
      "x[3,0,1,1,2]            1 \n",
      "x[4,0,0,0,1]            1 \n",
      "x[5,2,4,1,1]            1 \n",
      "x[6,1,1,1,2]            1 \n",
      "x[7,2,2,1,1]            1 \n",
      "x[8,2,1,1,1]            1 \n",
      "x[9,0,3,3,0]            1 \n",
      "x[10,0,4,3,3]            1 \n",
      "x[11,1,0,3,2]            1 \n",
      "x[12,1,4,1,2]            1 \n",
      "x[13,2,0,1,1]            1 \n",
      "x[14,1,3,1,3]            1 \n",
      "  y[0,0,2,0]            1 \n",
      "  y[1,2,3,0]            1 \n",
      "  y[2,1,2,0]            1 \n",
      "  y[3,0,1,1]            1 \n",
      "  y[4,0,0,2]            1 \n",
      "  y[5,2,4,1]            1 \n",
      "  y[6,1,1,1]            1 \n",
      "  y[7,2,2,2]            1 \n",
      "  y[8,2,1,3]            1 \n",
      "  y[9,0,3,3]            1 \n",
      " y[10,0,4,4]            1 \n",
      " y[11,1,0,2]            1 \n",
      " y[12,1,4,3]            1 \n",
      " y[13,2,0,4]            1 \n",
      " y[14,1,3,4]            1 \n",
      "     pi[0,5]            1 \n",
      "     pi[1,5]            1 \n",
      "     pi[2,3]            1 \n",
      "       xi[0]            1 \n",
      "       xi[1]            1 \n",
      "       xi[2]            1 \n"
     ]
    }
   ],
   "source": [
    "model.printAttr('x')"
   ]
  },
  {
   "cell_type": "code",
   "execution_count": 20,
   "metadata": {},
   "outputs": [
    {
     "data": {
      "text/plain": [
       "59.499777921461991"
      ]
     },
     "execution_count": 20,
     "metadata": {},
     "output_type": "execute_result"
    }
   ],
   "source": [
    "left_part_time.getValue()"
   ]
  },
  {
   "cell_type": "code",
   "execution_count": null,
   "metadata": {},
   "outputs": [],
   "source": []
  }
 ],
 "metadata": {
  "kernelspec": {
   "display_name": "Python 3",
   "language": "python",
   "name": "python3"
  },
  "language_info": {
   "codemirror_mode": {
    "name": "ipython",
    "version": 3
   },
   "file_extension": ".py",
   "mimetype": "text/x-python",
   "name": "python",
   "nbconvert_exporter": "python",
   "pygments_lexer": "ipython3",
   "version": "3.6.1"
  },
  "toc": {
   "nav_menu": {},
   "number_sections": true,
   "sideBar": true,
   "skip_h1_title": false,
   "toc_cell": false,
   "toc_position": {},
   "toc_section_display": "block",
   "toc_window_display": false
  },
  "varInspector": {
   "cols": {
    "lenName": 16,
    "lenType": 16,
    "lenVar": 40
   },
   "kernels_config": {
    "python": {
     "delete_cmd_postfix": "",
     "delete_cmd_prefix": "del ",
     "library": "var_list.py",
     "varRefreshCmd": "print(var_dic_list())"
    },
    "r": {
     "delete_cmd_postfix": ") ",
     "delete_cmd_prefix": "rm(",
     "library": "var_list.r",
     "varRefreshCmd": "cat(var_dic_list()) "
    }
   },
   "types_to_exclude": [
    "module",
    "function",
    "builtin_function_or_method",
    "instance",
    "_Feature"
   ],
   "window_display": false
  }
 },
 "nbformat": 4,
 "nbformat_minor": 2
}
