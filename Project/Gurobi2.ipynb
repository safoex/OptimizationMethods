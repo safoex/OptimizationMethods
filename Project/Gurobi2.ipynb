{
 "cells": [
  {
   "cell_type": "code",
   "execution_count": 1,
   "metadata": {},
   "outputs": [],
   "source": [
    "import gurobipy as grb\n",
    "import numpy as np\n",
    "import itertools"
   ]
  },
  {
   "cell_type": "code",
   "execution_count": 2,
   "metadata": {},
   "outputs": [],
   "source": [
    "S, I, J, K, L, M = 15, 3, 5, 6, 5, 4\n",
    "plan = [0, 1, 2]\n",
    "def iterer(*args):\n",
    "    return itertools.product(*[range(x_) for x_ in args])"
   ]
  },
  {
   "cell_type": "code",
   "execution_count": 3,
   "metadata": {},
   "outputs": [],
   "source": [
    "model = grb.Model(\"eurobot\")\n",
    "\n",
    "x = model.addVars(range(S), range(I), range(J), range(K), range(M), name = 'x', vtype=grb.GRB.BINARY)\n",
    "y = model.addVars(range(S), range(I), range(J), range(L), name = 'y', vtype=grb.GRB.BINARY)"
   ]
  },
  {
   "cell_type": "markdown",
   "metadata": {},
   "source": [
    "## Unique action per step"
   ]
  },
  {
   "cell_type": "code",
   "execution_count": 5,
   "metadata": {},
   "outputs": [],
   "source": [
    "model.addConstrs((x.sum(s, '*', '*', '*', '*') == 1 for s in iterer(S)));\n",
    "model.addConstrs((y.sum(s, i, j, '*') == x.sum(s, i, j, '*', '*') for s, i, j in iterer(S, I, J)));"
   ]
  },
  {
   "cell_type": "markdown",
   "metadata": {},
   "source": [
    "## Unique cubes and places constraints"
   ]
  },
  {
   "cell_type": "code",
   "execution_count": 6,
   "metadata": {},
   "outputs": [],
   "source": [
    "model.addConstrs((y.sum('*', i, '*', l) == 1 for i, l in iterer(I, L)));\n",
    "model.addConstrs((x.sum('*', j, k, '*', '*') <= 1 for j, k in iterer(J, K)));"
   ]
  },
  {
   "cell_type": "markdown",
   "metadata": {},
   "source": [
    "## Tower height"
   ]
  },
  {
   "cell_type": "code",
   "execution_count": 7,
   "metadata": {},
   "outputs": [],
   "source": [
    "model.addConstrs((y.sum('*', i, '*', '*') == 5 for i in iterer(I)));"
   ]
  },
  {
   "cell_type": "markdown",
   "metadata": {},
   "source": [
    "## Bonus plan requirements"
   ]
  },
  {
   "cell_type": "code",
   "execution_count": 8,
   "metadata": {},
   "outputs": [
    {
     "data": {
      "text/plain": [
       "{0: <gurobi.Constr *Awaiting Model Update*>,\n",
       " 1: <gurobi.Constr *Awaiting Model Update*>,\n",
       " 2: <gurobi.Constr *Awaiting Model Update*>}"
      ]
     },
     "execution_count": 8,
     "metadata": {},
     "output_type": "execute_result"
    }
   ],
   "source": [
    "pi = model.addVars(range(I), range(6), name = 'pi', vtype=grb.GRB.BINARY)\n",
    "\n",
    "plan_locations = [[0, 1, 2], [1, 2, 3], [2, 3, 4], [4, 3, 2], [3, 2, 1], [2, 1, 0]]\n",
    "for i, t in iterer(I, 6):\n",
    "    for j in range(3):\n",
    "        model.addConstr(pi[i, t] <= y.sum('*', i, plan[j],  plan_locations[t][j]))\n",
    "\n",
    "xi = model.addVars(range(I), name='xi', vtype=grb.GRB.BINARY)\n",
    "model.addConstrs((xi[i] <= pi.sum(i, '*') for i in range(I)))"
   ]
  },
  {
   "cell_type": "markdown",
   "metadata": {},
   "source": [
    "## l-Ordering"
   ]
  },
  {
   "cell_type": "code",
   "execution_count": 9,
   "metadata": {},
   "outputs": [],
   "source": [
    "for s, l1, i in iterer(S,L,I):\n",
    "    for l2 in range(l1+1,L):\n",
    "        model.addConstr(grb.quicksum((y.sum(s_,i,'*',l1) for s_ in iterer(s) )) >= y.sum(s,i,'*',l2))"
   ]
  },
  {
   "cell_type": "markdown",
   "metadata": {},
   "source": [
    "## Ban collisions with other cubes"
   ]
  },
  {
   "cell_type": "code",
   "execution_count": 10,
   "metadata": {
    "run_control": {
     "marked": false
    }
   },
   "outputs": [
    {
     "data": {
      "text/plain": [
       "[4]"
      ]
     },
     "execution_count": 10,
     "metadata": {},
     "output_type": "execute_result"
    }
   ],
   "source": [
    "j_rel = np.zeros((J+1,J+1,2))\n",
    "j_map = np.array([\n",
    "                 [-1,-1,-1,-1,-1],\n",
    "                 [-1,-1, 2,-1,-1],\n",
    "                 [-1, 3, 4, 1,-1],\n",
    "                 [-1,-1, 0,-1,-1],\n",
    "                 [-1,-1,-1,-1,-1]\n",
    "                 ])\n",
    "\n",
    "j_on_map = np.zeros((J+1,2))\n",
    "\n",
    "\n",
    "for i1 in range(j_map.shape[0]):\n",
    "    for j1 in range(j_map.shape[1]):\n",
    "        if j_map[i1,j1] >= 0:\n",
    "            j_on_map[j_map[i1,j1]] = np.array([j1,i1])\n",
    "\n",
    "for i1 in range(j_map.shape[0]):\n",
    "    for j1 in range(j_map.shape[1]):\n",
    "        for i2 in range(j_map.shape[0]):\n",
    "            for j2 in range(j_map.shape[1]):\n",
    "                if j_map[i1,j1] >= 0 and j_map[i2,j2] >= 0:\n",
    "                    if i1 != i2 or j1 != j2:\n",
    "                        j_rel[j_map[i1,j1],j_map[i2,j2]] = np.array([j2-j1,i2-i1])\n",
    "                        \n",
    "# we need just to have free space on 3 'kletka' around the manipulator\n",
    "def m_manipulator(i,m):\n",
    "    return (m+i-1)%4\n",
    "\n",
    "only_non_free_places = [np.array([0,-1]),np.array([-1,0]),np.array([0,1]),np.array([1,0])]\n",
    "\n",
    "def only_non_free_dif(i,m):\n",
    "    direction =  m_manipulator(i,m)\n",
    "    return only_non_free_places[direction]\n",
    "\n",
    "def our_position(j1):\n",
    "    return j_on_map[j1]\n",
    "\n",
    "def list_of_possible_breaks(j1,i,m):\n",
    "    toreturn = []\n",
    "    dxy = [np.array([0,1]),np.array([1,0]),np.array([-1,0]),np.array([0,-1])]\n",
    "    for dd in dxy:\n",
    "        if (dd != only_non_free_dif(i,m)).any():\n",
    "            yx = j_on_map[j1] + dd\n",
    "            if j_map[int(yx[1]),int(yx[0])] >= 0:\n",
    "                toreturn.append(j_map[int(yx[1]),int(yx[0])])\n",
    "    return toreturn\n",
    "\n",
    "list_of_possible_breaks(2, 2, 3)"
   ]
  },
  {
   "cell_type": "code",
   "execution_count": 248,
   "metadata": {},
   "outputs": [],
   "source": [
    "def debug_possible_breaks(j1, i, m):\n",
    "    return [0] if j1 == 4 else []"
   ]
  },
  {
   "cell_type": "code",
   "execution_count": 11,
   "metadata": {},
   "outputs": [],
   "source": [
    "for s, i, j, k, m in iterer(S, I, J, K, M):\n",
    "    cubes_to_peak = list_of_possible_breaks(j, i, m)\n",
    "#     print(\"%d %d %d\"%(i,j,m) + ' ' + str(cubes_to_peak))\n",
    "    left_gen = (x.sum(s_prev, '*', cube, k, '*') for s_prev, cube in itertools.product(range(s), cubes_to_peak))\n",
    "#         expr = grb.LinExpr()\n",
    "#         for s_prev, cube in itertools.product(range(s), cubes_to_peak):\n",
    "#             expr += x.sum(s_prev, '*', cube, k, '*', '*')\n",
    "    if s> 0 and len(cubes_to_peak) > 0:    \n",
    "        model.addConstr(grb.quicksum(left_gen) >= x.sum(s, i, j, k, m))"
   ]
  },
  {
   "cell_type": "markdown",
   "metadata": {},
   "source": [
    "## Time"
   ]
  },
  {
   "cell_type": "code",
   "execution_count": 15,
   "metadata": {},
   "outputs": [],
   "source": [
    "v = 20\n",
    "t_p = 2 # time of picking\n",
    "t_r = 1 # time of rotation on pi / 2\n",
    "t_m = 2 # time of moving on 6 cm\n",
    "\n",
    "picking_points = np.zeros((5, 4, 3, 3))\n",
    "cubes_coords = np.array([[0, -1], [1, 0], [0, 1], [-1, 0], [0, 0]])\n",
    "l1 = np.array([[[1, 0], [0, 1], [-1, 0]],\n",
    "               [[0, 1], [-1, 0], [0, -1]],\n",
    "               [[-1, 0], [0, -1], [1, 0]],\n",
    "               [[0, -1], [1, 0], [0, 1]]])\n",
    "\n",
    "picking_points[..., :2] = cubes_coords[:, np.newaxis, np.newaxis, :] + l1[np.newaxis, :, :, :]\n",
    "picking_points[..., 2] = np.array(range(4))[np.newaxis, :, np.newaxis]\n",
    "\n",
    "points_2 = np.reshape(picking_points, (60, 3))\n",
    "small_time_2 = t_m * np.abs(points_2[:, np.newaxis, 0] - points_2[np.newaxis, :, 0]) + \\\n",
    "             t_m * np.abs(points_2[:, np.newaxis, 1] - points_2[np.newaxis, :, 1]) + \\\n",
    "             t_r * ((points_2[:, np.newaxis, 2] - points_2[np.newaxis, :, 1]) % 4)\n",
    "        \n",
    "small_time = np.where(small_time_2 == 0, 0, small_time_2 + t_p)\n",
    "heap_points = np.array([[54, 85, 0], [119, 30, 0], [150, 110, 0], [150, 190, 0], [119, 270, 0], [54, 215, 0]])\n",
    "all_picking_points = np.reshape(points_2[np.newaxis, :, :2] * 6 + heap_points[:, np.newaxis, :2], (360, 2))\n",
    "times = np.sum((all_picking_points[:, np.newaxis] - all_picking_points[np.newaxis, :]) ** 2, axis=2) ** 0.5 / v + t_p\n",
    "for i in range(6):\n",
    "    times[i * 60: (i + 1) * 60, i * 60: (i + 1) * 60] = small_time\n",
    "times = times.reshape(6, 5, 4, 3, 6, 5, 4, 3)"
   ]
  },
  {
   "cell_type": "code",
   "execution_count": 16,
   "metadata": {},
   "outputs": [
    {
     "name": "stdout",
     "output_type": "stream",
     "text": [
      "CPU times: user 3min 29s, sys: 344 ms, total: 3min 30s\n",
      "Wall time: 3min 30s\n"
     ]
    }
   ],
   "source": [
    "%%time\n",
    "gen = (x.sum(s, i_1, j_1, k_1, m_1) * x.sum(s + 1, i_2, j_2, k_2, m_2) * \\\n",
    "       times[k_1, j_1, m_1, i_1, k_2, j_2, m_2, i_2] for s, i_1, j_1, k_1, m_1, i_2, j_2, k_2, m_2 \\\n",
    "       in iterer(S - 1, I, J, K, M, I, J, K, M))\n",
    "T = 1000\n",
    "model.addConstr(grb.quicksum(gen) <= T, 'time');"
   ]
  },
  {
   "cell_type": "markdown",
   "metadata": {},
   "source": [
    "## Objective"
   ]
  },
  {
   "cell_type": "code",
   "execution_count": 12,
   "metadata": {},
   "outputs": [],
   "source": [
    "obj = xi.sum('*')\n",
    "model.setObjective(obj, grb.GRB.MAXIMIZE)"
   ]
  },
  {
   "cell_type": "markdown",
   "metadata": {},
   "source": [
    "## Optimization "
   ]
  },
  {
   "cell_type": "code",
   "execution_count": 13,
   "metadata": {},
   "outputs": [
    {
     "name": "stdout",
     "output_type": "stream",
     "text": [
      "Optimize a model with 5067 rows, 6546 columns and 598737 nonzeros\n",
      "Variable types: 0 continuous, 6546 integer (6546 binary)\n",
      "Coefficient statistics:\n",
      "  Matrix range     [1e+00, 1e+00]\n",
      "  Objective range  [1e+00, 1e+00]\n",
      "  Bounds range     [1e+00, 1e+00]\n",
      "  RHS range        [1e+00, 5e+00]\n",
      "Presolve removed 3414 rows and 3582 columns\n",
      "Presolve time: 1.36s\n",
      "Presolved: 1653 rows, 2964 columns, 90921 nonzeros\n",
      "Variable types: 0 continuous, 2964 integer (2964 binary)\n",
      "Found heuristic solution: objective 1.0000000\n",
      "Found heuristic solution: objective 3.0000000\n",
      "\n",
      "Explored 0 nodes (0 simplex iterations) in 1.76 seconds\n",
      "Thread count was 4 (of 4 available processors)\n",
      "\n",
      "Solution count 2: 3 1 \n",
      "\n",
      "Optimal solution found (tolerance 1.00e-04)\n",
      "Best objective 3.000000000000e+00, best bound 3.000000000000e+00, gap 0.0000%\n"
     ]
    }
   ],
   "source": [
    "model.update()\n",
    "model.optimize()"
   ]
  },
  {
   "cell_type": "code",
   "execution_count": 14,
   "metadata": {},
   "outputs": [
    {
     "name": "stdout",
     "output_type": "stream",
     "text": [
      "\n",
      "    Variable            x \n",
      "-------------------------\n",
      "x[0,0,0,0,0]            1 \n",
      "x[1,0,1,0,2]            1 \n",
      "x[2,0,2,1,3]            1 \n",
      "x[3,0,3,1,0]            1 \n",
      "x[4,1,0,2,0]            1 \n",
      "x[5,1,1,2,1]            1 \n",
      "x[6,1,2,3,2]            1 \n",
      "x[7,1,3,3,3]            1 \n",
      "x[8,2,0,4,3]            1 \n",
      "x[9,2,1,4,0]            1 \n",
      "x[10,2,2,5,1]            1 \n",
      "x[11,2,3,5,2]            1 \n",
      "x[12,2,4,5,3]            1 \n",
      "x[13,1,4,5,3]            1 \n",
      "x[14,0,4,5,3]            1 \n",
      "  y[0,0,0,0]            1 \n",
      "  y[1,0,1,1]            1 \n",
      "  y[2,0,2,2]            1 \n",
      "  y[3,0,3,3]            1 \n",
      "  y[4,1,0,0]            1 \n",
      "  y[5,1,1,1]            1 \n",
      "  y[6,1,2,2]            1 \n",
      "  y[7,1,3,3]            1 \n",
      "  y[8,2,0,0]            1 \n",
      "  y[9,2,1,1]            1 \n",
      " y[10,2,2,2]            1 \n",
      " y[11,2,3,3]            1 \n",
      " y[12,2,4,4]            1 \n",
      " y[13,1,4,4]            1 \n",
      " y[14,0,4,4]            1 \n",
      "     pi[0,0]            1 \n",
      "     pi[1,0]            1 \n",
      "     pi[2,0]            1 \n",
      "       xi[0]            1 \n",
      "       xi[1]            1 \n",
      "       xi[2]            1 \n"
     ]
    }
   ],
   "source": [
    "model.printAttr('x')"
   ]
  },
  {
   "cell_type": "code",
   "execution_count": null,
   "metadata": {},
   "outputs": [],
   "source": []
  }
 ],
 "metadata": {
  "kernelspec": {
   "display_name": "Python 3",
   "language": "python",
   "name": "python3"
  },
  "language_info": {
   "codemirror_mode": {
    "name": "ipython",
    "version": 3
   },
   "file_extension": ".py",
   "mimetype": "text/x-python",
   "name": "python",
   "nbconvert_exporter": "python",
   "pygments_lexer": "ipython3",
   "version": "3.6.1"
  },
  "toc": {
   "nav_menu": {},
   "number_sections": true,
   "sideBar": true,
   "skip_h1_title": false,
   "toc_cell": false,
   "toc_position": {},
   "toc_section_display": "block",
   "toc_window_display": false
  },
  "varInspector": {
   "cols": {
    "lenName": 16,
    "lenType": 16,
    "lenVar": 40
   },
   "kernels_config": {
    "python": {
     "delete_cmd_postfix": "",
     "delete_cmd_prefix": "del ",
     "library": "var_list.py",
     "varRefreshCmd": "print(var_dic_list())"
    },
    "r": {
     "delete_cmd_postfix": ") ",
     "delete_cmd_prefix": "rm(",
     "library": "var_list.r",
     "varRefreshCmd": "cat(var_dic_list()) "
    }
   },
   "types_to_exclude": [
    "module",
    "function",
    "builtin_function_or_method",
    "instance",
    "_Feature"
   ],
   "window_display": false
  }
 },
 "nbformat": 4,
 "nbformat_minor": 2
}
