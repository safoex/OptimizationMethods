{
 "cells": [
  {
   "cell_type": "code",
   "execution_count": 1,
   "metadata": {},
   "outputs": [],
   "source": [
    "import numpy as np\n",
    "import cvxpy as cvx\n",
    "from numpy.random import randn\n",
    "import matplotlib.pyplot as plt\n",
    "%matplotlib inline"
   ]
  },
  {
   "cell_type": "markdown",
   "metadata": {},
   "source": [
    "# Problem 1"
   ]
  },
  {
   "cell_type": "code",
   "execution_count": 2,
   "metadata": {},
   "outputs": [
    {
     "name": "stdout",
     "output_type": "stream",
     "text": [
      "(20,)\n"
     ]
    }
   ],
   "source": [
    "n = 20\n",
    "M = 25\n",
    "K = 100\n",
    "np.random.seed(1)\n",
    "c_true = randn(n)\n",
    "X  = randn(n,K)\n",
    "y = np.dot(X.T, c_true) + 0.1 * np.sqrt(n) * randn(K)\n",
    "print(c_true.shape)"
   ]
  },
  {
   "cell_type": "code",
   "execution_count": 3,
   "metadata": {},
   "outputs": [],
   "source": [
    "sort_ind = np.argsort(y)\n",
    "X = X[:, sort_ind]\n",
    "y = y[sort_ind[:M+1]]\n",
    "D = (y[M-1] + y[M])/2\n",
    "y = y[:M,np.newaxis]"
   ]
  },
  {
   "cell_type": "markdown",
   "metadata": {},
   "source": [
    "Very simple treatment: about points X[:,M:] we know only that $y_i$ should be $y_i \\geq D$, so let's have constraint $c^\\top x_i \\geq D, i > M$ and minimize by X[:,:M] part of X.\n",
    "$$\n",
    "\\min_{X} c^\\top X_{i \\leq M}, \\\\\n",
    "c^\\top X_{i > M} \\geq D\n",
    "$$"
   ]
  },
  {
   "cell_type": "code",
   "execution_count": 4,
   "metadata": {},
   "outputs": [],
   "source": [
    "c = cvx.Variable(n)\n",
    "constraints = [c.T*X[:,M:] >= D] # our X[:,M:] is this part with censored values for y"
   ]
  },
  {
   "cell_type": "code",
   "execution_count": 5,
   "metadata": {},
   "outputs": [],
   "source": [
    "obj = cvx.Minimize(cvx.sum_squares(c.T*X[:,:M]-y.T)) # and minimize by known y"
   ]
  },
  {
   "cell_type": "code",
   "execution_count": 6,
   "metadata": {},
   "outputs": [],
   "source": [
    "prob = cvx.Problem(obj, constraints) #usual routine"
   ]
  },
  {
   "cell_type": "code",
   "execution_count": 7,
   "metadata": {},
   "outputs": [
    {
     "name": "stdout",
     "output_type": "stream",
     "text": [
      "status: optimal\n",
      "optimal value 2.0711948\n",
      "[[ 1.53817956]\n",
      " [-0.75310014]\n",
      " [-0.43716121]\n",
      " [-1.04458413]\n",
      " [ 0.87371472]\n",
      " [-2.28535139]\n",
      " [ 1.79176345]\n",
      " [-0.71101112]\n",
      " [ 0.2644144 ]\n",
      " [-0.30984617]\n",
      " [ 1.43450893]\n",
      " [-2.115688  ]\n",
      " [-0.35096751]\n",
      " [-0.37592943]\n",
      " [ 1.18146074]\n",
      " [-1.1473156 ]\n",
      " [-0.04681776]\n",
      " [-1.14158709]\n",
      " [ 0.13219842]\n",
      " [ 0.54257486]]\n"
     ]
    }
   ],
   "source": [
    "prob = cvx.Problem(obj, constraints)\n",
    "prob.solve()  \n",
    "print (\"status:\", prob.status)\n",
    "print (\"optimal value %.7f\" % (prob.value))\n",
    "print(c.value)"
   ]
  },
  {
   "cell_type": "code",
   "execution_count": 8,
   "metadata": {},
   "outputs": [
    {
     "data": {
      "text/plain": [
       "array([ 1.62434536, -0.61175641, -0.52817175, -1.07296862,  0.86540763,\n",
       "       -2.3015387 ,  1.74481176, -0.7612069 ,  0.3190391 , -0.24937038,\n",
       "        1.46210794, -2.06014071, -0.3224172 , -0.38405435,  1.13376944,\n",
       "       -1.09989127, -0.17242821, -0.87785842,  0.04221375,  0.58281521])"
      ]
     },
     "execution_count": 8,
     "metadata": {},
     "output_type": "execute_result"
    }
   ],
   "source": [
    "c_true"
   ]
  },
  {
   "cell_type": "code",
   "execution_count": 9,
   "metadata": {},
   "outputs": [],
   "source": [
    "def compare(c1, c_true): #calculation of suggested relative error metric\n",
    "    return np.sqrt(np.sum((np.squeeze(np.asarray(c1))-c_true)**2)/np.sum(c_true**2))"
   ]
  },
  {
   "cell_type": "code",
   "execution_count": 10,
   "metadata": {},
   "outputs": [
    {
     "name": "stdout",
     "output_type": "stream",
     "text": [
      "0.0788161641764\n"
     ]
    }
   ],
   "source": [
    "print(compare(c.value, c_true))"
   ]
  },
  {
   "cell_type": "code",
   "execution_count": 11,
   "metadata": {},
   "outputs": [
    {
     "name": "stdout",
     "output_type": "stream",
     "text": [
      "status: optimal\n",
      "optimal value 0.9040512\n",
      "0.227096701662\n"
     ]
    }
   ],
   "source": [
    "prob2 = cvx.Problem(obj, []) # now we just remove constraints about i >= M points, that's means we just minimize by first known points\n",
    "prob2.solve()  \n",
    "print (\"status:\", prob2.status)\n",
    "print (\"optimal value %.7f\" % (prob2.value))\n",
    "print(compare(c.value, c_true))"
   ]
  },
  {
   "cell_type": "markdown",
   "metadata": {},
   "source": [
    "# Problem 2"
   ]
  },
  {
   "cell_type": "code",
   "execution_count": 12,
   "metadata": {},
   "outputs": [],
   "source": [
    "import scipy.io as sio\n",
    "\n",
    "mat_contents = sio.loadmat('veh_sched_data.mat')\n",
    "\n",
    "a = mat_contents['a'][0,0]\n",
    "b = mat_contents['b'][0,0]\n",
    "c = mat_contents['c'][0,0]\n",
    "d = mat_contents['d'].squeeze()\n",
    "n = mat_contents['n'][0,0]\n",
    "smin = mat_contents['smin'].squeeze()\n",
    "smax = mat_contents['smax'].squeeze()\n",
    "tau_min = mat_contents['tau_min'].squeeze()\n",
    "tau_max = mat_contents['tau_max'].squeeze()\n"
   ]
  },
  {
   "cell_type": "markdown",
   "metadata": {},
   "source": [
    "Let's save build a good function of vector $\\vec{t}$. If $t_i$ is time of arrival at $i$ position, that's obvious to write constraints, but our function to minimize will contain $\\frac{1}{t_i - t_{i-1}}$. Let's get rid of this and denote $t_i$ to time of travel through $d_i$. Our $f(\\vec{t})$ is $\\sum g(t_i)$, where $g$ is convex (linear combination of convex $1/t$ on $t>0$, $const$ and $t$), so, $f$ is convex.\n",
    "$$\\min_{t}\\sum_i \\left( \\frac{a}{t_i}d_i^2 + b d_i + c t_i \\right),\\\\\n",
    "\\tau^{min}_i \\leq \\sum_{j=0}^{i} t_j \\leq \\tau^{max}_i, \\\\\n",
    "s^{min}_i t_i \\leq d_i, \\\\\n",
    "s^{max}_i t_i \\geq d_i \n",
    "$$\n"
   ]
  },
  {
   "cell_type": "code",
   "execution_count": 20,
   "metadata": {},
   "outputs": [],
   "source": [
    "t = cvx.Variable(n)\n",
    "A = np.tril(np.ones((n,n)))\n",
    "constraints = [\n",
    "    A*t <= tau_max, A*t >= tau_min,\n",
    "    cvx.mul_elemwise(smin,t) <= d,\n",
    "    cvx.mul_elemwise(smax,t) >= d\n",
    "]\n",
    "d2 = d**2\n",
    "obj = cvx.Minimize(cvx.sum_entries(a*cvx.mul_elemwise(d2,cvx.inv_pos(t)) + b*d + c*t))"
   ]
  },
  {
   "cell_type": "code",
   "execution_count": 21,
   "metadata": {},
   "outputs": [
    {
     "name": "stdout",
     "output_type": "stream",
     "text": [
      "status: optimal\n",
      "optimal value 2617.8251935\n"
     ]
    }
   ],
   "source": [
    "prob = cvx.Problem(obj, constraints)\n",
    "prob.solve()  \n",
    "print (\"status:\", prob.status)\n",
    "print (\"optimal value %.7f\" % (prob.value))"
   ]
  },
  {
   "cell_type": "code",
   "execution_count": 22,
   "metadata": {},
   "outputs": [
    {
     "name": "stdout",
     "output_type": "stream",
     "text": [
      "(100, 1) (100, 1) (100, 1)\n"
     ]
    },
    {
     "data": {
      "text/plain": [
       "[<matplotlib.lines.Line2D at 0x7fb6d42821d0>]"
      ]
     },
     "execution_count": 22,
     "metadata": {},
     "output_type": "execute_result"
    },
    {
     "data": {
      "image/png": "[encoded data removed]",
      "text/plain": [
       "<matplotlib.figure.Figure at 0x7fb6d43ccac8>"
      ]
     },
     "metadata": {},
     "output_type": "display_data"
    }
   ],
   "source": [
    "speeds = np.divide(d[:,np.newaxis],t.value)\n",
    "print(speeds.shape, d[:,np.newaxis].shape, t.value.shape)\n",
    "fig, ax = plt.subplots(figsize=(6,4), dpi=300)\n",
    "ax.set_title('Results for speed, total fuel consumption = %f'%(prob.value))\n",
    "ax.step(list(range(n)), smin)\n",
    "ax.step(list(range(n)), smax)\n",
    "ax.step(list(range(n)), speeds, 'r-')"
   ]
  },
  {
   "cell_type": "markdown",
   "metadata": {
    "collapsed": true
   },
   "source": [
    "# Problem 7"
   ]
  },
  {
   "cell_type": "markdown",
   "metadata": {},
   "source": [
    "### Primal"
   ]
  },
  {
   "cell_type": "code",
   "execution_count": 23,
   "metadata": {},
   "outputs": [
    {
     "name": "stdout",
     "output_type": "stream",
     "text": [
      "status: optimal\n",
      "optimal value 0.1171875\n"
     ]
    }
   ],
   "source": [
    "W = np.matrix([[2,-1/2],[-1/2,2]])\n",
    "C = np.matrix([[2,3],[4,5]])\n",
    "x = cvx.Variable(2)\n",
    "primal_obj = cvx.Minimize(cvx.quad_form(x,W))\n",
    "primal_constraints = [\n",
    "    C*x >= 1\n",
    "]\n",
    "primal_prob = cvx.Problem(primal_obj,primal_constraints)\n",
    "primal_prob.solve()  \n",
    "print (\"status:\", primal_prob.status)\n",
    "print (\"optimal value %.7f\" % (primal_prob.value))"
   ]
  },
  {
   "cell_type": "markdown",
   "metadata": {},
   "source": [
    "### Dual"
   ]
  },
  {
   "cell_type": "markdown",
   "metadata": {},
   "source": [
    "$$ L(x,\\lambda) = x^\\top W x - \\lambda_1 (2x_1 + 3x_2) - \\lambda_2 (4x_1 + 5x_2) + \\lambda_1 + \\lambda_2 $$\n",
    "To minimize by x we should $\\nabla_x L = 0$ (because differentiable).\n"
   ]
  },
  {
   "cell_type": "markdown",
   "metadata": {},
   "source": [
    "We need then to find $g(\\lambda)$ by $\\min_x L(x,\\lambda)$. For that we need to $\\nabla_x L = 0$. Let's do it with sympy.\n",
    "Than with cvxpy we maximize $g(\\lambda)$ over $\\lambda \\geq 0$."
   ]
  },
  {
   "cell_type": "code",
   "execution_count": 24,
   "metadata": {},
   "outputs": [],
   "source": [
    "import sympy as sp"
   ]
  },
  {
   "cell_type": "code",
   "execution_count": 25,
   "metadata": {},
   "outputs": [],
   "source": [
    "x1,x2,l1,l2 = sp.symbols('x1 x2 l1 l2')"
   ]
  },
  {
   "cell_type": "code",
   "execution_count": 27,
   "metadata": {},
   "outputs": [],
   "source": [
    "L = 2*x1*x1 + 2*x2*x2 - x1*x2 - l1*(2*x1+3*x2) - l2*(4*x1+5*x2) + l1 + l2"
   ]
  },
  {
   "cell_type": "code",
   "execution_count": 40,
   "metadata": {},
   "outputs": [
    {
     "data": {
      "text/plain": [
       "{x1: 11*l1/15 + 7*l2/5, x2: 14*l1/15 + 8*l2/5}"
      ]
     },
     "execution_count": 40,
     "metadata": {},
     "output_type": "execute_result"
    }
   ],
   "source": [
    "sp.solve([sp.diff(L,x1),sp.diff(L,x2)],x1,x2)"
   ]
  },
  {
   "cell_type": "code",
   "execution_count": 41,
   "metadata": {},
   "outputs": [],
   "source": [
    "g = L.subs(x1,11*l1/15 + 7*l2/5).subs(x2,14*l1/15 + 8*l2/5)"
   ]
  },
  {
   "cell_type": "code",
   "execution_count": 42,
   "metadata": {},
   "outputs": [
    {
     "data": {
      "text/plain": [
       "-32*l1**2/15 - 38*l1*l2/5 + l1 - 34*l2**2/5 + l2"
      ]
     },
     "execution_count": 42,
     "metadata": {},
     "output_type": "execute_result"
    }
   ],
   "source": [
    "g.simplify()"
   ]
  },
  {
   "cell_type": "code",
   "execution_count": 44,
   "metadata": {},
   "outputs": [
    {
     "name": "stdout",
     "output_type": "stream",
     "text": [
      "status: optimal\n",
      "optimal value 0.1171875\n"
     ]
    }
   ],
   "source": [
    "λ = cvx.Variable(2)\n",
    "W2 = np.matrix([[-32/15, -19/5],[-19/5,-34/5]])\n",
    "dual_objective = cvx.Maximize(cvx.quad_form(λ,W2) + cvx.sum_entries(λ))\n",
    "dual_constraints = [\n",
    "    λ >= 0\n",
    "]\n",
    "dual_prob = cvx.Problem(dual_objective,dual_constraints)\n",
    "dual_prob.solve()  \n",
    "print (\"status:\", dual_prob.status)\n",
    "print (\"optimal value %.7f\" % (dual_prob.value))"
   ]
  },
  {
   "cell_type": "markdown",
   "metadata": {},
   "source": [
    "So, optimal values are the same :)"
   ]
  },
  {
   "cell_type": "code",
   "execution_count": null,
   "metadata": {},
   "outputs": [],
   "source": []
  }
 ],
 "metadata": {
  "kernelspec": {
   "display_name": "Python 3",
   "language": "python",
   "name": "python3"
  },
  "language_info": {
   "codemirror_mode": {
    "name": "ipython",
    "version": 3
   },
   "file_extension": ".py",
   "mimetype": "text/x-python",
   "name": "python",
   "nbconvert_exporter": "python",
   "pygments_lexer": "ipython3",
   "version": "3.6.1"
  }
 },
 "nbformat": 4,
 "nbformat_minor": 2
}
