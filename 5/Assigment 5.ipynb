{
 "cells": [
  {
   "cell_type": "code",
   "execution_count": 2,
   "metadata": {},
   "outputs": [],
   "source": [
    "import numpy as np\n",
    "import cvxpy as cvx\n",
    "from numpy.random import randn"
   ]
  },
  {
   "cell_type": "markdown",
   "metadata": {},
   "source": [
    "# Problem 1"
   ]
  },
  {
   "cell_type": "code",
   "execution_count": 17,
   "metadata": {},
   "outputs": [
    {
     "name": "stdout",
     "output_type": "stream",
     "text": [
      "(20,)\n"
     ]
    }
   ],
   "source": [
    "n = 20\n",
    "M = 25\n",
    "K = 100\n",
    "np.random.seed(1)\n",
    "c_true = randn(n)\n",
    "X  = randn(n,K)\n",
    "y = np.dot(X.T, c_true) + 0.1 * np.sqrt(n) * randn(K)\n",
    "print(c_true.shape)"
   ]
  },
  {
   "cell_type": "code",
   "execution_count": 18,
   "metadata": {},
   "outputs": [],
   "source": [
    "sort_ind = np.argsort(y)\n",
    "X = X[:, sort_ind]\n",
    "y = y[sort_ind[:M+1]]\n",
    "D = (y[M-1] + y[M])/2\n",
    "y = y[:M,np.newaxis]"
   ]
  },
  {
   "cell_type": "markdown",
   "metadata": {},
   "source": [
    "Very simple treatment: about points X[:,M:] we know only that $y_i$ should be $y_i \\geq D$, so let's have constraint $c^\\top x_i \\geq D, i > M$ and minimize by X[:,:M] part of X.\n",
    "$$\n",
    "\\min_{X} c^\\top X_{i \\leq M}, \\\\\n",
    "c^\\top X_{i > M} \\geq D\n",
    "$$"
   ]
  },
  {
   "cell_type": "code",
   "execution_count": 58,
   "metadata": {},
   "outputs": [],
   "source": [
    "c = cvx.Variable(n)\n",
    "constraints = [c.T*X[:,M:] >= D] # our X[:,M:] is this part with censored values for y"
   ]
  },
  {
   "cell_type": "code",
   "execution_count": 59,
   "metadata": {},
   "outputs": [],
   "source": [
    "obj = cvx.Minimize(cvx.sum_squares(c.T*X[:,:M]-y.T)) # and minimize by known y"
   ]
  },
  {
   "cell_type": "code",
   "execution_count": 60,
   "metadata": {},
   "outputs": [],
   "source": [
    "prob = cvx.Problem(obj, constraints) #usual routine"
   ]
  },
  {
   "cell_type": "code",
   "execution_count": 61,
   "metadata": {},
   "outputs": [
    {
     "name": "stdout",
     "output_type": "stream",
     "text": [
      "status: optimal\n",
      "optimal value 2.0711948\n",
      "[[ 1.53817956]\n",
      " [-0.75310014]\n",
      " [-0.43716121]\n",
      " [-1.04458413]\n",
      " [ 0.87371472]\n",
      " [-2.28535139]\n",
      " [ 1.79176345]\n",
      " [-0.71101112]\n",
      " [ 0.2644144 ]\n",
      " [-0.30984617]\n",
      " [ 1.43450893]\n",
      " [-2.115688  ]\n",
      " [-0.35096751]\n",
      " [-0.37592943]\n",
      " [ 1.18146074]\n",
      " [-1.1473156 ]\n",
      " [-0.04681776]\n",
      " [-1.14158709]\n",
      " [ 0.13219842]\n",
      " [ 0.54257486]]\n"
     ]
    }
   ],
   "source": [
    "prob = cvx.Problem(obj, constraints)\n",
    "prob.solve()  \n",
    "print (\"status:\", prob.status)\n",
    "print (\"optimal value %.7f\" % (prob.value))\n",
    "print(c.value)"
   ]
  },
  {
   "cell_type": "code",
   "execution_count": 62,
   "metadata": {},
   "outputs": [
    {
     "data": {
      "text/plain": [
       "array([ 1.62434536, -0.61175641, -0.52817175, -1.07296862,  0.86540763,\n",
       "       -2.3015387 ,  1.74481176, -0.7612069 ,  0.3190391 , -0.24937038,\n",
       "        1.46210794, -2.06014071, -0.3224172 , -0.38405435,  1.13376944,\n",
       "       -1.09989127, -0.17242821, -0.87785842,  0.04221375,  0.58281521])"
      ]
     },
     "execution_count": 62,
     "metadata": {},
     "output_type": "execute_result"
    }
   ],
   "source": [
    "c_true"
   ]
  },
  {
   "cell_type": "code",
   "execution_count": 66,
   "metadata": {},
   "outputs": [],
   "source": [
    "def compare(c1, c_true):\n",
    "    return np.sqrt(np.sum((np.squeeze(np.asarray(c1))-c_true)**2)/np.sum(c_true**2))"
   ]
  },
  {
   "cell_type": "code",
   "execution_count": 67,
   "metadata": {},
   "outputs": [
    {
     "name": "stdout",
     "output_type": "stream",
     "text": [
      "0.0788161641764\n"
     ]
    }
   ],
   "source": [
    "print(compare(c.value, c_true))"
   ]
  },
  {
   "cell_type": "code",
   "execution_count": 69,
   "metadata": {},
   "outputs": [
    {
     "name": "stdout",
     "output_type": "stream",
     "text": [
      "status: optimal\n",
      "optimal value 0.9040512\n",
      "0.227096701662\n"
     ]
    }
   ],
   "source": [
    "prob2 = cvx.Problem(obj, []) # now we just remove constraints about i >= M points, that's means we just minimize by first known points\n",
    "prob2.solve()  \n",
    "print (\"status:\", prob2.status)\n",
    "print (\"optimal value %.7f\" % (prob2.value))\n",
    "print(compare(c.value, c_true))"
   ]
  },
  {
   "cell_type": "code",
   "execution_count": null,
   "metadata": {},
   "outputs": [],
   "source": []
  }
 ],
 "metadata": {
  "kernelspec": {
   "display_name": "Python 3",
   "language": "python",
   "name": "python3"
  },
  "language_info": {
   "codemirror_mode": {
    "name": "ipython",
    "version": 3
   },
   "file_extension": ".py",
   "mimetype": "text/x-python",
   "name": "python",
   "nbconvert_exporter": "python",
   "pygments_lexer": "ipython3",
   "version": "3.6.1"
  }
 },
 "nbformat": 4,
 "nbformat_minor": 2
}
