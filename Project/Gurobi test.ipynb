{
 "cells": [
  {
   "cell_type": "code",
   "execution_count": 7,
   "metadata": {},
   "outputs": [
    {
     "ename": "TypeError",
     "evalue": "'Var' object does not support indexing",
     "output_type": "error",
     "traceback": [
      "\u001b[1;31m---------------------------------------------------------------------------\u001b[0m",
      "\u001b[1;31mTypeError\u001b[0m                                 Traceback (most recent call last)",
      "\u001b[1;32m<ipython-input-7-89ee9fed1786>\u001b[0m in \u001b[0;36m<module>\u001b[1;34m()\u001b[0m\n\u001b[0;32m      8\u001b[0m \u001b[1;33m\u001b[0m\u001b[0m\n\u001b[0;32m      9\u001b[0m \u001b[1;31m# Set objective\u001b[0m\u001b[1;33m\u001b[0m\u001b[1;33m\u001b[0m\u001b[0m\n\u001b[1;32m---> 10\u001b[1;33m \u001b[0mobj\u001b[0m \u001b[1;33m=\u001b[0m \u001b[0mx\u001b[0m\u001b[1;33m[\u001b[0m\u001b[1;36m0\u001b[0m\u001b[1;33m]\u001b[0m\u001b[1;33m\u001b[0m\u001b[0m\n\u001b[0m\u001b[0;32m     11\u001b[0m \u001b[0mm\u001b[0m\u001b[1;33m.\u001b[0m\u001b[0msetObjective\u001b[0m\u001b[1;33m(\u001b[0m\u001b[0mobj\u001b[0m\u001b[1;33m)\u001b[0m\u001b[1;33m\u001b[0m\u001b[0m\n\u001b[0;32m     12\u001b[0m \u001b[1;33m\u001b[0m\u001b[0m\n",
      "\u001b[1;31mTypeError\u001b[0m: 'Var' object does not support indexing"
     ]
    }
   ],
   "source": [
    "import gurobipy as grb\n",
    "\n",
    "# Create a new model\n",
    "m = grb.Model(\"qp\")\n",
    "\n",
    "# Create variables\n",
    "x = m.addVar(3, vtype=grb.GRB.BINARY, name=\"x\")\n",
    "\n",
    "# Set objective\n",
    "obj = x[0]\n",
    "m.setObjective(obj)\n",
    "\n",
    "# Add constraint\n",
    "m.addConstr(x + y + z >= 0, \"c0\")\n",
    "\n",
    "m.optimize()\n",
    "\n",
    "for v in m.getVars():\n",
    "    print('%s %g' % (v.varName, v.x))\n",
    "\n",
    "print('Obj: %g' % obj.getValue())"
   ]
  },
  {
   "cell_type": "code",
   "execution_count": 15,
   "metadata": {},
   "outputs": [
    {
     "ename": "IndexError",
     "evalue": "list index out of range",
     "output_type": "error",
     "traceback": [
      "\u001b[1;31m---------------------------------------------------------------------------\u001b[0m",
      "\u001b[1;31mIndexError\u001b[0m                                Traceback (most recent call last)",
      "\u001b[1;32m<ipython-input-15-b4c3ad7de541>\u001b[0m in \u001b[0;36m<module>\u001b[1;34m()\u001b[0m\n\u001b[0;32m     17\u001b[0m                  \u001b[0mvtype\u001b[0m\u001b[1;33m=\u001b[0m\u001b[0mgrb\u001b[0m\u001b[1;33m.\u001b[0m\u001b[0mGRB\u001b[0m\u001b[1;33m.\u001b[0m\u001b[0mBINARY\u001b[0m\u001b[1;33m,\u001b[0m\u001b[1;33m\u001b[0m\u001b[0m\n\u001b[0;32m     18\u001b[0m                  \u001b[0mobj\u001b[0m\u001b[1;33m=\u001b[0m\u001b[0mfixedCosts\u001b[0m\u001b[1;33m,\u001b[0m\u001b[1;33m\u001b[0m\u001b[0m\n\u001b[1;32m---> 19\u001b[1;33m                  name=\"open\")\n\u001b[0m",
      "\u001b[1;32mmodel.pxi\u001b[0m in \u001b[0;36mgurobipy.Model.addVars (../../src/python/gurobipy.c:77122)\u001b[1;34m()\u001b[0m\n",
      "\u001b[1;31mIndexError\u001b[0m: list index out of range"
     ]
    }
   ],
   "source": [
    "transCosts = [[4000, 2000, 3000, 2500, 4500],\n",
    "              [2500, 2600, 3400, 3000, 4000],\n",
    "              [1200, 1800, 2600, 4100, 3000],\n",
    "              [2200, 2600, 3100, 3700, 3200]]\n",
    "\n",
    "# Range of plants and warehouses\n",
    "plants = range(10)\n",
    "warehouses = range(20)\n",
    "\n",
    "# Model\n",
    "m = grb.Model(\"facility\")\n",
    "\n",
    "fixedCosts = [12000, 15000, 17000, 13000, 16000]\n",
    "\n",
    "# Plant open decision variables: open[p] == 1 if plant p is open.\n",
    "open = m.addVars(plants,\n",
    "                 vtype=grb.GRB.BINARY,\n",
    "                 obj=fixedCosts,\n",
    "                 name=\"open\")\n"
   ]
  },
  {
   "cell_type": "code",
   "execution_count": 26,
   "metadata": {},
   "outputs": [],
   "source": [
    "#!/usr/bin/python\n",
    "\n",
    "# Copyright 2017, Gurobi Optimization, Inc.\n",
    "\n",
    "# Facility location: a company currently ships its product from 5 plants\n",
    "# to 4 warehouses. It is considering closing some plants to reduce\n",
    "# costs. What plant(s) should the company close, in order to minimize\n",
    "# transportation and fixed costs?\n",
    "#\n",
    "# Note that this example uses lists instead of dictionaries.  Since\n",
    "# it does not work with sparse data, lists are a reasonable option.\n",
    "#\n",
    "# Based on an example from Frontline Systems:\n",
    "#   http://www.solver.com/disfacility.htm\n",
    "# Used with permission.\n",
    "\n",
    "from gurobipy import *\n",
    "\n",
    "# Warehouse demand in thousands of units\n",
    "demand = [15, 18, 14, 20]\n",
    "\n",
    "# Plant capacity in thousands of units\n",
    "capacity = [20, 22, 17, 19, 18]\n",
    "\n",
    "# Fixed costs for each plant\n",
    "fixedCosts = [12000, 15000, 17000, 13000, 16000]\n",
    "\n",
    "# Transportation costs per thousand units\n",
    "transCosts = [[4000, 2000, 3000, 2500, 4500],\n",
    "              [2500, 2600, 3400, 3000, 4000],\n",
    "              [1200, 1800, 2600, 4100, 3000],\n",
    "              [2200, 2600, 3100, 3700, 3200]]\n",
    "\n",
    "# Range of plants and warehouses\n",
    "plants = range(len(capacity))\n",
    "warehouses = range(len(demand))\n",
    "\n",
    "# Model\n",
    "m = Model(\"facility\")\n",
    "\n",
    "# Plant open decision variables: open[p] == 1 if plant p is open.\n",
    "open = m.addVars(plants, [0, 2, 4],\n",
    "                 vtype=GRB.BINARY,\n",
    "                 name=\"open\")"
   ]
  },
  {
   "cell_type": "code",
   "execution_count": 30,
   "metadata": {},
   "outputs": [
    {
     "data": {
      "text/plain": [
       "<gurobi.LinExpr: open[0,0] + open[0,2] + open[0,4]>"
      ]
     },
     "execution_count": 30,
     "metadata": {},
     "output_type": "execute_result"
    }
   ],
   "source": [
    "open.sum(0)"
   ]
  },
  {
   "cell_type": "code",
   "execution_count": null,
   "metadata": {
    "collapsed": true
   },
   "outputs": [],
   "source": []
  }
 ],
 "metadata": {
  "kernelspec": {
   "display_name": "Python 3",
   "language": "python",
   "name": "python3"
  },
  "language_info": {
   "codemirror_mode": {
    "name": "ipython",
    "version": 3
   },
   "file_extension": ".py",
   "mimetype": "text/x-python",
   "name": "python",
   "nbconvert_exporter": "python",
   "pygments_lexer": "ipython3",
   "version": "3.6.1"
  },
  "toc": {
   "nav_menu": {},
   "number_sections": true,
   "sideBar": true,
   "skip_h1_title": false,
   "toc_cell": false,
   "toc_position": {},
   "toc_section_display": "block",
   "toc_window_display": false
  },
  "varInspector": {
   "cols": {
    "lenName": 16,
    "lenType": 16,
    "lenVar": 40
   },
   "kernels_config": {
    "python": {
     "delete_cmd_postfix": "",
     "delete_cmd_prefix": "del ",
     "library": "var_list.py",
     "varRefreshCmd": "print(var_dic_list())"
    },
    "r": {
     "delete_cmd_postfix": ") ",
     "delete_cmd_prefix": "rm(",
     "library": "var_list.r",
     "varRefreshCmd": "cat(var_dic_list()) "
    }
   },
   "types_to_exclude": [
    "module",
    "function",
    "builtin_function_or_method",
    "instance",
    "_Feature"
   ],
   "window_display": false
  }
 },
 "nbformat": 4,
 "nbformat_minor": 2
}
