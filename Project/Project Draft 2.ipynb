{
 "cells": [
  {
   "cell_type": "markdown",
   "metadata": {},
   "source": [
    "Description of constraints and variables.."
   ]
  },
  {
   "cell_type": "markdown",
   "metadata": {},
   "source": [
    "$c_{i,j,k,l}$ - действие взятия кубика $j$-го цвета $i$-ым манипулятором из $k$-ой кучки $l$-ым номером. ($l$-номером - в смысле, кубик, который этот манипулятор взял первым - имеет первый номер и тд).\n",
    "\n",
    "Тогда:\n",
    "\n",
    "$c_{ijkl} \\in \\{0,1\\}$\n",
    "\n",
    "$c_{ijkl} \\geq 0, c_{ijkl} \\leq 1$\n",
    "\n",
    "$\\forall i,j,k, ~ l_2 \\geq l_1 \\Rightarrow c_{ijk,l_2} \\geq c_{ijk,l_1}$ - не можем взять второй кубик в манипулятро, пока не взяли первый и тд.\n",
    "\n",
    "$\\forall j,k \\sum_{i,l} c_{ijkl} \\leq 1$ - берем каждый кубик опр.цвета $j$ из опр. кучки $k$ не более 1го раза\n",
    "\n",
    "$\\forall i,l \\sum_{j,k} c_{ijkl} \\leq 1$ - в каждом манипуляторе $i$ на опр. высоте $l$ не более 1го кубика\n",
    "\n",
    "Введем $b_{ijl} = \\sum_k c_{ijkl}$ - наличие кубика цвета $j$ в манипуляторе $i$ на высоте $l$ (уже не важно из какой кучки). Для этой переменной можно записать условия на бонус очков в каждом манипуляторе:\n",
    "\n",
    "Если $a$, $b$, $c$ - бонусная последовательность цветов, то ее можно учесть след. образом для каждого манипулятора.\n",
    "Пусть $d_i$ - действие выкладывания $i$ манипулятора. Тогда начисление бонусных баллов можно представить в виде переменной $\\xi_i$:\n",
    "\n",
    "$\\xi_i \\geq 0, \\xi_i \\leq 1$\n",
    "\n",
    "У нас есть 6 возможных мест для последовательности из трех кубиков правильного цвета:\n",
    "наличие на $j$ из 6 мест бонусной посл. в $i$ манипуляторе обозначим за $\\pi_{ij}$. Тогда\n",
    "\n",
    "$\\pi_{ij} \\geq 0$\n",
    "\n",
    "$\\pi_{i,0} \\leq b_{i,0,a}$\n",
    "\n",
    "$\\pi_{i,0} \\leq b_{i,0,a}$\n",
    "\n",
    "$\\pi_{i,0} \\leq b_{i,1,b}$\n",
    "\n",
    "$\\pi_{i,0} \\leq b_{i,2,c}$\n",
    "\n",
    "и так далее для $\\pi_{i,1..}$\n",
    "\n",
    "\n",
    "Двух бонусных последовательностей в одном манипуляторе быть не может, поэтому\n",
    "$\\xi_i \\leq \\sum_j \\pi_{i,j}$ and $\\forall\\; i\\; \\xi_i \\in \\{0, 1\\}$\n",
    "\n",
    "Соответственно, если есть бонусная посл., то $\\xi_i \\in \\{0,1\\}$, а если ее нет, то $\\xi_i = 0$. Поэтому, если добавить слагаемое $+A \\xi_i$, то $\\max...$ будет выбирать его $1$ при возможности.\n",
    "\n",
    "\n",
    "А для учитывания уже конкретно наличия бонуса в 30 очков остается проверить, выложили ли мы эту башенку:\n",
    "\n",
    "$\\zeta_i \\leq \\xi_i, \\zeta_i \\leq d_i, \\zeta_i \\geq 0$\n",
    "\n",
    "**obj $ .. + 30\\sum_i \\zeta_i$ **\n",
    "\n",
    "Чтобы учесть взятие кубиков с разных сторон, на самом деле, у нас будут переменные $p_{ijklm}$. Здесь $m$ отвечает за то, с какой из 4х сторон мы подъехали к кубику $i$ манипулятором. Не всегда все из этих подъездов возможны. Пусть кубик цвета $j_2$  блокируют подъезд к кубику $j_1$ со стороны $m = 0$. Тогда, \n",
    "$index(p_{i,j_1,klm}) \\geq \\sum_{i,m,l} index(p_{i,j_2,klm})$\n",
    "Для других цветов пар $j_1$,$j_2$ и подъездов $m$ необходимо написать такие же условия, если блокирует.\n",
    "\n",
    "\n",
    "Основная переменная - матрица $x_{ij}$.  $x_{ij} = 1$, если j-е действие ($a_j$) является i-ым в порядке выполнения.\n",
    "\n",
    "$index(a_j) = (1,2,3...)^\\top x_{ij}$ \n",
    "-дает порядковый номер действия $a_j$, если оно включено в выбранную последовательность. Иначе 0.\n",
    "\n",
    "Время. Пусть мы тратим на действия $\\omega_i$ времени, а на переезды между действиями $\\Omega_{ij}$.\n",
    "\n",
    "\n",
    "$T_1 = \\sum_{ij} \\sum_N x_{N,i} x_{N-1,j} \\Omega_{ij} $,\n",
    "\n",
    "$T_2 = \\omega_j \\sum_i x_{ij}$\n",
    "\n",
    "\n",
    "$T = T_1 + T_2$\n",
    "\n",
    "objective - формируется за собранные кубики. За каждый кубик дается равно его высоте количество очков, начинается с 1. (+бонус). Запишем в $t_i$ очки за каждую башню:\n",
    "\n",
    "$t_i = \\sum_{j,i} b_{i,j,l}$ ... Но пока $t_i = 5$. И набираемые очки за это фиксированы, максимизировать их не нужно.\n",
    "\n",
    "$\\max_i \\sum_i \\zeta_i$"
   ]
  },
  {
   "cell_type": "markdown",
   "metadata": {},
   "source": [
    "бонус +\n",
    "\n",
    "брать кубики с разных сторон +\n",
    "\n",
    "выкладываться + \n",
    "\n",
    "выкладываться в разных точках ?\n",
    "\n",
    "разная высота башен -\n"
   ]
  },
  {
   "cell_type": "markdown",
   "metadata": {},
   "source": [
    "# Create matrix of moving times"
   ]
  },
  {
   "cell_type": "code",
   "execution_count": 1,
   "metadata": {
    "collapsed": true
   },
   "outputs": [],
   "source": [
    "import numpy as np"
   ]
  },
  {
   "cell_type": "code",
   "execution_count": 44,
   "metadata": {
    "collapsed": true
   },
   "outputs": [],
   "source": [
    "v = 20\n",
    "t_p = 2 # time of picking\n",
    "t_r = 1 # time of rotation on pi / 2\n",
    "t_m = 2 # time of moving on 6 cm"
   ]
  },
  {
   "cell_type": "code",
   "execution_count": 12,
   "metadata": {},
   "outputs": [],
   "source": [
    "picking_points = np.zeros((5, 4, 3, 3))\n",
    "cubes_coords = np.array([[0, -1], [1, 0], [0, 1], [-1, 0], [0, 0]])\n",
    "l1 = np.array([[[1, 0], [0, 1], [-1, 0]],\n",
    "               [[0, 1], [-1, 0], [0, -1]],\n",
    "               [[-1, 0], [0, -1], [1, 0]],\n",
    "               [[0, -1], [1, 0], [0, 1]]])\n",
    "\n",
    "picking_points[..., :2] = cubes_coords[:, np.newaxis, np.newaxis, :] + l1[np.newaxis, :, :, :]\n",
    "picking_points[..., 2] = np.array(range(4))[np.newaxis, :, np.newaxis]"
   ]
  },
  {
   "cell_type": "code",
   "execution_count": 13,
   "metadata": {},
   "outputs": [
    {
     "data": {
      "text/plain": [
       "array([[[[ 1., -1.,  0.],\n",
       "         [ 0.,  0.,  0.],\n",
       "         [-1., -1.,  0.]],\n",
       "\n",
       "        [[ 0.,  0.,  1.],\n",
       "         [-1., -1.,  1.],\n",
       "         [ 0., -2.,  1.]],\n",
       "\n",
       "        [[-1., -1.,  2.],\n",
       "         [ 0., -2.,  2.],\n",
       "         [ 1., -1.,  2.]],\n",
       "\n",
       "        [[ 0., -2.,  3.],\n",
       "         [ 1., -1.,  3.],\n",
       "         [ 0.,  0.,  3.]]],\n",
       "\n",
       "\n",
       "       [[[ 2.,  0.,  0.],\n",
       "         [ 1.,  1.,  0.],\n",
       "         [ 0.,  0.,  0.]],\n",
       "\n",
       "        [[ 1.,  1.,  1.],\n",
       "         [ 0.,  0.,  1.],\n",
       "         [ 1., -1.,  1.]],\n",
       "\n",
       "        [[ 0.,  0.,  2.],\n",
       "         [ 1., -1.,  2.],\n",
       "         [ 2.,  0.,  2.]],\n",
       "\n",
       "        [[ 1., -1.,  3.],\n",
       "         [ 2.,  0.,  3.],\n",
       "         [ 1.,  1.,  3.]]],\n",
       "\n",
       "\n",
       "       [[[ 1.,  1.,  0.],\n",
       "         [ 0.,  2.,  0.],\n",
       "         [-1.,  1.,  0.]],\n",
       "\n",
       "        [[ 0.,  2.,  1.],\n",
       "         [-1.,  1.,  1.],\n",
       "         [ 0.,  0.,  1.]],\n",
       "\n",
       "        [[-1.,  1.,  2.],\n",
       "         [ 0.,  0.,  2.],\n",
       "         [ 1.,  1.,  2.]],\n",
       "\n",
       "        [[ 0.,  0.,  3.],\n",
       "         [ 1.,  1.,  3.],\n",
       "         [ 0.,  2.,  3.]]],\n",
       "\n",
       "\n",
       "       [[[ 0.,  0.,  0.],\n",
       "         [-1.,  1.,  0.],\n",
       "         [-2.,  0.,  0.]],\n",
       "\n",
       "        [[-1.,  1.,  1.],\n",
       "         [-2.,  0.,  1.],\n",
       "         [-1., -1.,  1.]],\n",
       "\n",
       "        [[-2.,  0.,  2.],\n",
       "         [-1., -1.,  2.],\n",
       "         [ 0.,  0.,  2.]],\n",
       "\n",
       "        [[-1., -1.,  3.],\n",
       "         [ 0.,  0.,  3.],\n",
       "         [-1.,  1.,  3.]]],\n",
       "\n",
       "\n",
       "       [[[ 1.,  0.,  0.],\n",
       "         [ 0.,  1.,  0.],\n",
       "         [-1.,  0.,  0.]],\n",
       "\n",
       "        [[ 0.,  1.,  1.],\n",
       "         [-1.,  0.,  1.],\n",
       "         [ 0., -1.,  1.]],\n",
       "\n",
       "        [[-1.,  0.,  2.],\n",
       "         [ 0., -1.,  2.],\n",
       "         [ 1.,  0.,  2.]],\n",
       "\n",
       "        [[ 0., -1.,  3.],\n",
       "         [ 1.,  0.,  3.],\n",
       "         [ 0.,  1.,  3.]]]])"
      ]
     },
     "execution_count": 13,
     "metadata": {},
     "output_type": "execute_result"
    }
   ],
   "source": [
    "picking_points"
   ]
  },
  {
   "cell_type": "code",
   "execution_count": 25,
   "metadata": {},
   "outputs": [],
   "source": [
    "points_2 = np.reshape(picking_points, (60, 3))\n",
    "small_time_2 = t_m * np.abs(points_2[:, np.newaxis, 0] - points_2[np.newaxis, :, 0]) + \\\n",
    "             t_m * np.abs(points_2[:, np.newaxis, 1] - points_2[np.newaxis, :, 1]) + \\\n",
    "             t_r * ((points_2[:, np.newaxis, 2] - points_2[np.newaxis, :, 1]) % 4)"
   ]
  },
  {
   "cell_type": "code",
   "execution_count": 26,
   "metadata": {},
   "outputs": [
    {
     "data": {
      "text/plain": [
       "array([[  3.,   6.,   7., ...,   5.,   4.,  11.],\n",
       "       [  7.,   0.,   7., ...,   5.,   4.,   7.],\n",
       "       [  7.,   6.,   3., ...,   5.,   8.,  11.],\n",
       "       ..., \n",
       "       [  4.,   7.,   4., ...,   0.,   9.,   8.],\n",
       "       [  4.,   7.,   8., ...,   6.,   5.,   8.],\n",
       "       [  8.,   7.,   8., ...,   6.,   9.,   4.]])"
      ]
     },
     "execution_count": 26,
     "metadata": {},
     "output_type": "execute_result"
    }
   ],
   "source": [
    "small_time = np.where(small_time_2 == 0, 0, small_time_2 + t_p)\n",
    "small_time"
   ]
  },
  {
   "cell_type": "code",
   "execution_count": 27,
   "metadata": {},
   "outputs": [
    {
     "data": {
      "text/plain": [
       "array([[ 1.,  4.,  5., ...,  3.,  2.,  9.],\n",
       "       [ 5.,  0.,  5., ...,  3.,  2.,  5.],\n",
       "       [ 5.,  4.,  1., ...,  3.,  6.,  9.],\n",
       "       ..., \n",
       "       [ 2.,  5.,  2., ...,  0.,  7.,  6.],\n",
       "       [ 2.,  5.,  6., ...,  4.,  3.,  6.],\n",
       "       [ 6.,  5.,  6., ...,  4.,  7.,  2.]])"
      ]
     },
     "execution_count": 27,
     "metadata": {},
     "output_type": "execute_result"
    }
   ],
   "source": [
    "small_time_2"
   ]
  },
  {
   "cell_type": "code",
   "execution_count": 45,
   "metadata": {},
   "outputs": [],
   "source": [
    "heap_points = np.array([[54, 85, 0], [119, 30, 0], [150, 110, 0], [150, 190, 0], [119, 270, 0], [54, 215, 0]])\n",
    "all_picking_points = np.reshape(points_2[np.newaxis, :, :2] * 6 + heap_points[:, np.newaxis, :2], (360, 2))\n",
    "times = np.sum((all_picking_points[:, np.newaxis] - all_picking_points[np.newaxis, :]) ** 2, axis=2) ** 0.5 / v + t_p\n",
    "for i in range(6):\n",
    "    times[i * 60: (i + 1) * 60, i * 60: (i + 1) * 60] = small_time"
   ]
  },
  {
   "cell_type": "code",
   "execution_count": 46,
   "metadata": {},
   "outputs": [
    {
     "data": {
      "text/plain": [
       "array([[ 3.        ,  6.        ,  7.        , ...,  8.50691939,\n",
       "         8.8       ,  9.1063352 ],\n",
       "       [ 7.        ,  0.        ,  7.        , ...,  8.2       ,\n",
       "         8.50691939,  8.8       ],\n",
       "       [ 7.        ,  6.        ,  3.        , ...,  8.50691939,\n",
       "         8.82641927,  9.1063352 ],\n",
       "       ..., \n",
       "       [ 8.50691939,  8.2       ,  8.50691939, ...,  0.        ,\n",
       "         9.        ,  8.        ],\n",
       "       [ 8.8       ,  8.50691939,  8.82641927, ...,  6.        ,\n",
       "         5.        ,  8.        ],\n",
       "       [ 9.1063352 ,  8.8       ,  9.1063352 , ...,  6.        ,\n",
       "         9.        ,  4.        ]])"
      ]
     },
     "execution_count": 46,
     "metadata": {},
     "output_type": "execute_result"
    }
   ],
   "source": [
    "times"
   ]
  },
  {
   "cell_type": "code",
   "execution_count": null,
   "metadata": {
    "collapsed": true
   },
   "outputs": [],
   "source": []
  }
 ],
 "metadata": {
  "kernelspec": {
   "display_name": "Python 3",
   "language": "python",
   "name": "python3"
  },
  "language_info": {
   "codemirror_mode": {
    "name": "ipython",
    "version": 3
   },
   "file_extension": ".py",
   "mimetype": "text/x-python",
   "name": "python",
   "nbconvert_exporter": "python",
   "pygments_lexer": "ipython3",
   "version": "3.6.1"
  },
  "toc": {
   "nav_menu": {},
   "number_sections": true,
   "sideBar": true,
   "skip_h1_title": false,
   "toc_cell": false,
   "toc_position": {},
   "toc_section_display": "block",
   "toc_window_display": false
  },
  "varInspector": {
   "cols": {
    "lenName": 16,
    "lenType": 16,
    "lenVar": 40
   },
   "kernels_config": {
    "python": {
     "delete_cmd_postfix": "",
     "delete_cmd_prefix": "del ",
     "library": "var_list.py",
     "varRefreshCmd": "print(var_dic_list())"
    },
    "r": {
     "delete_cmd_postfix": ") ",
     "delete_cmd_prefix": "rm(",
     "library": "var_list.r",
     "varRefreshCmd": "cat(var_dic_list()) "
    }
   },
   "types_to_exclude": [
    "module",
    "function",
    "builtin_function_or_method",
    "instance",
    "_Feature"
   ],
   "window_display": false
  }
 },
 "nbformat": 4,
 "nbformat_minor": 2
}
