{
 "cells": [
  {
   "cell_type": "code",
   "execution_count": 1,
   "metadata": {
    "collapsed": true
   },
   "outputs": [],
   "source": [
    "import gurobipy as grb\n",
    "import numpy as np\n",
    "import itertools"
   ]
  },
  {
   "cell_type": "code",
   "execution_count": 2,
   "metadata": {
    "collapsed": true
   },
   "outputs": [],
   "source": [
    "S, I, J, K, L, M = 15, 3, 5, 6, 5, 4\n",
    "plan = [0, 1, 2]\n",
    "def iterer(*args):\n",
    "    return itertools.product(*[range(x_) for x_ in args])"
   ]
  },
  {
   "cell_type": "code",
   "execution_count": 3,
   "metadata": {
    "collapsed": true
   },
   "outputs": [],
   "source": [
    "model = grb.Model(\"eurobot\")\n",
    "\n",
    "x = model.addVars(range(S), range(I), range(J), range(K), range(L), range(M), name = 'x', vtype=grb.GRB.BINARY)"
   ]
  },
  {
   "cell_type": "markdown",
   "metadata": {},
   "source": [
    "## Unique action per step"
   ]
  },
  {
   "cell_type": "code",
   "execution_count": 4,
   "metadata": {
    "collapsed": true
   },
   "outputs": [],
   "source": [
    "model.addConstrs((x.sum(s, '*', '*', '*', '*', '*') <= 1 for s in iterer(S)));"
   ]
  },
  {
   "cell_type": "markdown",
   "metadata": {},
   "source": [
    "## Unique cubes and places constraints"
   ]
  },
  {
   "cell_type": "code",
   "execution_count": 5,
   "metadata": {
    "collapsed": true
   },
   "outputs": [],
   "source": [
    "model.addConstrs((x.sum('*', i, '*', '*', l, '*') == 1 for i, l in iterer(I, L)));\n",
    "model.addConstrs((x.sum('*', '*', j, k, '*', '*') <= 1 for j, k in iterer(J, K)));"
   ]
  },
  {
   "cell_type": "markdown",
   "metadata": {},
   "source": [
    "## Tower height"
   ]
  },
  {
   "cell_type": "code",
   "execution_count": 6,
   "metadata": {
    "collapsed": true
   },
   "outputs": [],
   "source": [
    "#model.addConstrs((x.sum('*', i, '*', '*', '*', '*') == 5 for i in iterer(I)));"
   ]
  },
  {
   "cell_type": "markdown",
   "metadata": {},
   "source": [
    "## Bonus plan requirements"
   ]
  },
  {
   "cell_type": "code",
   "execution_count": 7,
   "metadata": {},
   "outputs": [
    {
     "data": {
      "text/plain": [
       "{0: <gurobi.Constr *Awaiting Model Update*>,\n",
       " 1: <gurobi.Constr *Awaiting Model Update*>,\n",
       " 2: <gurobi.Constr *Awaiting Model Update*>}"
      ]
     },
     "execution_count": 7,
     "metadata": {},
     "output_type": "execute_result"
    }
   ],
   "source": [
    "pi = model.addVars(range(I), range(6), name = 'pi', vtype=grb.GRB.BINARY)\n",
    "\n",
    "plan_locations = [[0, 1, 2], [1, 2, 3], [2, 3, 4], [4, 3, 2], [3, 2, 1], [2, 1, 0]]\n",
    "for i, t in iterer(I, 6):\n",
    "    for j in range(3):\n",
    "        model.addConstr(pi[i, t] <= x.sum('*', i, plan[j], '*', plan_locations[t][j], '*'))\n",
    "\n",
    "xi = model.addVars(range(I), name='xi', vtype=grb.GRB.BINARY)\n",
    "model.addConstrs((xi[i] <= pi.sum(i, '*') for i in range(I)))"
   ]
  },
  {
   "cell_type": "markdown",
   "metadata": {},
   "source": [
    "## Ban collisions with other cubes"
   ]
  },
  {
   "cell_type": "code",
   "execution_count": 8,
   "metadata": {
    "run_control": {
     "marked": false
    }
   },
   "outputs": [],
   "source": [
    "j_rel = np.zeros((J+1,J+1,2))\n",
    "j_map = np.array([\n",
    "                 [-1,-1,-1,-1,-1],\n",
    "                 [-1,-1, 2,-1,-1],\n",
    "                 [-1, 3, 4, 1,-1],\n",
    "                 [-1,-1, 0,-1,-1],\n",
    "                 [-1,-1,-1,-1,-1]\n",
    "                 ])\n",
    "\n",
    "j_on_map = np.zeros((J+1,2))\n",
    "\n",
    "\n",
    "for i1 in range(j_map.shape[0]):\n",
    "    for j1 in range(j_map.shape[1]):\n",
    "        if j_map[i1,j1] >= 0:\n",
    "            j_on_map[j_map[i1,j1]] = np.array([j1,i1])\n",
    "\n",
    "for i1 in range(j_map.shape[0]):\n",
    "    for j1 in range(j_map.shape[1]):\n",
    "        for i2 in range(j_map.shape[0]):\n",
    "            for j2 in range(j_map.shape[1]):\n",
    "                if j_map[i1,j1] >= 0 and j_map[i2,j2] >= 0:\n",
    "                    if i1 != i2 or j1 != j2:\n",
    "                        j_rel[j_map[i1,j1],j_map[i2,j2]] = np.array([j2-j1,i2-i1])\n",
    "                        \n",
    "# we need just to have free space on 3 'kletka' around the manipulator\n",
    "def m_manipulator(i,m):\n",
    "    return (m+i-1)%4\n",
    "\n",
    "only_non_free_places = [np.array([0,-1]),np.array([-1,0]),np.array([0,1]),np.array([1,0])]\n",
    "\n",
    "def only_non_free_dif(i,m):\n",
    "    direction =  m_manipulator(i,m)\n",
    "    return only_non_free_places[direction]\n",
    "\n",
    "def our_position(j1):\n",
    "    return j_on_map[j1]\n",
    "\n",
    "def list_of_possible_breaks(j1,i,m):\n",
    "    toreturn = []\n",
    "    dxy = [np.array([0,1]),np.array([1,0]),np.array([-1,0]),np.array([0,-1])]\n",
    "    for dd in dxy:\n",
    "        if (dd != only_non_free_dif(i,m)).any():\n",
    "            yx = j_on_map[j1] + dd\n",
    "            if j_map[int(yx[1]),int(yx[0])] >= 0:\n",
    "                toreturn.append(j_map[int(yx[1]),int(yx[0])])\n",
    "    return toreturn"
   ]
  },
  {
   "cell_type": "code",
   "execution_count": 9,
   "metadata": {},
   "outputs": [],
   "source": [
    "for i, j, m in iterer(I, J, M):\n",
    "    cubes_to_peak = list_of_possible_breaks(j, i, m)\n",
    "    for s, k in iterer(S, K):\n",
    "        model.addConstr(grb.quicksum((x.sum(s_prev, '*', cube, k, '*', '*') for s_prev, cube in \\\n",
    "                                      itertools.product(range(s), cubes_to_peak) )) >= x.sum(s, i, j, k, '*', m))\n",
    "    "
   ]
  },
  {
   "cell_type": "markdown",
   "metadata": {},
   "source": [
    "## Time"
   ]
  },
  {
   "cell_type": "code",
   "execution_count": 10,
   "metadata": {
    "collapsed": true
   },
   "outputs": [],
   "source": [
    "v = 20\n",
    "t_p = 2 # time of picking\n",
    "t_r = 1 # time of rotation on pi / 2\n",
    "t_m = 2 # time of moving on 6 cm\n",
    "\n",
    "picking_points = np.zeros((5, 4, 3, 3))\n",
    "cubes_coords = np.array([[0, -1], [1, 0], [0, 1], [-1, 0], [0, 0]])\n",
    "l1 = np.array([[[1, 0], [0, 1], [-1, 0]],\n",
    "               [[0, 1], [-1, 0], [0, -1]],\n",
    "               [[-1, 0], [0, -1], [1, 0]],\n",
    "               [[0, -1], [1, 0], [0, 1]]])\n",
    "\n",
    "picking_points[..., :2] = cubes_coords[:, np.newaxis, np.newaxis, :] + l1[np.newaxis, :, :, :]\n",
    "picking_points[..., 2] = np.array(range(4))[np.newaxis, :, np.newaxis]\n",
    "\n",
    "points_2 = np.reshape(picking_points, (60, 3))\n",
    "small_time_2 = t_m * np.abs(points_2[:, np.newaxis, 0] - points_2[np.newaxis, :, 0]) + \\\n",
    "             t_m * np.abs(points_2[:, np.newaxis, 1] - points_2[np.newaxis, :, 1]) + \\\n",
    "             t_r * ((points_2[:, np.newaxis, 2] - points_2[np.newaxis, :, 1]) % 4)\n",
    "        \n",
    "small_time = np.where(small_time_2 == 0, 0, small_time_2 + t_p)\n",
    "heap_points = np.array([[54, 85, 0], [119, 30, 0], [150, 110, 0], [150, 190, 0], [119, 270, 0], [54, 215, 0]])\n",
    "all_picking_points = np.reshape(points_2[np.newaxis, :, :2] * 6 + heap_points[:, np.newaxis, :2], (360, 2))\n",
    "times = np.sum((all_picking_points[:, np.newaxis] - all_picking_points[np.newaxis, :]) ** 2, axis=2) ** 0.5 / v + t_p\n",
    "for i in range(6):\n",
    "    times[i * 60: (i + 1) * 60, i * 60: (i + 1) * 60] = small_time\n",
    "times = times.reshape(6, 5, 4, 3, 6, 5, 4, 3)"
   ]
  },
  {
   "cell_type": "code",
   "execution_count": 11,
   "metadata": {
    "collapsed": true
   },
   "outputs": [],
   "source": [
    "# %%time\n",
    "# gen = (x.sum(s, i_1, j_1, k_1, '*', m_1) * x.sum(s + 1, i_2, j_2, k_2, '*', m_2) * \\\n",
    "#        times[k_1, j_1, m_1, i_1, k_2, j_2, m_2, i_2] for s, i_1, j_1, k_1, m_1, i_2, j_2, k_2, m_2 \\\n",
    "#        in iterer(S - 1, I, J, K, M, I, J, K, M))\n",
    "# T = 1000\n",
    "# model.addConstr(grb.quicksum(gen) <= T, 'time');"
   ]
  },
  {
   "cell_type": "markdown",
   "metadata": {},
   "source": [
    "## Objective"
   ]
  },
  {
   "cell_type": "code",
   "execution_count": 12,
   "metadata": {
    "collapsed": true
   },
   "outputs": [],
   "source": [
    "obj = xi.sum('*')\n",
    "model.setObjective(obj, grb.GRB.MAXIMIZE)"
   ]
  },
  {
   "cell_type": "markdown",
   "metadata": {},
   "source": [
    "## Optimization "
   ]
  },
  {
   "cell_type": "code",
   "execution_count": 13,
   "metadata": {},
   "outputs": [
    {
     "name": "stdout",
     "output_type": "stream",
     "text": [
      "Optimize a model with 5517 rows, 27021 columns and 2849115 nonzeros\n",
      "Variable types: 0 continuous, 27021 integer (27021 binary)\n",
      "Coefficient statistics:\n",
      "  Matrix range     [1e+00, 1e+00]\n",
      "  Objective range  [1e+00, 1e+00]\n",
      "  Bounds range     [1e+00, 1e+00]\n",
      "  RHS range        [1e+00, 1e+00]\n",
      "Presolve removed 4969 rows and 26652 columns\n",
      "Presolve time: 0.86s\n",
      "\n",
      "Explored 0 nodes (0 simplex iterations) in 1.24 seconds\n",
      "Thread count was 1 (of 4 available processors)\n",
      "\n",
      "Solution count 0\n",
      "\n",
      "Model is infeasible\n",
      "Best objective -, best bound -, gap -\n"
     ]
    }
   ],
   "source": [
    "model.update()\n",
    "model.optimize()"
   ]
  },
  {
   "cell_type": "code",
   "execution_count": 14,
   "metadata": {},
   "outputs": [],
   "source": [
    "#x = np.reshape(np.array(model.getAttr(\"xi\")), (S, I, J, K, L, M))"
   ]
  },
  {
   "cell_type": "code",
   "execution_count": null,
   "metadata": {
    "collapsed": true
   },
   "outputs": [],
   "source": []
  }
 ],
 "metadata": {
  "kernelspec": {
   "display_name": "Python 3",
   "language": "python",
   "name": "python3"
  },
  "language_info": {
   "codemirror_mode": {
    "name": "ipython",
    "version": 3
   },
   "file_extension": ".py",
   "mimetype": "text/x-python",
   "name": "python",
   "nbconvert_exporter": "python",
   "pygments_lexer": "ipython3",
   "version": "3.6.1"
  },
  "toc": {
   "nav_menu": {},
   "number_sections": true,
   "sideBar": true,
   "skip_h1_title": false,
   "toc_cell": false,
   "toc_position": {},
   "toc_section_display": "block",
   "toc_window_display": false
  },
  "varInspector": {
   "cols": {
    "lenName": 16,
    "lenType": 16,
    "lenVar": 40
   },
   "kernels_config": {
    "python": {
     "delete_cmd_postfix": "",
     "delete_cmd_prefix": "del ",
     "library": "var_list.py",
     "varRefreshCmd": "print(var_dic_list())"
    },
    "r": {
     "delete_cmd_postfix": ") ",
     "delete_cmd_prefix": "rm(",
     "library": "var_list.r",
     "varRefreshCmd": "cat(var_dic_list()) "
    }
   },
   "types_to_exclude": [
    "module",
    "function",
    "builtin_function_or_method",
    "instance",
    "_Feature"
   ],
   "window_display": false
  }
 },
 "nbformat": 4,
 "nbformat_minor": 2
}
