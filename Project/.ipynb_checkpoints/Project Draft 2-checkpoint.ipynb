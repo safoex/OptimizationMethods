{
 "cells": [
  {
   "cell_type": "markdown",
   "metadata": {},
   "source": [
    "Description of constraints and variables.."
   ]
  },
  {
   "cell_type": "markdown",
   "metadata": {},
   "source": [
    "$c_{i,j,k,l}$ - действие взятия кубика $j$-го цвета $i$-ым манипулятором из $k$-ой кучки $l$-ым номером. ($l$-номером - в смысле, кубик, который этот манипулятор взял первым - имеет первый номер и тд).\n",
    "\n",
    "Тогда:\n",
    "\n",
    "$c_{ijkl} \\in \\{0,1\\}$\n",
    "\n",
    "$c_{ijkl} \\geq 0, c_{ijkl} \\leq 1$\n",
    "\n",
    "$\\forall i,j,k, ~ l_2 \\geq l_1 \\Rightarrow c_{ijk,l_2} \\geq c_{ijk,l_1}$ - не можем взять второй кубик в манипулятро, пока не взяли первый и тд.\n",
    "\n",
    "$\\forall j,k \\sum_{i,l} c_{ijkl} \\leq 1$ - берем каждый кубик опр.цвета $j$ из опр. кучки $k$ не более 1го раза\n",
    "\n",
    "$\\forall i,l \\sum_{j,k} c_{ijkl} \\leq 1$ - в каждом манипуляторе $i$ на опр. высоте $l$ не более 1го кубика\n",
    "\n",
    "Введем $b_{ijl} = \\sum_k c_{ijkl}$ - наличие кубика цвета $j$ в манипуляторе $i$ на высоте $l$ (уже не важно из какой кучки). Для этой переменной можно записать условия на бонус очков в каждом манипуляторе:\n",
    "\n",
    "Если $a$, $b$, $c$ - бонусная последовательность цветов, то ее можно учесть след. образом для каждого манипулятора.\n",
    "Пусть $d_i$ - действие выкладывания $i$ манипулятора. Тогда начисление бонусных баллов можно представить в виде переменной $\\xi_i$:\n",
    "\n",
    "$\\xi_i \\geq 0, \\xi_i \\leq 1$\n",
    "\n",
    "У нас есть 6 возможных мест для последовательности из трех кубиков правильного цвета:\n",
    "наличие на $j$ из 6 мест бонусной посл. в $i$ манипуляторе обозначим за $\\pi_{ij}$. Тогда\n",
    "\n",
    "$\\pi_{ij} \\geq 0$\n",
    "\n",
    "$\\pi_{i,0} \\leq b_{i,0,a}$\n",
    "\n",
    "$\\pi_{i,0} \\leq b_{i,0,a}$\n",
    "\n",
    "$\\pi_{i,0} \\leq b_{i,1,b}$\n",
    "\n",
    "$\\pi_{i,0} \\leq b_{i,2,c}$\n",
    "\n",
    "и так далее для $\\pi_{i,1..}$\n",
    "\n",
    "\n",
    "Двух бонусных последовательностей в одном манипуляторе быть не может, поэтому\n",
    "$\\xi_i \\leq \\sum_j \\pi_{i,j}$ and $\\forall\\; i\\; \\xi_i \\in \\{0, 1\\}$\n",
    "\n",
    "Соответственно, если есть бонусная посл., то $\\xi_i \\in \\{0,1\\}$, а если ее нет, то $\\xi_i = 0$. Поэтому, если добавить слагаемое $+A \\xi_i$, то $\\max...$ будет выбирать его $1$ при возможности.\n",
    "\n",
    "\n",
    "А для учитывания уже конкретно наличия бонуса в 30 очков остается проверить, выложили ли мы эту башенку:\n",
    "\n",
    "$\\zeta_i \\leq \\xi_i, \\zeta_i \\leq d_i, \\zeta_i \\geq 0$\n",
    "\n",
    "**obj $ .. + 30\\sum_i \\zeta_i$ **\n",
    "\n",
    "Чтобы учесть взятие кубиков с разных сторон, на самом деле, у нас будут переменные $p_{ijklm}$. Здесь $m$ отвечает за то, с какой из 4х сторон мы подъехали к кубику $i$ манипулятором. Не всегда все из этих подъездов возможны. Пусть кубик цвета $j_2$  блокируют подъезд к кубику $j_1$ со стороны $m = 0$. Тогда, \n",
    "$index(p_{i,j_1,klm}) \\geq \\sum_{i,m,l} index(p_{i,j_2,klm})$\n",
    "Для других цветов пар $j_1$,$j_2$ и подъездов $m$ необходимо написать такие же условия, если блокирует.\n",
    "\n",
    "\n",
    "Основная переменная - матрица $x_{ij}$.  $x_{ij} = 1$, если j-е действие ($a_j$) является i-ым в порядке выполнения.\n",
    "\n",
    "$index(a_j) = (1,2,3...)^\\top x_{ij}$ \n",
    "-дает порядковый номер действия $a_j$, если оно включено в выбранную последовательность. Иначе 0.\n",
    "\n",
    "Время. Пусть мы тратим на действия $\\omega_i$ времени, а на переезды между действиями $\\Omega_{ij}$.\n",
    "\n",
    "\n",
    "$T_1 = \\sum_{ij} \\sum_N x_{N,i} x_{N-1,j} \\Omega_{ij} $,\n",
    "\n",
    "$T_2 = \\omega_j \\sum_i x_{ij}$\n",
    "\n",
    "\n",
    "$T = T_1 + T_2$\n",
    "\n",
    "objective - формируется за собранные кубики. За каждый кубик дается равно его высоте количество очков, начинается с 1. (+бонус). Запишем в $t_i$ очки за каждую башню:\n",
    "\n",
    "$t_i = \\sum_{j,i} b_{i,j,l}$ ... Но пока $t_i = 5$. И набираемые очки за это фиксированы, максимизировать их не нужно.\n",
    "\n",
    "$\\max_i \\sum_i \\zeta_i$"
   ]
  },
  {
   "cell_type": "markdown",
   "metadata": {},
   "source": [
    "бонус +\n",
    "\n",
    "брать кубики с разных сторон +\n",
    "\n",
    "выкладываться + \n",
    "\n",
    "выкладываться в разных точках ?\n",
    "\n",
    "разная высота башен -\n"
   ]
  },
  {
   "cell_type": "markdown",
   "metadata": {},
   "source": [
    "# Create matrix of moving times"
   ]
  },
  {
   "cell_type": "code",
   "execution_count": null,
   "metadata": {
    "collapsed": true
   },
   "outputs": [],
   "source": [
    "v_r = 0.3\n"
   ]
  }
 ],
 "metadata": {
  "kernelspec": {
   "display_name": "Python 3",
   "language": "python",
   "name": "python3"
  },
  "language_info": {
   "codemirror_mode": {
    "name": "ipython",
    "version": 3
   },
   "file_extension": ".py",
   "mimetype": "text/x-python",
   "name": "python",
   "nbconvert_exporter": "python",
   "pygments_lexer": "ipython3",
   "version": "3.6.1"
  },
  "toc": {
   "nav_menu": {},
   "number_sections": true,
   "sideBar": true,
   "skip_h1_title": false,
   "toc_cell": false,
   "toc_position": {},
   "toc_section_display": "block",
   "toc_window_display": false
  },
  "varInspector": {
   "cols": {
    "lenName": 16,
    "lenType": 16,
    "lenVar": 40
   },
   "kernels_config": {
    "python": {
     "delete_cmd_postfix": "",
     "delete_cmd_prefix": "del ",
     "library": "var_list.py",
     "varRefreshCmd": "print(var_dic_list())"
    },
    "r": {
     "delete_cmd_postfix": ") ",
     "delete_cmd_prefix": "rm(",
     "library": "var_list.r",
     "varRefreshCmd": "cat(var_dic_list()) "
    }
   },
   "types_to_exclude": [
    "module",
    "function",
    "builtin_function_or_method",
    "instance",
    "_Feature"
   ],
   "window_display": false
  }
 },
 "nbformat": 4,
 "nbformat_minor": 2
}
