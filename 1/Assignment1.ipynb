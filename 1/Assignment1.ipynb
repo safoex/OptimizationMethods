{
 "cells": [
  {
   "cell_type": "markdown",
   "metadata": {},
   "source": [
    "# Problem 1\n",
    "\n",
    "**Capacitated facility location**\n",
    "\n",
    "You need to solve a *capacitated facility location* problem. There are a number of clients that can be served by a number of potential facilities. As in the case of a common (uncapacitated) facility location problem, you need to decide which facilities to open (paying the opening cost for each) and which clients to serve at each facility (paying the assignment cost). Each client must be assigned to one opened facility. In addition, you have a cap on how many clients each facility can serve. As usual, you want to minimize the costs.\n",
    "\n",
    "Implement the following algorithms and investigate them. Use the below code to generate the data, and to visualize the results. You are supposed to play with different configurations and problem sizes. Please make your report \n",
    "detailed (otherwise lower amount of points than indicated may be assigned).\n",
    "\n",
    "* (2 points). Implement a **greedy algorithm** for the problem.\n",
    "* (3 points). Implement **some local optimization algorithm**. Try to design powerful moves that are at the same time easy to search through. **Important:** your move should connect the whole domain, i.e. for any pair of feasible solutions, there should exist a sequence of moves from the family you design that transform one solution to the other.\n",
    "* (3 points). Implement the **simulated annealing algorithm** based on the best of your local optimization algorithms. Play with the schedule and see how it affects the results. Compare with the local optimization algorithm that you base upon. Note, that if implemented correctly, simulated annealing should improve over the local optimization algorithm.\n",
    "\n",
    "Below is the Gurobi solution that uses a mixed-integer solver (we will come to that in week 3). You can use it as a reference for small instances (for which it will give you a global optimum), and also reuse the visualization code.\n",
    "\n",
    "Before writing your code, study the cells below to learn variables, convention for the solution format etc."
   ]
  },
  {
   "cell_type": "code",
   "execution_count": 1,
   "metadata": {
    "collapsed": true
   },
   "outputs": [],
   "source": [
    "import numpy as np\n",
    "import scipy as sp\n",
    "from numpy import random\n",
    "from numpy import matlib\n",
    "import matplotlib.pyplot as plt\n",
    "#from gurobipy import GRB\n",
    "#import gurobipy as grb\n",
    "\n",
    "%matplotlib inline\n",
    "\n",
    "class Problem:\n",
    "    def __init__(self, C=20, F=15):\n",
    "        self.C = C\n",
    "        self.F = F\n",
    "        \n",
    "        self.clients = np.random.rand(2, C)    # client positions\n",
    "        self.facilities = np.random.rand(2, F) # facility positions\n",
    "\n",
    "        # maximum number of clients per facility\n",
    "        self.capacities = np.ones((F,), dtype=np.int32)*4;\n",
    "\n",
    "        # assignment cost is defined as the squared distance between a client and a facility\n",
    "        dx = \\\n",
    "            np.matlib.repmat(self.clients[0,:],F,1) - \\\n",
    "            np.matlib.repmat(self.facilities[0,:],C,1).transpose();\n",
    "        dy = \\\n",
    "            np.matlib.repmat(self.clients[1,:],F,1) - \\\n",
    "            np.matlib.repmat(self.facilities[1,:],C,1).transpose();\n",
    "\n",
    "        self.assignment_costs = 3*(dx*dx + dy*dy);\n",
    "\n",
    "        self.opening_costs = np.ones((F,));\n",
    "    \n",
    "    def assign_random_capacities(self):\n",
    "        \"\"\"\n",
    "        Assign more or less random capacities to facilities.\n",
    "        \n",
    "        This is one of the possible ways to change the problem configuration.\n",
    "        In other words, use this function when testing your solution!\n",
    "        \"\"\"\n",
    "        while True:\n",
    "            self.capacities = \\\n",
    "                np.random.randint(2*self.C // self.F, size=self.F) + 1\n",
    "            if sum(self.capacities) > self.C * 1.3:\n",
    "                break\n",
    "    \n",
    "    def assign_random_opening_costs(self):\n",
    "        \"\"\"\n",
    "        Assign more or less random opening costs to facilities.\n",
    "        \n",
    "        Same as above -- use this for your report.\n",
    "        \"\"\"\n",
    "        # could be float, but let it be simple\n",
    "        self.opening_costs = \\\n",
    "            np.random.randint((self.C+self.F-1) // self.F, size=self.F) + 1\n",
    "    \n",
    "    def plot(self, y, assignments, fig=plt):\n",
    "        \"\"\"\n",
    "        Plot the given solution (y, assignments)\n",
    "        \n",
    "        Arguments:\n",
    "        y, assignments -- see Problem.objective().\n",
    "        fig            -- an instance of matplotlib.axes._axes.Axes to draw on.\n",
    "                          Also, can be matplotlib.pyplot, in this case use the default Axes.\n",
    "                          This is useful to compare your results (see \"Results comparison\" section).\n",
    "        \"\"\"\n",
    "        \n",
    "        y = y.astype(np.int32)\n",
    "        assignments = assignments.astype(np.int32)\n",
    "        \n",
    "        for cli,fac in enumerate(assignments):\n",
    "            fig.plot([self.clients[0,cli], self.facilities[0,fac]], \\\n",
    "                     [self.clients[1,cli], self.facilities[1,fac]], c=(.7,.7,.7))\n",
    "            \n",
    "        fig.scatter(self.clients[0,:], self.clients[1,:], s=15.0, c=assignments, \\\n",
    "                    vmin=0, vmax=self.F-1)\n",
    "        \n",
    "        fig.scatter(self.facilities[0,:], self.facilities[1,:], s=54.0, \\\n",
    "                    c=range(self.F), linewidth = [1*el for el in y])\n",
    "        \n",
    "    def objective(self, y, assignments):\n",
    "        \"\"\"\n",
    "        Return objective function value given a solution.\n",
    "        If the solution is infeasible, return infinity.\n",
    "        \n",
    "        Arguments:\n",
    "        y           -- a binary 1D array of size F. y[i] is 1 iff i-th facility is open.\n",
    "        assignments -- an integer 1D array of size C. assignments[i] is index of facility\n",
    "                       that i-th client is assigned to.\n",
    "        \"\"\"\n",
    "        assert len(y) == self.F\n",
    "        assert len(assignments) == self.C\n",
    "        \n",
    "        y = y.astype(np.int32)\n",
    "        assignments = assignments.astype(np.int32)\n",
    "        \n",
    "        retval = sum(is_opened*opening_cost \\\n",
    "                     for is_opened, opening_cost in zip(y, self.opening_costs))\n",
    "        \n",
    "        assignment_counts = np.zeros_like(y)\n",
    "        \n",
    "        for cli,fac in enumerate(assignments):\n",
    "            if not y[fac]:\n",
    "                return np.inf\n",
    "            else:\n",
    "                retval += self.assignment_costs[fac,cli]\n",
    "                assignment_counts[fac] += 1\n",
    "                \n",
    "        if any(assignment_counts > self.capacities):\n",
    "            return np.inf\n",
    "            \n",
    "        return retval\n",
    "        \n",
    "    def solve_gurobi(self, verbose=False):\n",
    "        \"\"\"\n",
    "        Solve the problem using mixed integer program solver.\n",
    "        Return `y, assignments` (see Problem.objective() docstring for format).\n",
    "        \n",
    "        Arguments:\n",
    "        verbose -- controls Gurobi output.\n",
    "        \"\"\"\n",
    "        m = grb.Model(\"facility\")\n",
    "\n",
    "        y = []\n",
    "        for i_f in range(self.F):\n",
    "            y.append(m.addVar(vtype=GRB.BINARY))\n",
    "\n",
    "        x = []    \n",
    "        for i_f in range(self.F):\n",
    "            x.append([])\n",
    "            for i_c in range(self.C):\n",
    "                x[i_f].append(m.addVar(vtype=GRB.BINARY))\n",
    "\n",
    "        # the objective is to minimize the total fixed and variable costs\n",
    "        m.modelSense = GRB.MINIMIZE\n",
    "\n",
    "        # update model to integrate new variables\n",
    "        m.update()\n",
    "\n",
    "        # set optimization objective - minimize sum of fixed costs\n",
    "        obj_summands = []\n",
    "        for i_f in range(self.F):\n",
    "            obj_summands.append(self.opening_costs[i_f]*y[i_f])\n",
    "\n",
    "        for i_f in range(self.F):\n",
    "            for i_c in range(self.C):\n",
    "                obj_summands.append(self.assignment_costs[i_f][i_c]*x[i_f][i_c])\n",
    "\n",
    "        m.setObjective(grb.quicksum(obj_summands))\n",
    "\n",
    "        # set constraints\n",
    "        for i_c in range(self.C):\n",
    "            client_constr_summands = [x[i_f][i_c] for i_f in range(self.F)]\n",
    "            m.addConstr(sum(client_constr_summands), GRB.EQUAL, 1.0)\n",
    "\n",
    "        for i_f in range(self.F):        \n",
    "            facility_constr_summands = [x[i_f][i_c] for i_c in range(self.C)]\n",
    "            m.addConstr(sum(facility_constr_summands), \\\n",
    "                        GRB.LESS_EQUAL, self.capacities[i_f]*y[i_f])       \n",
    "\n",
    "        for i_f in range(self.F):        \n",
    "            for i_c in range(self.C):\n",
    "                m.addConstr(x[i_f][i_c], GRB.LESS_EQUAL, y[i_f])\n",
    "\n",
    "        # optimize\n",
    "        m.setParam(GRB.Param.OutputFlag, verbose)\n",
    "        m.optimize()\n",
    "        \n",
    "        facilities_opened = [y[i_f].X for i_f in range(self.F)]\n",
    "        clients_assignment = \\\n",
    "            [i_f for i_c in range(self.C) for i_f in range(self.F) if x[i_f][i_c].X != 0]\n",
    "        \n",
    "        return facilities_opened, clients_assignment"
   ]
  },
  {
   "cell_type": "markdown",
   "metadata": {},
   "source": [
    "The following example shows `Problem` class usage."
   ]
  },
  {
   "cell_type": "code",
   "execution_count": null,
   "metadata": {
    "collapsed": true,
    "scrolled": false
   },
   "outputs": [],
   "source": [
    "# to make results reproducible, be sure to put this line before creating a Problem()\n",
    "np.random.seed(666)\n",
    "\n",
    "problem = Problem()\n",
    "problem.assign_random_capacities()\n",
    "problem.assign_random_opening_costs()\n",
    "\n",
    "# completely random solution\n",
    "open_idx = list(range(problem.F))\n",
    "random.shuffle(open_idx)\n",
    "open_idx = open_idx[:problem.F * 4 // 5] # open 80% of facilities\n",
    "\n",
    "y = np.zeros(problem.F)\n",
    "y[open_idx] = 1\n",
    "\n",
    "from itertools import cycle\n",
    "assignments = np.empty(problem.C)\n",
    "for cli, fac in zip(range(problem.C), cycle(open_idx)):\n",
    "    assignments[cli] = fac\n",
    "\n",
    "ax = plt.figure().gca()\n",
    "problem.plot(y, assignments, ax)\n",
    "ax.set_title('Totally random solution, objective = %.4f' % problem.objective(y, assignments))\n",
    "\n",
    "ax = plt.figure().gca()\n",
    "y, assignments = problem.solve_gurobi()\n",
    "problem.plot(y, assignments, ax)\n",
    "ax.set_title('Most likely optimal solution, objective = %.4f' % problem.objective(y, assignments))"
   ]
  },
  {
   "cell_type": "markdown",
   "metadata": {},
   "source": [
    "## Greedy algorithm\n",
    "\n",
    "*(Describe your greedy algorithm here)*"
   ]
  },
  {
   "cell_type": "code",
   "execution_count": 10,
   "metadata": {},
   "outputs": [],
   "source": [
    "def solve_greedy(self):\n",
    "    y = np.zeros(self.F, dtype=np.int32)\n",
    "    assignments = np.empty(self.C, dtype=np.int32)\n",
    "    assigned = np.zeros(self.C, dtype=np.bool)\n",
    "    n_assigned = 0\n",
    "    client_costs = [(self.assigment_costs[c][f],f,c) for f in range(self.F) for c in range(self.C)]\n",
    "    sort(client_costs,key=lambda x:x[0])\n",
    "    i = 0\n",
    "    while n_assigned < self.C:\n",
    "        cost, f, c = client_costs[i]\n",
    "        if not assigned[c] and y[f] < self.capacities[f]:\n",
    "            n_assigned += 1\n",
    "            assigned[f] = True\n",
    "            assigments[c] = f\n",
    "            y[f] += 1\n",
    "        i += 1\n",
    "    # your code here\n",
    "        \n",
    "    return y, assignments\n",
    "\n",
    "Problem.solve_greedy = solve_greedy"
   ]
  },
  {
   "cell_type": "markdown",
   "metadata": {},
   "source": [
    "*(Demonstrate your greedy algorithm here)*"
   ]
  },
  {
   "cell_type": "markdown",
   "metadata": {},
   "source": [
    "## Local optimization algorithm\n",
    "\n",
    "*(Describe your local optimization algorithm here. Make sure that its moves cover the whole solution domain)*"
   ]
  },
  {
   "cell_type": "code",
   "execution_count": null,
   "metadata": {
    "collapsed": true
   },
   "outputs": [],
   "source": [
    "def solve_local_optimization(self):\n",
    "    pass # your code here\n",
    "\n",
    "Problem.solve_local_optimization = solve_local_optimization"
   ]
  },
  {
   "cell_type": "markdown",
   "metadata": {},
   "source": [
    "*(Demonstrate your local optimization algorithm here)*"
   ]
  },
  {
   "cell_type": "markdown",
   "metadata": {},
   "source": [
    "## Simulated annealing"
   ]
  },
  {
   "cell_type": "code",
   "execution_count": null,
   "metadata": {
    "collapsed": true
   },
   "outputs": [],
   "source": [
    "def solve_simulated_annealing(self, max_iter=10000, T_0=100, schedule='exp'):\n",
    "    pass # your code here. You can add function parameters as needed.\n",
    "    # You are expected to implement several temperature schedules\n",
    "\n",
    "Problem.solve_simulated_annealing = solve_simulated_annealing"
   ]
  },
  {
   "cell_type": "markdown",
   "metadata": {},
   "source": [
    "*(Demonstrate your simulated annealing algorithm here. Try different sets of parameters and determine the best one)*"
   ]
  },
  {
   "cell_type": "markdown",
   "metadata": {},
   "source": [
    "## Results comparison"
   ]
  },
  {
   "cell_type": "markdown",
   "metadata": {},
   "source": [
    "*(Compare 4 methods (with their best parameters) on different problems, capacities etc. Don't forget corner cases like $C \\gg F$, $C = F$, $\\dots$)*"
   ]
  },
  {
   "cell_type": "code",
   "execution_count": null,
   "metadata": {
    "collapsed": true
   },
   "outputs": [],
   "source": [
    "# Suggested code for comparison (modify as needed)\n",
    "\n",
    "def compare_results(problem):\n",
    "    fig = plt.figure()\n",
    "\n",
    "    ax_greedy = fig.add_subplot(221)\n",
    "    ax_local  = fig.add_subplot(222)\n",
    "    ax_anneal = fig.add_subplot(223)\n",
    "    ax_gurobi = fig.add_subplot(224)\n",
    "\n",
    "    greedy = problem.solve_greedy()\n",
    "    local  = problem.solve_local_opt()\n",
    "    gurobi = problem.solve_gurobi()\n",
    "    anneal = problem.solve_sim_annealing()\n",
    "\n",
    "    ax_greedy.set_title('Greedy:    %.3f' % problem.objective(*greedy))\n",
    "    ax_local .set_title('Local:     %.3f' % problem.objective(*local))\n",
    "    ax_anneal.set_title('Annealing: %.3f' % problem.objective(*anneal))\n",
    "    ax_gurobi.set_title('Gurobi:    %.3f' % problem.objective(*gurobi))\n",
    "\n",
    "    problem.plot(greedy[0], greedy[1], ax_greedy)\n",
    "    problem.plot(local [0], local [1], ax_local )\n",
    "    problem.plot(anneal[0], anneal[1], ax_anneal)\n",
    "    problem.plot(gurobi[0], gurobi[1], ax_gurobi)\n",
    "\n",
    "    for ax in ax_greedy, ax_local, ax_anneal, ax_gurobi:\n",
    "        ax.axes.get_xaxis().set_ticks([])\n",
    "        ax.axes.get_yaxis().set_ticks([])"
   ]
  },
  {
   "cell_type": "markdown",
   "metadata": {
    "collapsed": true
   },
   "source": [
    "# Problem 2\n",
    "**Optimal vehicle speed scheduling (6 points)** -- (based on an additional exercise A3.20 to Boyd and Vandenberghe). \n",
    "\n",
    "A vehicle (say, an airplane) travels along a fixed path of $n$ segments, between $n + 1$ waypoints labeled $0, \\dots , n$. Segment $i$ starts at waypoint $i-1$ and terminates at waypoint $i$. The vehicle starts at time $t = 0$ at waypoint $0$. It travels over each segment at a constant (nonnegative) speed; $s_i$ is the speed on segment $i$. We have lower and upper limits on the speeds: $s_{\\min} \\leq s \\leq s_{\\max}$. The vehicle does not stop at the waypoints; it simply proceeds to the next segment. The travel distance of segment $i$ is $d_i$ (which is positive), so the travel time over segment $i$ is $\\frac{d_i}{s_i}$. We let $\\tau_i$, $i = 1, \\dots, n$ denote the time at which the vehicle arrives at waypoint $i$. The vehicle is required to arrive at waypoint $i$, $i = 1, \\dots, n$, between times $\\tau_{\\min,i}$ and $\\tau_{\\max,i}$, which are given. The vehicle consumes fuel over segment $i$ at a rate that depends on its speed $\\Phi\\left(s_i\\right) = a s_i^2+b s_i+c$ kg/s.\n",
    "\n",
    "You are given the data $d$ (segment travel distances), $s_{\\min}$ and $s_{\\max}$ (speed bounds), $\\tau_{\\min}$ and $\\tau_{\\max}$ (waypoint arrival time bounds), and parameters $a$, $b$, and $c$ (all parameters are in *veh_speed_sched_data.m*). Use the dynamic programming approach to find the schedule that allows spending the minimal amount of fuel. Use matplotlib command *step* to plot speed vs time for the optimal schedule. You will need to discretize some continuous variables, make sure you do it densely enough.\n",
    "\n",
    "**NB**: later in the course we will get back to this problem and attack it with a different method.\n"
   ]
  },
  {
   "cell_type": "code",
   "execution_count": 3,
   "metadata": {
    "collapsed": true
   },
   "outputs": [],
   "source": [
    "import scipy.io as sio\n",
    "\n",
    "mat_contents = sio.loadmat('veh_sched_data.mat')\n",
    "\n",
    "a = mat_contents['a'][0,0]\n",
    "b = mat_contents['b'][0,0]\n",
    "c = mat_contents['c'][0,0]\n",
    "d = mat_contents['d'].squeeze()\n",
    "n = mat_contents['n'][0,0]\n",
    "smin = mat_contents['smin'].squeeze()\n",
    "smax = mat_contents['smax'].squeeze()\n",
    "tau_min = mat_contents['tau_min'].squeeze()\n",
    "tau_max = mat_contents['tau_max'].squeeze()"
   ]
  },
  {
   "cell_type": "markdown",
   "metadata": {
    "collapsed": true
   },
   "source": [
    "$$min_{i,s}{ \\sum_{i}{\\Phi(s_i)} }, \\Phi(s_i) = as_i^2 + bs_i + c$$\n",
    "$$\\tau_{min,i} < \\sum_{j=0}^{i}{\\frac{d_j}{s_j}} < \\tau_{max,i}, s_{min} < s_i < s_{max}$$ "
   ]
  },
  {
   "cell_type": "markdown",
   "metadata": {},
   "source": [
    "## Let's construct a dynamic programming model for the task"
   ]
  },
  {
   "cell_type": "markdown",
   "metadata": {},
   "source": [
    "$$ O(i,\\tau) = min_{s_i}{\\left[O(i-1,\\tau - \\frac{d_i}{s_i}) + \\Phi(s_i)\\right]}$$"
   ]
  },
  {
   "cell_type": "markdown",
   "metadata": {},
   "source": [
    "## Discretization here might be a little bit tricky. Let's discretize $\\tau$ in order to cover all possible times of arrival. $s_{i,j}$ will be dependent on $\\tau$ and we will just take care of $s_{min} < s_{i,j} < s_{max}$"
   ]
  },
  {
   "cell_type": "code",
   "execution_count": 4,
   "metadata": {
    "collapsed": true
   },
   "outputs": [],
   "source": [
    "import numpy as np"
   ]
  },
  {
   "cell_type": "code",
   "execution_count": 25,
   "metadata": {},
   "outputs": [
    {
     "name": "stdout",
     "output_type": "stream",
     "text": [
      "1 6 10\n"
     ]
    }
   ],
   "source": [
    "print(a,b,c)"
   ]
  },
  {
   "cell_type": "code",
   "execution_count": 27,
   "metadata": {
    "collapsed": true
   },
   "outputs": [],
   "source": [
    "def Φ(s):\n",
    "    return a*s**2 + b*s + c\n",
    "def Ψ(s,s1,s2):\n",
    "    return Φ(s) + (np.inf if s < s1 or s > s2 else 0)"
   ]
  },
  {
   "cell_type": "code",
   "execution_count": 34,
   "metadata": {
    "collapsed": true
   },
   "outputs": [],
   "source": [
    "m = 400\n",
    "O = np.zeros((n,m))"
   ]
  },
  {
   "cell_type": "code",
   "execution_count": 35,
   "metadata": {
    "collapsed": true
   },
   "outputs": [],
   "source": [
    "τ = np.linspace(tau_min[0],tau_max[0],m)\n",
    "for j in range(m):\n",
    "    O[0][j] = Ψ(d[0]/τ[j],smin[0],smax[0])\n",
    "    \n",
    "for i in range(1,n):\n",
    "    τ_p = np.linspace(tau_min[i-1],tau_max[i-1],m)\n",
    "    τ = np.linspace(tau_min[i],tau_max[i],m)\n",
    "    for j in range(m):\n",
    "        O[i][j] = min([O[i-1][k] + Ψ(d[0]/(τ[j]-τ_p[k]),smin[0],smax[0]) for k in range(m)])"
   ]
  },
  {
   "cell_type": "code",
   "execution_count": 36,
   "metadata": {},
   "outputs": [
    {
     "data": {
      "text/plain": [
       "1906.0888810869224"
      ]
     },
     "execution_count": 36,
     "metadata": {},
     "output_type": "execute_result"
    }
   ],
   "source": [
    "min(O[-1])"
   ]
  },
  {
   "cell_type": "code",
   "execution_count": 31,
   "metadata": {},
   "outputs": [
    {
     "data": {
      "text/plain": [
       "1906.1021623192535"
      ]
     },
     "execution_count": 31,
     "metadata": {},
     "output_type": "execute_result"
    }
   ],
   "source": [
    "min(O[-1])"
   ]
  }
 ],
 "metadata": {
  "kernelspec": {
   "display_name": "Python 3",
   "language": "python",
   "name": "python3"
  },
  "language_info": {
   "codemirror_mode": {
    "name": "ipython",
    "version": 3
   },
   "file_extension": ".py",
   "mimetype": "text/x-python",
   "name": "python",
   "nbconvert_exporter": "python",
   "pygments_lexer": "ipython3",
   "version": "3.6.3"
  }
 },
 "nbformat": 4,
 "nbformat_minor": 1
}
