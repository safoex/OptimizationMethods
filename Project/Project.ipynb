{
 "cells": [
  {
   "cell_type": "code",
   "execution_count": 1,
   "metadata": {
    "collapsed": true
   },
   "outputs": [],
   "source": [
    "import gurobipy as grb\n",
    "import numpy as np\n",
    "import itertools"
   ]
  },
  {
   "cell_type": "markdown",
   "metadata": {},
   "source": [
    "# Optimization of Eurobot robot strategy\n",
    "Evgenii Safronov\n",
    "\n",
    "Mikhail Kurenkov"
   ]
  },
  {
   "cell_type": "markdown",
   "metadata": {},
   "source": [
    "# Eurobot description"
   ]
  },
  {
   "cell_type": "code",
   "execution_count": null,
   "metadata": {
    "collapsed": true
   },
   "outputs": [],
   "source": []
  },
  {
   "cell_type": "markdown",
   "metadata": {},
   "source": [
    "# Dynamic programming"
   ]
  },
  {
   "cell_type": "markdown",
   "metadata": {},
   "source": [
    "The first approach to solve Eurobot problem is dynamic programming. To simplify initial task we assume that we pick all cubes from one heap and only then we move to another heap. After picking from a heap or after picking one cube we have some sequence of cubes that our manipulators hold. And idea of dynamic approach is that we can use these holding cubes as a state and for calculation of minimal time of picking these certain towers of cubes we can use Bellmen equation: \n",
    "$O(x_{i, j}) = \\min_{x_{i', j'}\\rightarrow x_{i, j}}(O(x_{i', j'}) + t_p (if\\; pick) + t_r(if\\;rotate) + t_m(if\\;move))$ where $x_{i, j}$ is holding cubes\n",
    "\n",
    "Algorithm for this method is\n",
    "\n",
    "1. For certain holding towers search all possible variants of picking one cube, considering that we can pick some cube only picking others, also we need construct towers using certain sequence of colors, towers less than 5 cubes.\n",
    "2. For found holding towers calculate time\n",
    "3. Save these found holding towers, if we have two of identical holding towers, choose that has minimal picking time\n",
    "4. Repeat algorithm for new holding towers until not all cubes collected"
   ]
  },
  {
   "cell_type": "code",
   "execution_count": 4,
   "metadata": {
    "collapsed": true
   },
   "outputs": [],
   "source": [
    "class CubePickingOptimizer:\n",
    "    def __init__(self):\n",
    "        self.Allowed_seq_1 = []\n",
    "        self.Allowed_seq_2 = []\n",
    "        self.Allowed_seq_3 = []\n",
    "\n",
    "    def set_plan(self, plan):\n",
    "        self.allowed_cubes_seq(plan)\n",
    "\n",
    "    def allowed_cubes_seq(self, plan):\n",
    "        all_cubes = list(range(5))\n",
    "        oth = list(set(all_cubes) - set(plan))\n",
    "        sds = [plan[0], plan[2]]\n",
    "        cnt = plan[1]\n",
    "\n",
    "        self.Allowed_seq_1 = [\n",
    "            (oth[0],),\n",
    "            (oth[1],),\n",
    "            (sds[0],),\n",
    "            (sds[1],)\n",
    "        ]\n",
    "\n",
    "        self.Allowed_seq_2 = [\n",
    "            (oth[0], sds[0]),\n",
    "            (oth[1], sds[0]),\n",
    "            (oth[0], sds[1]),\n",
    "            (oth[1], sds[1]),\n",
    "            (oth[0], oth[1]),\n",
    "            (oth[1], oth[0]),\n",
    "            (sds[1], cnt),\n",
    "            (sds[0], cnt)\n",
    "        ]\n",
    "\n",
    "        self.Allowed_seq_3 = [\n",
    "            (oth[0], sds[0], cnt),\n",
    "            (oth[1], sds[0], cnt),\n",
    "            (oth[0], sds[1], cnt),\n",
    "            (oth[1], sds[1], cnt),\n",
    "            (oth[0], oth[1], sds[0]),\n",
    "            (oth[0], oth[1], sds[1]),\n",
    "            (oth[1], oth[0], sds[0]),\n",
    "            (oth[1], oth[0], sds[1]),\n",
    "            (cnt, sds[0], oth[0]),\n",
    "            (cnt, sds[0], oth[1]),\n",
    "            (cnt, sds[1], oth[0]),\n",
    "            (cnt, sds[1], oth[1]),\n",
    "            (sds[0], oth[0], oth[1]),\n",
    "            (sds[1], oth[0], oth[1]),\n",
    "            (sds[0], oth[1], oth[0]),\n",
    "            (sds[1], oth[1], oth[0]),\n",
    "            (sds[1], cnt, sds[0]),\n",
    "            (sds[0], cnt, sds[1])\n",
    "        ]\n",
    "\n",
    "    def find_optimal_sequence(self, key):\n",
    "        # dynamic searching of optimal piking sequence\n",
    "        seqs = [{((), (), ()): []}, {}, {}, {}]\n",
    "        for i in range(3):\n",
    "            for last_picked_cubes, last_seq in seqs[i].items():\n",
    "                for new_picked_cubes, new_seq in self.pick_one_heap(last_picked_cubes, last_seq):\n",
    "                    if self.check_safety(new_picked_cubes, i + 1):\n",
    "                        old_value = seqs[i + 1].get(new_picked_cubes)\n",
    "                        if old_value is None:\n",
    "                            seqs[i + 1][new_picked_cubes] = new_seq\n",
    "                        else:\n",
    "                            seqs[i + 1][new_picked_cubes] = min(new_seq, seqs[i + 1][new_picked_cubes], key=key)\n",
    "        return min(seqs[3].values(), key=key)\n",
    "\n",
    "    def pick_one_heap(self, picked_cubes, seq):\n",
    "        remain_cubes = [0, 1, 2, 3]\n",
    "        yield from self.pick_one_cube(picked_cubes, seq, [3, 4, 1], remain_cubes)\n",
    "        yield from self.pick_one_cube(picked_cubes, seq, [2, 1, 4, 1], remain_cubes)\n",
    "        yield from self.pick_one_cube(picked_cubes, seq, [2, 2, 4], remain_cubes)\n",
    "        yield from self.pick_one_cube(picked_cubes, seq, [1, 2, 4, 1], remain_cubes)\n",
    "        yield from self.pick_one_cube(picked_cubes, seq, [1, 1, 1, 4, 1], remain_cubes)\n",
    "\n",
    "    def check_safety(self, towers_cubes, n):\n",
    "        n_tr = 0\n",
    "        for tower in towers_cubes:\n",
    "            if len(tower) > 3 and tower[-3:] in self.Allowed_seq_3[8:]:\n",
    "                n_tr += 1\n",
    "        return n_tr >= n\n",
    "\n",
    "    def check_tower(self, tower_cubes):\n",
    "        n = len(tower_cubes)\n",
    "        if n == 1:\n",
    "            return tower_cubes in self.Allowed_seq_1\n",
    "        elif n == 2:\n",
    "            return tower_cubes in self.Allowed_seq_2\n",
    "        elif n < 6:\n",
    "            return tower_cubes[-3:] in self.Allowed_seq_3\n",
    "        else:\n",
    "            return False\n",
    "\n",
    "    @staticmethod\n",
    "    def pick(remain_cubes, n_cubes):\n",
    "        if n_cubes == 4:\n",
    "            for i in range(3):\n",
    "                picked_cubes = [[], [], []]\n",
    "                picked_cubes[i] = [4]\n",
    "                yield remain_cubes, picked_cubes, [i]\n",
    "        elif n_cubes == 1:\n",
    "            for i in range(len(remain_cubes)):\n",
    "                for j in range(3):\n",
    "                    picked_cubes = [[], [], []]\n",
    "                    picked_cubes[j] = [remain_cubes[i]]\n",
    "                    yield remain_cubes[:i] + remain_cubes[i + 1:], picked_cubes, [j]\n",
    "        elif n_cubes == 2:\n",
    "            for i in range(4):\n",
    "                picked = [i, (i + 1) % 4]\n",
    "                if all([(x in remain_cubes) for x in picked]):\n",
    "                    yield list(set(remain_cubes) - set(picked)), [[picked[0]], [picked[1]], []], [0, 1]\n",
    "                    yield list(set(remain_cubes) - set(picked)), [[], [picked[0]], [picked[1]]], [1, 2]\n",
    "            for i in range(4):\n",
    "                picked = [i, (i + 2) % 4]\n",
    "                if all([(x in remain_cubes) for x in picked]):\n",
    "                    yield list(set(remain_cubes) - set(picked)), [[picked[0]], [], [picked[1]]], [0, 2]\n",
    "        elif n_cubes == 3:\n",
    "            yield [3], [[0], [1], [2]], [0, 1, 2]\n",
    "            yield [0], [[1], [2], [3]], [0, 1, 2]\n",
    "            yield [1], [[2], [3], [0]], [0, 1, 2]\n",
    "            yield [2], [[3], [0], [1]], [0, 1, 2]\n",
    "\n",
    "    def pick_one_cube(self, picked_cubes, seq, strat, remain_cubes):\n",
    "        if strat:\n",
    "            for new_remain_cubes, new_picked_cubes, towers in self.pick(remain_cubes, strat[0]):\n",
    "                new_towers_cubes = tuple([picked_cubes[i] + tuple(new_picked_cubes[i]) for i in range(3)])\n",
    "                if all([self.check_tower(new_towers_cubes[x]) for x in towers]):\n",
    "                    yield from self.pick_one_cube(new_towers_cubes, seq + [new_picked_cubes], strat[1:],\n",
    "                                                  new_remain_cubes)\n",
    "        else:\n",
    "            yield picked_cubes, seq\n",
    "\n",
    "    @staticmethod\n",
    "    def picking_places_and_states(seq):\n",
    "        places = []\n",
    "        states = []\n",
    "        for i, pick in enumerate(seq):\n",
    "            n = sum(map(lambda x: len(x), pick))\n",
    "            place = 0\n",
    "            state = 0\n",
    "            for j, cube in enumerate(pick):\n",
    "                if cube:\n",
    "                    if cube[0] == 4:\n",
    "                        state = 1\n",
    "                        place = places[-1]\n",
    "                    elif len(states) != 0 and states[-1] == 1 and n == 1:\n",
    "                        place = places[-1] = (cube[0] - j - 1) % 4\n",
    "                        state = 2\n",
    "                    else:\n",
    "                        place = (cube[0] - j + 1) % 4\n",
    "                        state = 0\n",
    "                    break\n",
    "            places.append(place)\n",
    "            states.append(state)\n",
    "        return places, states\n",
    "\n",
    "    @staticmethod\n",
    "    def dif_point(x1, x2, n):\n",
    "        return min((x1 - x2) % n, (x1 - x2) % n)\n",
    "\n",
    "    def rotation_time(self, places, states, start_points=None):\n",
    "        if start_points is not None:\n",
    "            time = self.dif_point(start_points[0], places[0], 4)\n",
    "            n_start = 1\n",
    "        else:\n",
    "            time = 0\n",
    "            n_start = 0\n",
    "        for i in range(len(places)):\n",
    "            if i != 0 and not (states[i] == 0 and states[i - 1] != 0):\n",
    "                time += min((places[i] - places[i - 1]) % 4, (places[i - 1] - places[i]) % 4)\n",
    "            elif i != 0 and states[i] == 0 and states[i - 1] != 0 and start_points is not None:\n",
    "                time += self.dif_point(start_points[n_start], places[i], 4)\n",
    "                n_start += 1\n",
    "        return time\n",
    "\n",
    "    @staticmethod\n",
    "    def move_time(places, states):\n",
    "        time = 0\n",
    "        for i in range(len(places)):\n",
    "            if i != 0 and (states[i] == 1 and states[i - 1] == 0 or states[i] == 2 and states[i - 1] == 1):\n",
    "                time += 1\n",
    "        return time\n",
    "\n",
    "    def get_fun_time(self, k_r=1, k_m=1, k_p=1, start_points=None):\n",
    "        def time(seq):\n",
    "            places, states = self.picking_places_and_states(seq)\n",
    "            t_r = self.rotation_time(places, states, start_points)\n",
    "            t_m = self.move_time(places, states)\n",
    "            t_p = len(seq)\n",
    "            return t_r * k_r + t_m * k_m + t_p * k_p\n",
    "        return time\n"
   ]
  },
  {
   "cell_type": "markdown",
   "metadata": {},
   "source": [
    "## Result"
   ]
  },
  {
   "cell_type": "markdown",
   "metadata": {},
   "source": [
    "If we have required plan [2, 4, 3] and $t_p  = 2$, $t_r = 1$, $t_m = 2$ dynamic program give next result:"
   ]
  },
  {
   "cell_type": "code",
   "execution_count": 7,
   "metadata": {},
   "outputs": [
    {
     "name": "stdout",
     "output_type": "stream",
     "text": [
      "[[0], [1], []]\n",
      "[[3], [], []]\n",
      "[[4], [], []]\n",
      "[[2], [], []]\n",
      "[[], [3], [0]]\n",
      "[[], [], [1]]\n",
      "[[], [4], []]\n",
      "[[], [2], []]\n",
      "[[0], [1], [2]]\n",
      "[[], [], [4]]\n",
      "[[], [], [3]]\n",
      "38\n"
     ]
    }
   ],
   "source": [
    "optimizer = CubePickingOptimizer()\n",
    "optimizer.set_plan([2, 4, 3])\n",
    "time = optimizer.get_fun_time(1, 2, 2)\n",
    "seq = optimizer.find_optimal_sequence(time)\n",
    "for s in seq:\n",
    "    print(s)\n",
    "print(time(seq))"
   ]
  },
  {
   "cell_type": "markdown",
   "metadata": {},
   "source": [
    "The first column is the numbers of colors of cubes that are picked by the first manipulator on each step, considering that several manipulators can pick cubes simultaneously, the second column - second manipulator and the third column - third manipulator. Overall time for this task is 38."
   ]
  },
  {
   "cell_type": "code",
   "execution_count": 10,
   "metadata": {},
   "outputs": [
    {
     "name": "stdout",
     "output_type": "stream",
     "text": [
      "0 0 0\n",
      "1 1 1\n",
      "2 0 3\n",
      "3 0 4\n",
      "4 0 2\n",
      "5 1 3\n",
      "6 2 0\n",
      "7 2 1\n",
      "8 1 4\n",
      "9 1 2\n",
      "10 0 0\n",
      "11 1 1\n",
      "12 2 2\n",
      "13 2 4\n",
      "14 2 3\n"
     ]
    }
   ],
   "source": [
    "n = 0\n",
    "for i in range(len(seq)):\n",
    "    for j in range(3):\n",
    "        if seq[i][j]:\n",
    "            print(n, j, seq[i][j][0])\n",
    "            n += 1"
   ]
  },
  {
   "cell_type": "markdown",
   "metadata": {},
   "source": [
    "It is another form of result. The first column is step, the second is number of manipulator and the third is picking colors. In this case the assume that on each step we pick only one cube, but time between piking cubes in same position is zero.  "
   ]
  },
  {
   "cell_type": "markdown",
   "metadata": {},
   "source": [
    "# Integer quadratic programming"
   ]
  },
  {
   "cell_type": "code",
   "execution_count": 289,
   "metadata": {
    "collapsed": true
   },
   "outputs": [],
   "source": [
    "S, I, J, K, L, M = 15, 3, 5, 6, 5, 4\n",
    "plan = [2, 4, 3]\n",
    "def iterer(*args):\n",
    "    return itertools.product(*[range(x_) for x_ in args])"
   ]
  },
  {
   "cell_type": "code",
   "execution_count": 3,
   "metadata": {
    "collapsed": true
   },
   "outputs": [],
   "source": [
    "model = grb.Model(\"eurobot\")"
   ]
  },
  {
   "cell_type": "code",
   "execution_count": 4,
   "metadata": {
    "collapsed": true
   },
   "outputs": [],
   "source": [
    "x = model.addVars(range(S), range(I), range(J), range(K), range(M), name = 'x', vtype=grb.GRB.BINARY)\n",
    "y = model.addVars(range(S), range(I), range(J), range(L), name = 'y', vtype=grb.GRB.BINARY)"
   ]
  },
  {
   "cell_type": "code",
   "execution_count": 308,
   "metadata": {
    "collapsed": true
   },
   "outputs": [],
   "source": [
    "model.remove(model.getConstrs())"
   ]
  },
  {
   "cell_type": "markdown",
   "metadata": {},
   "source": [
    "## Unique action per step"
   ]
  },
  {
   "cell_type": "code",
   "execution_count": 309,
   "metadata": {
    "collapsed": true
   },
   "outputs": [],
   "source": [
    "model.addConstrs((x.sum(s, '*', '*', '*', '*') == 1 for s in iterer(S)));\n",
    "model.addConstrs((y.sum(s, i, j, '*') == x.sum(s, i, j, '*', '*') for s, i, j in iterer(S, I, J)));"
   ]
  },
  {
   "cell_type": "markdown",
   "metadata": {},
   "source": [
    "## Unique cubes and places constraints"
   ]
  },
  {
   "cell_type": "code",
   "execution_count": 310,
   "metadata": {
    "collapsed": true
   },
   "outputs": [],
   "source": [
    "model.addConstrs((y.sum('*', i, '*', l) == 1 for i, l in iterer(I, L)));\n",
    "model.addConstrs((x.sum('*', '*',j, k, '*') <= 1 for j, k in iterer(J, K)));"
   ]
  },
  {
   "cell_type": "markdown",
   "metadata": {},
   "source": [
    "## Tower height"
   ]
  },
  {
   "cell_type": "code",
   "execution_count": 311,
   "metadata": {
    "collapsed": true
   },
   "outputs": [],
   "source": [
    "model.addConstrs((y.sum('*', i, '*', '*') == 5 for i in iterer(I)));"
   ]
  },
  {
   "cell_type": "markdown",
   "metadata": {},
   "source": [
    "## Bonus plan requirements"
   ]
  },
  {
   "cell_type": "code",
   "execution_count": 312,
   "metadata": {},
   "outputs": [
    {
     "data": {
      "text/plain": [
       "{0: <gurobi.Constr *Awaiting Model Update*>,\n",
       " 1: <gurobi.Constr *Awaiting Model Update*>,\n",
       " 2: <gurobi.Constr *Awaiting Model Update*>}"
      ]
     },
     "execution_count": 312,
     "metadata": {},
     "output_type": "execute_result"
    }
   ],
   "source": [
    "pi = model.addVars(range(I), range(6), name = 'pi', vtype=grb.GRB.BINARY)\n",
    "\n",
    "plan_locations = [[0, 1, 2], [1, 2, 3], [2, 3, 4], [4, 3, 2], [3, 2, 1], [2, 1, 0]]\n",
    "for i, t in iterer(I, 6):\n",
    "    for j in range(3):\n",
    "        model.addConstr(pi[i, t] <= y.sum('*', i, plan[j],  plan_locations[t][j]))\n",
    "\n",
    "xi = model.addVars(range(I), name='xi', vtype=grb.GRB.BINARY)\n",
    "model.addConstrs((xi[i] <= pi.sum(i, '*') for i in range(I)))"
   ]
  },
  {
   "cell_type": "markdown",
   "metadata": {},
   "source": [
    "## l-Ordering"
   ]
  },
  {
   "cell_type": "code",
   "execution_count": 313,
   "metadata": {
    "collapsed": true
   },
   "outputs": [],
   "source": [
    "for s, l1, i in iterer(S,L,I):\n",
    "    for l2 in range(l1+1,L):\n",
    "        model.addConstr(grb.quicksum((y.sum(s_,i,'*',l1) for s_ in iterer(s) )) >= y.sum(s,i,'*',l2))"
   ]
  },
  {
   "cell_type": "markdown",
   "metadata": {},
   "source": [
    "## Ban collisions with other cubes"
   ]
  },
  {
   "cell_type": "code",
   "execution_count": 314,
   "metadata": {
    "run_control": {
     "marked": false
    }
   },
   "outputs": [
    {
     "data": {
      "text/plain": [
       "[4]"
      ]
     },
     "execution_count": 314,
     "metadata": {},
     "output_type": "execute_result"
    }
   ],
   "source": [
    "j_rel = np.zeros((J+1,J+1,2))\n",
    "j_map = np.array([\n",
    "                 [-1,-1,-1,-1,-1],\n",
    "                 [-1,-1, 2,-1,-1],\n",
    "                 [-1, 3, 4, 1,-1],\n",
    "                 [-1,-1, 0,-1,-1],\n",
    "                 [-1,-1,-1,-1,-1]\n",
    "                 ])\n",
    "\n",
    "j_on_map = np.zeros((J+1,2))\n",
    "\n",
    "\n",
    "for i1 in range(j_map.shape[0]):\n",
    "    for j1 in range(j_map.shape[1]):\n",
    "        if j_map[i1,j1] >= 0:\n",
    "            j_on_map[j_map[i1,j1]] = np.array([j1,i1])\n",
    "\n",
    "for i1 in range(j_map.shape[0]):\n",
    "    for j1 in range(j_map.shape[1]):\n",
    "        for i2 in range(j_map.shape[0]):\n",
    "            for j2 in range(j_map.shape[1]):\n",
    "                if j_map[i1,j1] >= 0 and j_map[i2,j2] >= 0:\n",
    "                    if i1 != i2 or j1 != j2:\n",
    "                        j_rel[j_map[i1,j1],j_map[i2,j2]] = np.array([j2-j1,i2-i1])\n",
    "                        \n",
    "# we need just to have free space on 3 'kletka' around the manipulator\n",
    "def m_manipulator(i,m):\n",
    "    return (m+i-1)%4\n",
    "\n",
    "only_non_free_places = [np.array([0,-1]),np.array([-1,0]),np.array([0,1]),np.array([1,0])]\n",
    "\n",
    "def only_non_free_dif(i,m):\n",
    "    direction =  m_manipulator(i,m)\n",
    "    return only_non_free_places[direction]\n",
    "\n",
    "def our_position(j1):\n",
    "    return j_on_map[j1]\n",
    "\n",
    "def list_of_possible_breaks(j1,i,m):\n",
    "    toreturn = []\n",
    "    dxy = [np.array([0,1]),np.array([1,0]),np.array([-1,0]),np.array([0,-1])]\n",
    "    for dd in dxy:\n",
    "        if (dd != only_non_free_dif(i,m)).any():\n",
    "            yx = j_on_map[j1] + dd\n",
    "            if j_map[int(yx[1]),int(yx[0])] >= 0:\n",
    "                toreturn.append(j_map[int(yx[1]),int(yx[0])])\n",
    "    return toreturn\n",
    "\n",
    "list_of_possible_breaks(2, 2, 3)"
   ]
  },
  {
   "cell_type": "code",
   "execution_count": 315,
   "metadata": {
    "collapsed": true
   },
   "outputs": [],
   "source": [
    "def debug_possible_breaks(j1, i, m):\n",
    "    return [0] if j1 == 4 else []"
   ]
  },
  {
   "cell_type": "code",
   "execution_count": 316,
   "metadata": {
    "collapsed": true
   },
   "outputs": [],
   "source": [
    "for s, i, j, k, m in iterer(S, I, J, K, M):\n",
    "    cubes_to_peak = list_of_possible_breaks(j, i, m)\n",
    "#     print(\"%d %d %d\"%(i,j,m) + ' ' + str(cubes_to_peak))\n",
    "#         expr = grb.LinExpr()\n",
    "#         for s_prev, cube in itertools.product(range(s), cubes_to_peak):\n",
    "#             expr += x.sum(s_prev, '*', cube, k, '*', '*')\n",
    "    for cube in cubes_to_peak:\n",
    "        model.addConstr(grb.quicksum((x.sum(s_prev, '*', cube, k, '*') for s_prev in range(s))) >= x.sum(s, i, j, k, m))"
   ]
  },
  {
   "cell_type": "markdown",
   "metadata": {},
   "source": [
    "## Time"
   ]
  },
  {
   "cell_type": "code",
   "execution_count": 317,
   "metadata": {},
   "outputs": [
    {
     "data": {
      "text/plain": [
       "True"
      ]
     },
     "execution_count": 317,
     "metadata": {},
     "output_type": "execute_result"
    }
   ],
   "source": [
    "v = 20\n",
    "t_p = 2 # time of picking\n",
    "t_r = 1 # time of rotation on pi / 2\n",
    "t_m = 2 # time of moving on 6 cm\n",
    "\n",
    "picking_points = np.zeros((5, 4, 3, 3))\n",
    "cubes_coords = np.array([[0, -1], [1, 0], [0, 1], [-1, 0], [0, 0]])\n",
    "l1 = np.array([[[1, 0], [0, 1], [-1, 0]],\n",
    "               [[0, 1], [-1, 0], [0, -1]],\n",
    "               [[-1, 0], [0, -1], [1, 0]],\n",
    "               [[0, -1], [1, 0], [0, 1]]])\n",
    "\n",
    "picking_points[..., :2] = cubes_coords[:, np.newaxis, np.newaxis, :] + l1[np.newaxis, :, :, :]\n",
    "picking_points[..., 2] = np.array(range(4))[np.newaxis, :, np.newaxis]\n",
    "\n",
    "points_2 = np.reshape(picking_points, (60, 3))\n",
    "small_time_2 = t_m * np.abs(points_2[:, np.newaxis, 0] - points_2[np.newaxis, :, 0]) + \\\n",
    "             t_m * np.abs(points_2[:, np.newaxis, 1] - points_2[np.newaxis, :, 1]) + \\\n",
    "             t_r * ((points_2[:, np.newaxis, 2] - points_2[np.newaxis, :, 1]) % 4)\n",
    "        \n",
    "small_time = np.where(small_time_2 == 0, 0, small_time_2 + t_p)\n",
    "heap_points = np.array([[54, 85, 0], [119, 30, 0], [150, 110, 0], [150, 190, 0], [119, 270, 0], [54, 215, 0]])\n",
    "all_picking_points = np.reshape(points_2[np.newaxis, :, :2] * 6 + heap_points[:, np.newaxis, :2], (360, 2))\n",
    "big_time = np.sum((heap_points[:, np.newaxis] - heap_points[np.newaxis, :]) ** 2, axis=2) ** 0.5 / v \n",
    "times = np.sum((all_picking_points[:, np.newaxis] - all_picking_points[np.newaxis, :]) ** 2, axis=2) ** 0.5 / v + t_p\n",
    "for i in range(6):\n",
    "    times[i * 60: (i + 1) * 60, i * 60: (i + 1) * 60] = small_time\n",
    "small_time = small_time.reshape(5, 4, 3, 5, 4, 3)\n",
    "times = times.reshape(6, 5, 4, 3, 6, 5, 4, 3)\n",
    "np.all(times >= 0)"
   ]
  },
  {
   "cell_type": "code",
   "execution_count": 318,
   "metadata": {},
   "outputs": [
    {
     "name": "stdout",
     "output_type": "stream",
     "text": [
      "CPU times: user 2.22 s, sys: 4 ms, total: 2.23 s\n",
      "Wall time: 2.25 s\n"
     ]
    }
   ],
   "source": [
    "%%time\n",
    "f = model.addVars(range(S), range(I), range(J), range(M), name = 'f', vtype=grb.GRB.BINARY)\n",
    "model.addConstrs((x.sum(s, i, j, '*', m) == f[s, i, j, m] for s, i, j, m in iterer(S, I, J, M)))\n",
    "# gen = (f[s, i_1, j_1, m_1] * f[s + 1, i_2, j_2, m_2] * \\\n",
    "#        times[k_1, j_1, m_1, i_1, k_2, j_2, m_2, i_2] for s, i_1, j_1, k_1, m_1, i_2, j_2, k_2, m_2, l_1, l_2 \\\n",
    "#        in iterer(S - 1, I, J, K, M, I, J, K, M, L, L))\n",
    "gen_1 = (f[s, i_1, j_1, m_1] * f[s + 1, i_2, j_2, m_2] * \\\n",
    "       small_time[j_1, m_1, i_1, j_2, m_2, i_2] for s, i_1, j_1, m_1, i_2, j_2, m_2 \\\n",
    "       in iterer(S - 1, I, J, M, I, J, M))\n",
    "km = model.addVars(range(S), range(K), name = 'km', vtype=grb.GRB.BINARY)\n",
    "model.addConstrs((x.sum(s, '*', '*', k , '*') == km[s, k] for s, k in iterer(S, K)))\n",
    "gen_2 = (km[s, k_1] * km[s+1, k_2] * \\\n",
    "       big_time[k_1, k_2] for s, k_1, k_2 \\\n",
    "       in iterer(S - 1, K, K)) \n",
    "# model.addConstr(grb.quicksum(gen) <= T, 'time')\n",
    "left_part_time_1 = grb.quicksum(gen_1)\n",
    "left_part_time_2 = grb.quicksum(gen_2)\n",
    "left_part_time = left_part_time_1 + left_part_time_2"
   ]
  },
  {
   "cell_type": "markdown",
   "metadata": {},
   "source": [
    "## Picking from one heap"
   ]
  },
  {
   "cell_type": "code",
   "execution_count": null,
   "metadata": {
    "collapsed": true
   },
   "outputs": [],
   "source": [
    "for k in range(3):\n",
    "    for i in range(5):\n",
    "        for k_other in range(K):\n",
    "            if k_other != k:\n",
    "                model.addConstr(x.sum(k*5 + i,'*','*',k_other,'*') == 0)"
   ]
  },
  {
   "cell_type": "markdown",
   "metadata": {},
   "source": [
    "## Objective (min $t$ task)"
   ]
  },
  {
   "cell_type": "code",
   "execution_count": 320,
   "metadata": {},
   "outputs": [
    {
     "data": {
      "text/plain": [
       "<gurobi.Constr *Awaiting Model Update*>"
      ]
     },
     "execution_count": 320,
     "metadata": {},
     "output_type": "execute_result"
    }
   ],
   "source": [
    "model.addConstr(xi.sum('*') == 3)"
   ]
  },
  {
   "cell_type": "code",
   "execution_count": 321,
   "metadata": {
    "collapsed": true
   },
   "outputs": [],
   "source": [
    "model.setObjective(left_part_time, grb.GRB.MINIMIZE)"
   ]
  },
  {
   "cell_type": "markdown",
   "metadata": {},
   "source": [
    "## Objective (max $\\xi$ task)"
   ]
  },
  {
   "cell_type": "code",
   "execution_count": 302,
   "metadata": {
    "collapsed": true
   },
   "outputs": [],
   "source": [
    "T = 150\n",
    "model.addConstr(left_part_time <= T, 'time');"
   ]
  },
  {
   "cell_type": "code",
   "execution_count": 303,
   "metadata": {
    "collapsed": true
   },
   "outputs": [],
   "source": [
    "obj = xi.sum('*')\n",
    "model.setObjective(obj, grb.GRB.MAXIMIZE)"
   ]
  },
  {
   "cell_type": "markdown",
   "metadata": {},
   "source": [
    "## Optimization "
   ]
  },
  {
   "cell_type": "code",
   "execution_count": 331,
   "metadata": {},
   "outputs": [
    {
     "name": "stdout",
     "output_type": "stream",
     "text": [
      "Parameter TimeLimit unchanged\n",
      "   Value: 300.0  Min: 0.0  Max: 1e+100  Default: 1e+100\n",
      "Optimize a model with 8341 rows, 21774 columns and 605553 nonzeros\n",
      "Model has 49518 quadratic objective terms\n",
      "Model has 13 quadratic constraints\n",
      "Variable types: 0 continuous, 21774 integer (21774 binary)\n",
      "Coefficient statistics:\n",
      "  Matrix range     [1e+00, 1e+00]\n",
      "  QMatrix range    [2e+00, 3e+01]\n",
      "  Objective range  [0e+00, 0e+00]\n",
      "  QObjective range [6e+00, 3e+01]\n",
      "  Bounds range     [1e+00, 1e+00]\n",
      "  RHS range        [1e+00, 5e+00]\n",
      "  QRHS range       [2e+02, 2e+02]\n",
      "Presolved: 1422 rows, 7476 columns, 33372 nonzeros\n",
      "Presolved model has 27990 quadratic objective terms\n",
      "\n",
      "Continuing optimization...\n",
      "\n",
      " 66480 32865   16.04716   47    6   47.54716    8.54716  82.0%  36.6 1211s\n",
      " 66959 33127 -521.68315   43   18   47.54716    8.54716  82.0%  36.4 1216s\n",
      " 67333 33296 infeasible   45        47.54716    8.54716  82.0%  36.4 1221s\n",
      " 67715 33495 infeasible   36        47.54716    8.54716  82.0%  36.4 1228s\n",
      " 68103 33698 -1291.2135   48  101   47.54716    8.54716  82.0%  36.3 1236s\n",
      " 68489 33920  -40.20818   48    2   47.54716    8.54716  82.0%  36.2 1242s\n",
      " 68959 34144   22.04716   56    6   47.54716    8.54716  82.0%  36.1 1248s\n",
      " 69387 34370 -134.29723   59    4   47.54716    8.54716  82.0%  36.0 1253s\n",
      " 69758 34544 -1163.6583   49   88   47.54716    8.54716  82.0%  36.0 1259s\n",
      " 70148 34742 -1358.3799   50   96   47.54716    8.54716  82.0%  35.9 1266s\n",
      " 70538 34891 -477.50028   55   16   47.54716    8.54716  82.0%  35.8 1273s\n",
      " 70912 35040  -74.60289   53    3   47.54716    8.54716  82.0%  35.8 1280s\n",
      " 71312 35203 -1570.4784   44  130   47.54716    8.54716  82.0%  35.8 1287s\n",
      " 71714 35407 -1686.7356   43  147   47.54716    8.54716  82.0%  35.7 1294s\n",
      " 72136 35605 -1514.6239   44  159   47.54716    8.54716  82.0%  35.6 1300s\n",
      " 72539 35784 -479.03287   48   12   47.54716    8.54716  82.0%  35.6 1306s\n",
      " 72967 35965 -1298.7584   43  100   47.54716    8.54716  82.0%  35.5 1312s\n",
      " 73382 36150 -1795.8771   54  178   47.54716    8.54716  82.0%  35.5 1317s\n",
      " 73792 36367   36.54716   66    6   47.54716    8.54716  82.0%  35.4 1324s\n",
      " 74170 36563  -85.67844   61    3   47.54716    8.54716  82.0%  35.3 1330s\n",
      " 74556 36742 -1451.3559   46  114   47.54716    8.54716  82.0%  35.3 1337s\n",
      " 74933 36909 -341.00211   63   34   47.54716    8.54716  82.0%  35.2 1343s\n",
      " 75359 37088 -1725.8510   48  157   47.54716    8.54716  82.0%  35.2 1349s\n",
      " 75725 37262 -794.07832   44   36   47.54716    8.54716  82.0%  35.2 1355s\n",
      " 76133 37476  -37.45343   67    2   47.54716    8.54716  82.0%  35.1 1361s\n",
      " 76514 37648 -956.19794   53   74   47.54716    8.54716  82.0%  35.0 1367s\n",
      " 76924 37818 -1645.3251   53  151   47.54716    8.54716  82.0%  35.0 1372s\n",
      " 77331 38013 -1345.5472   54   97   47.54716    8.54716  82.0%  34.9 1378s\n",
      " 77734 38193 -1625.0540   37  138   47.54716    8.54716  82.0%  34.9 1384s\n",
      " 78171 38415   33.54716   63    6   47.54716    8.54716  82.0%  34.8 1390s\n",
      " 78605 38623 -114.55981   57    4   47.54716    8.54716  82.0%  34.7 1397s\n",
      " 79039 38837   12.54716   59    6   47.54716    8.54716  82.0%  34.6 1402s\n",
      " 79487 39056 -649.56266   42   43   47.54716    8.54716  82.0%  34.6 1408s\n",
      " 79880 39239 -519.92964   60   27   47.54716    8.54716  82.0%  34.5 1415s\n",
      " 80284 39424 -308.66482   46   13   47.54716    8.54716  82.0%  34.5 1420s\n",
      " 80665 39570 -481.88637   55   11   47.54716    8.54716  82.0%  34.5 1426s\n",
      " 81095 39744 -758.80396   50   52   47.54716    8.54716  82.0%  34.4 1431s\n",
      " 81513 39934 infeasible   42        47.54716    8.54716  82.0%  34.4 1437s\n",
      " 81883 40118   34.54716   54    6   47.54716    8.54716  82.0%  34.3 1442s\n",
      " 82298 40335   19.41383   63    9   47.54716    8.54716  82.0%  34.3 1448s\n",
      " 82731 40550 -1642.6077   48  129   47.54716    8.54716  82.0%  34.2 1453s\n",
      " 83093 40733 infeasible   50        47.54716    8.54716  82.0%  34.2 1458s\n",
      " 83523 40977   -7.95284   68   18   47.54716    8.54716  82.0%  34.1 1464s\n",
      " 83951 41202 -538.69413   57   18   47.54716    8.54716  82.0%  34.0 1471s\n",
      " 84355 41380  -96.69403   62    3   47.54716    8.54716  82.0%  34.0 1477s\n",
      " 84781 41610 -1250.6290   45   81   47.54716    8.54716  82.0%  33.9 1483s\n",
      " 85167 41813 -206.34778   49   16   47.54716    8.54716  82.0%  33.9 1489s\n",
      " 85540 41984  -24.82778   55   26   47.54716    8.54716  82.0%  33.8 1494s\n",
      " 85944 42167 -648.47593   55   20   47.54716    8.54716  82.0%  33.8 1500s\n",
      " 86345 42369 -595.07781   49   24   47.54716    8.54716  82.0%  33.7 1505s\n",
      "\n",
      "Cutting planes:\n",
      "  Clique: 2\n",
      "  MIR: 2\n",
      "  Flow cover: 1\n",
      "  Zero half: 3\n",
      "  Mod-K: 1\n",
      "\n",
      "Explored 86691 nodes (2933414 simplex iterations) in 301.88 seconds\n",
      "Thread count was 4 (of 4 available processors)\n",
      "\n",
      "Solution count 10: 47.5472 49.5472 51.5472 ... 68.5472\n",
      "\n",
      "Time limit reached\n",
      "Best objective 4.754716010724e+01, best bound 8.547160107242e+00, gap 82.0238%\n"
     ]
    }
   ],
   "source": [
    "model.Params.TimeLimit = 300.0\n",
    "model.update()\n",
    "model.optimize()"
   ]
  },
  {
   "cell_type": "markdown",
   "metadata": {},
   "source": [
    "## Optimization result "
   ]
  },
  {
   "cell_type": "code",
   "execution_count": 332,
   "metadata": {},
   "outputs": [
    {
     "name": "stdout",
     "output_type": "stream",
     "text": [
      "\n",
      "    Variable            x \n",
      "-------------------------\n",
      "x[0,2,1,0,0]            1 \n",
      "x[1,2,3,0,2]            1 \n",
      "x[2,1,0,0,0]            1 \n",
      "x[3,0,2,0,3]            1 \n",
      "x[4,2,4,0,1]            1 \n",
      "x[5,1,0,1,0]            1 \n",
      "x[6,1,3,1,3]            1 \n",
      "x[7,2,2,1,1]            1 \n",
      "x[8,0,4,1,0]            1 \n",
      "x[9,2,1,1,0]            1 \n",
      "x[10,0,3,2,0]            1 \n",
      "x[11,0,0,2,1]            1 \n",
      "x[12,0,1,2,2]            1 \n",
      "x[13,1,4,2,0]            1 \n",
      "x[14,1,2,2,2]            1 \n",
      "  y[0,2,1,0]            1 \n",
      "  y[1,2,3,1]            1 \n",
      "  y[2,1,0,0]            1 \n",
      "  y[3,0,2,0]            1 \n",
      "  y[4,2,4,2]            1 \n",
      "  y[5,1,0,1]            1 \n",
      "  y[6,1,3,2]            1 \n",
      "  y[7,2,2,3]            1 \n",
      "  y[8,0,4,1]            1 \n",
      "  y[9,2,1,4]            1 \n",
      " y[10,0,3,2]            1 \n",
      " y[11,0,0,3]            1 \n",
      " y[12,0,1,4]            1 \n",
      " y[13,1,4,3]            1 \n",
      " y[14,1,2,4]            1 \n",
      "     pi[0,0]            1 \n",
      "     pi[1,3]            1 \n",
      "     pi[2,4]            1 \n",
      "       xi[0]            1 \n",
      "       xi[1]            1 \n",
      "       xi[2]            1 \n",
      "  f[0,2,1,0]            1 \n",
      "  f[1,2,3,2]            1 \n",
      "  f[2,1,0,0]            1 \n",
      "  f[3,0,2,3]            1 \n",
      "  f[4,2,4,1]            1 \n",
      "  f[5,1,0,0]            1 \n",
      "  f[6,1,3,3]            1 \n",
      "  f[7,2,2,1]            1 \n",
      "  f[8,0,4,0]            1 \n",
      "  f[9,2,1,0]            1 \n",
      " f[10,0,3,0]            1 \n",
      " f[11,0,0,1]            1 \n",
      " f[12,0,1,2]            1 \n",
      " f[13,1,4,0]            1 \n",
      " f[14,1,2,2]            1 \n",
      "     km[0,0]            1 \n",
      "     km[1,0]            1 \n",
      "     km[2,0]            1 \n",
      "     km[3,0]            1 \n",
      "     km[4,0]            1 \n",
      "     km[5,1]            1 \n",
      "     km[6,1]            1 \n",
      "     km[7,1]            1 \n",
      "     km[8,1]            1 \n",
      "     km[9,1]            1 \n",
      "    km[10,2]            1 \n",
      "    km[11,2]            1 \n",
      "    km[12,2]            1 \n",
      "    km[13,2]            1 \n",
      "    km[14,2]            1 \n"
     ]
    }
   ],
   "source": [
    "model.printAttr('x')"
   ]
  },
  {
   "cell_type": "code",
   "execution_count": 333,
   "metadata": {},
   "outputs": [
    {
     "data": {
      "text/plain": [
       "47.547160107241929"
      ]
     },
     "execution_count": 333,
     "metadata": {},
     "output_type": "execute_result"
    }
   ],
   "source": [
    "left_part_time.getValue()"
   ]
  },
  {
   "cell_type": "code",
   "execution_count": 334,
   "metadata": {},
   "outputs": [
    {
     "data": {
      "text/plain": [
       "39.0"
      ]
     },
     "execution_count": 334,
     "metadata": {},
     "output_type": "execute_result"
    }
   ],
   "source": [
    "left_part_time_1.getValue()"
   ]
  },
  {
   "cell_type": "code",
   "execution_count": 273,
   "metadata": {},
   "outputs": [
    {
     "data": {
      "text/plain": [
       "8.5471601072419308"
      ]
     },
     "execution_count": 273,
     "metadata": {},
     "output_type": "execute_result"
    }
   ],
   "source": [
    "left_part_time_2.getValue()"
   ]
  },
  {
   "cell_type": "markdown",
   "metadata": {},
   "source": [
    "# Conclusion"
   ]
  },
  {
   "cell_type": "markdown",
   "metadata": {},
   "source": [
    "## Evgenii Safronov\n",
    "State different constraints and "
   ]
  },
  {
   "cell_type": "markdown",
   "metadata": {},
   "source": [
    "## Mikhail Kurenkov\n",
    "Formulate dynamic programming approach"
   ]
  },
  {
   "cell_type": "code",
   "execution_count": null,
   "metadata": {
    "collapsed": true
   },
   "outputs": [],
   "source": []
  }
 ],
 "metadata": {
  "kernelspec": {
   "display_name": "Python 3",
   "language": "python",
   "name": "python3"
  },
  "language_info": {
   "codemirror_mode": {
    "name": "ipython",
    "version": 3
   },
   "file_extension": ".py",
   "mimetype": "text/x-python",
   "name": "python",
   "nbconvert_exporter": "python",
   "pygments_lexer": "ipython3",
   "version": "3.6.1"
  },
  "toc": {
   "nav_menu": {},
   "number_sections": true,
   "sideBar": true,
   "skip_h1_title": false,
   "toc_cell": false,
   "toc_position": {},
   "toc_section_display": "block",
   "toc_window_display": false
  },
  "varInspector": {
   "cols": {
    "lenName": 16,
    "lenType": 16,
    "lenVar": 40
   },
   "kernels_config": {
    "python": {
     "delete_cmd_postfix": "",
     "delete_cmd_prefix": "del ",
     "library": "var_list.py",
     "varRefreshCmd": "print(var_dic_list())"
    },
    "r": {
     "delete_cmd_postfix": ") ",
     "delete_cmd_prefix": "rm(",
     "library": "var_list.r",
     "varRefreshCmd": "cat(var_dic_list()) "
    }
   },
   "types_to_exclude": [
    "module",
    "function",
    "builtin_function_or_method",
    "instance",
    "_Feature"
   ],
   "window_display": false
  }
 },
 "nbformat": 4,
 "nbformat_minor": 2
}
